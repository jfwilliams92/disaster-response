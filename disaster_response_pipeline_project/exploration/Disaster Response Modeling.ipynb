{
 "cells": [
  {
   "cell_type": "markdown",
   "metadata": {},
   "source": [
    "# Disaster Reponse Pipeline Creation \n",
    "\n",
    "We are faced with a difficult problem. We have a relatively smalle dataset of 26k messages received during a time of natural disaster. \n",
    "Our task is to distinguish signal from noise - in this case the signal is those people who need aid of some kind. The messages originating from those in need may be hard to detect in the tide of messages related to the disaster.\n",
    "<p>\n",
    "With luck we can train a classifier or series of classifiers to inform us of signal in noise by applying one or more labels to relevant messages.\n",
    "\n",
    "\n",
    "### 1. Import libraries and load data from database.\n",
    "- Import Python libraries\n",
    "- Load dataset from database with [`read_sql_table`](https://pandas.pydata.org/pandas-docs/stable/generated/pandas.read_sql_table.html)\n",
    "- Define feature and target variables X and Y"
   ]
  },
  {
   "cell_type": "code",
   "execution_count": 1,
   "metadata": {},
   "outputs": [
    {
     "name": "stderr",
     "output_type": "stream",
     "text": [
      "[nltk_data] Downloading package stopwords to\n",
      "[nltk_data]     C:\\Users\\jwilliams1\\AppData\\Roaming\\nltk_data...\n",
      "[nltk_data]   Package stopwords is already up-to-date!\n",
      "[nltk_data] Downloading package punkt to\n",
      "[nltk_data]     C:\\Users\\jwilliams1\\AppData\\Roaming\\nltk_data...\n",
      "[nltk_data]   Package punkt is already up-to-date!\n",
      "[nltk_data] Downloading package averaged_perceptron_tagger to\n",
      "[nltk_data]     C:\\Users\\jwilliams1\\AppData\\Roaming\\nltk_data...\n",
      "[nltk_data]   Package averaged_perceptron_tagger is already up-to-\n",
      "[nltk_data]       date!\n",
      "[nltk_data] Downloading package wordnet to\n",
      "[nltk_data]     C:\\Users\\jwilliams1\\AppData\\Roaming\\nltk_data...\n",
      "[nltk_data]   Package wordnet is already up-to-date!\n"
     ]
    }
   ],
   "source": [
    "import nltk\n",
    "nltk.download('stopwords')\n",
    "nltk.download('punkt')\n",
    "nltk.download('averaged_perceptron_tagger')\n",
    "nltk.download('wordnet')\n",
    "\n",
    "# import libraries\n",
    "import pandas as pd\n",
    "import sqlite3\n",
    "import re\n",
    "\n",
    "from nltk.corpus import stopwords\n",
    "stop_words = set(stopwords.words('english'))\n",
    "from nltk.corpus import wordnet\n",
    "from nltk.stem.wordnet import WordNetLemmatizer\n",
    "from nltk import pos_tag\n",
    "from nltk.tokenize import word_tokenize\n",
    "\n",
    "from sqlalchemy import create_engine\n",
    "from sklearn.model_selection import train_test_split\n",
    "from sklearn.pipeline import Pipeline\n",
    "from sklearn.feature_extraction.text import CountVectorizer, TfidfTransformer\n",
    "from sklearn.base import BaseEstimator, TransformerMixin\n",
    "from sklearn.ensemble import RandomForestClassifier\n",
    "from sklearn.metrics import classification_report\n",
    "from sklearn.metrics import confusion_matrix\n",
    "from sklearn.metrics import precision_recall_curve\n",
    "from sklearn.metrics import hamming_loss, make_scorer\n",
    "from sklearn.multioutput import MultiOutputClassifier\n",
    "from sklearn.model_selection import RandomizedSearchCV\n",
    "from sklearn.model_selection import GridSearchCV\n",
    "from sklearn.svm import SVC\n",
    "from sklearn.naive_bayes import GaussianNB\n",
    "\n",
    "from skmultilearn.model_selection import iterative_train_test_split\n",
    "\n",
    "import matplotlib.pyplot as plt\n",
    "%matplotlib inline"
   ]
  },
  {
   "cell_type": "code",
   "execution_count": 2,
   "metadata": {},
   "outputs": [],
   "source": [
    "# load data from database\n",
    "engine = create_engine('sqlite:///DisasterMessages.db')\n",
    "df = pd.read_sql('SELECT * FROM CleanMessages', engine)\n",
    "\n",
    "# define variables. X is input, Y is target\n",
    "X = df['message']\n",
    "Y = df.drop(['id', 'message', 'original', 'genre'], axis=1) "
   ]
  },
  {
   "cell_type": "code",
   "execution_count": 3,
   "metadata": {},
   "outputs": [],
   "source": [
    "# check to make sure we have at least one instance for each label\n",
    "labels_with_no_instance = Y.columns[~(Y == 1).any(axis=0)]\n",
    "Y = Y.drop(labels_with_no_instance, axis=1)"
   ]
  },
  {
   "cell_type": "code",
   "execution_count": 4,
   "metadata": {},
   "outputs": [
    {
     "data": {
      "text/plain": [
       "Index(['child_alone'], dtype='object')"
      ]
     },
     "execution_count": 4,
     "metadata": {},
     "output_type": "execute_result"
    }
   ],
   "source": [
    "labels_with_no_instance"
   ]
  },
  {
   "cell_type": "code",
   "execution_count": 5,
   "metadata": {},
   "outputs": [
    {
     "data": {
      "text/plain": [
       "related                   False\n",
       "request                    True\n",
       "offer                      True\n",
       "aid_related                True\n",
       "medical_help               True\n",
       "medical_products           True\n",
       "search_and_rescue          True\n",
       "security                   True\n",
       "military                   True\n",
       "water                      True\n",
       "food                       True\n",
       "shelter                    True\n",
       "clothing                   True\n",
       "money                      True\n",
       "missing_people             True\n",
       "refugees                   True\n",
       "death                      True\n",
       "other_aid                  True\n",
       "infrastructure_related     True\n",
       "transport                  True\n",
       "buildings                  True\n",
       "electricity                True\n",
       "tools                      True\n",
       "hospitals                  True\n",
       "shops                      True\n",
       "aid_centers                True\n",
       "other_infrastructure       True\n",
       "weather_related            True\n",
       "floods                     True\n",
       "storm                      True\n",
       "fire                       True\n",
       "earthquake                 True\n",
       "cold                       True\n",
       "other_weather              True\n",
       "direct_report              True\n",
       "dtype: bool"
      ]
     },
     "execution_count": 5,
     "metadata": {},
     "output_type": "execute_result"
    }
   ],
   "source": [
    "# check for labels that are not binary\n",
    "(Y.isin([0, 1])).all(axis=0)"
   ]
  },
  {
   "cell_type": "markdown",
   "metadata": {},
   "source": [
    "Uh oh! Looks like all of our labels are binary except for the 'related' column.\n",
    "Let's check it out."
   ]
  },
  {
   "cell_type": "code",
   "execution_count": 6,
   "metadata": {},
   "outputs": [
    {
     "name": "stdout",
     "output_type": "stream",
     "text": [
      "1    19906\n",
      "0     6122\n",
      "2      188\n",
      "Name: related, dtype: int64\n",
      "1    0.759307\n",
      "0    0.233522\n",
      "2    0.007171\n",
      "Name: related, dtype: float64\n"
     ]
    }
   ],
   "source": [
    "cnts = Y.related.value_counts()\n",
    "print(cnts)\n",
    "print(cnts / cnts.sum())"
   ]
  },
  {
   "cell_type": "markdown",
   "metadata": {},
   "source": [
    "We only have 188 instances of 'related' not binary, which is 0.7% of the instances in the dataset.\n",
    "Looks like the non binary values of related are 2's. \n",
    "Since the number is so small, we'll drop them from the dataset. The reasoning behind this approach is that by dropping these rows, we transform the problem from a multiclass-multilabel problem, known as a multioutput problem, down to a multilabel problem.\n"
   ]
  },
  {
   "cell_type": "code",
   "execution_count": 7,
   "metadata": {},
   "outputs": [],
   "source": [
    "index = Y[Y.related == 2].index\n",
    "Y = Y.drop(index)\n",
    "X = X.drop(index)"
   ]
  },
  {
   "cell_type": "code",
   "execution_count": 8,
   "metadata": {},
   "outputs": [
    {
     "data": {
      "text/plain": [
       "((26028,), (26028, 35))"
      ]
     },
     "execution_count": 8,
     "metadata": {},
     "output_type": "execute_result"
    }
   ],
   "source": [
    "X.shape, Y.shape"
   ]
  },
  {
   "cell_type": "code",
   "execution_count": 9,
   "metadata": {},
   "outputs": [
    {
     "data": {
      "text/html": [
       "<div>\n",
       "<style scoped>\n",
       "    .dataframe tbody tr th:only-of-type {\n",
       "        vertical-align: middle;\n",
       "    }\n",
       "\n",
       "    .dataframe tbody tr th {\n",
       "        vertical-align: top;\n",
       "    }\n",
       "\n",
       "    .dataframe thead th {\n",
       "        text-align: right;\n",
       "    }\n",
       "</style>\n",
       "<table border=\"1\" class=\"dataframe\">\n",
       "  <thead>\n",
       "    <tr style=\"text-align: right;\">\n",
       "      <th></th>\n",
       "      <th>id</th>\n",
       "      <th>message</th>\n",
       "      <th>original</th>\n",
       "      <th>genre</th>\n",
       "      <th>related</th>\n",
       "      <th>request</th>\n",
       "      <th>offer</th>\n",
       "      <th>aid_related</th>\n",
       "      <th>medical_help</th>\n",
       "      <th>medical_products</th>\n",
       "      <th>...</th>\n",
       "      <th>aid_centers</th>\n",
       "      <th>other_infrastructure</th>\n",
       "      <th>weather_related</th>\n",
       "      <th>floods</th>\n",
       "      <th>storm</th>\n",
       "      <th>fire</th>\n",
       "      <th>earthquake</th>\n",
       "      <th>cold</th>\n",
       "      <th>other_weather</th>\n",
       "      <th>direct_report</th>\n",
       "    </tr>\n",
       "  </thead>\n",
       "  <tbody>\n",
       "    <tr>\n",
       "      <th>0</th>\n",
       "      <td>2</td>\n",
       "      <td>Weather update - a cold front from Cuba that c...</td>\n",
       "      <td>Un front froid se retrouve sur Cuba ce matin. ...</td>\n",
       "      <td>direct</td>\n",
       "      <td>1</td>\n",
       "      <td>0</td>\n",
       "      <td>0</td>\n",
       "      <td>0</td>\n",
       "      <td>0</td>\n",
       "      <td>0</td>\n",
       "      <td>...</td>\n",
       "      <td>0</td>\n",
       "      <td>0</td>\n",
       "      <td>0</td>\n",
       "      <td>0</td>\n",
       "      <td>0</td>\n",
       "      <td>0</td>\n",
       "      <td>0</td>\n",
       "      <td>0</td>\n",
       "      <td>0</td>\n",
       "      <td>0</td>\n",
       "    </tr>\n",
       "    <tr>\n",
       "      <th>1</th>\n",
       "      <td>7</td>\n",
       "      <td>Is the Hurricane over or is it not over</td>\n",
       "      <td>Cyclone nan fini osinon li pa fini</td>\n",
       "      <td>direct</td>\n",
       "      <td>1</td>\n",
       "      <td>0</td>\n",
       "      <td>0</td>\n",
       "      <td>1</td>\n",
       "      <td>0</td>\n",
       "      <td>0</td>\n",
       "      <td>...</td>\n",
       "      <td>0</td>\n",
       "      <td>0</td>\n",
       "      <td>1</td>\n",
       "      <td>0</td>\n",
       "      <td>1</td>\n",
       "      <td>0</td>\n",
       "      <td>0</td>\n",
       "      <td>0</td>\n",
       "      <td>0</td>\n",
       "      <td>0</td>\n",
       "    </tr>\n",
       "    <tr>\n",
       "      <th>2</th>\n",
       "      <td>8</td>\n",
       "      <td>Looking for someone but no name</td>\n",
       "      <td>Patnm, di Maryani relem pou li banm nouvel li ...</td>\n",
       "      <td>direct</td>\n",
       "      <td>1</td>\n",
       "      <td>0</td>\n",
       "      <td>0</td>\n",
       "      <td>0</td>\n",
       "      <td>0</td>\n",
       "      <td>0</td>\n",
       "      <td>...</td>\n",
       "      <td>0</td>\n",
       "      <td>0</td>\n",
       "      <td>0</td>\n",
       "      <td>0</td>\n",
       "      <td>0</td>\n",
       "      <td>0</td>\n",
       "      <td>0</td>\n",
       "      <td>0</td>\n",
       "      <td>0</td>\n",
       "      <td>0</td>\n",
       "    </tr>\n",
       "    <tr>\n",
       "      <th>3</th>\n",
       "      <td>9</td>\n",
       "      <td>UN reports Leogane 80-90 destroyed. Only Hospi...</td>\n",
       "      <td>UN reports Leogane 80-90 destroyed. Only Hospi...</td>\n",
       "      <td>direct</td>\n",
       "      <td>1</td>\n",
       "      <td>1</td>\n",
       "      <td>0</td>\n",
       "      <td>1</td>\n",
       "      <td>0</td>\n",
       "      <td>1</td>\n",
       "      <td>...</td>\n",
       "      <td>0</td>\n",
       "      <td>0</td>\n",
       "      <td>0</td>\n",
       "      <td>0</td>\n",
       "      <td>0</td>\n",
       "      <td>0</td>\n",
       "      <td>0</td>\n",
       "      <td>0</td>\n",
       "      <td>0</td>\n",
       "      <td>0</td>\n",
       "    </tr>\n",
       "    <tr>\n",
       "      <th>4</th>\n",
       "      <td>12</td>\n",
       "      <td>says: west side of Haiti, rest of the country ...</td>\n",
       "      <td>facade ouest d Haiti et le reste du pays aujou...</td>\n",
       "      <td>direct</td>\n",
       "      <td>1</td>\n",
       "      <td>0</td>\n",
       "      <td>0</td>\n",
       "      <td>0</td>\n",
       "      <td>0</td>\n",
       "      <td>0</td>\n",
       "      <td>...</td>\n",
       "      <td>0</td>\n",
       "      <td>0</td>\n",
       "      <td>0</td>\n",
       "      <td>0</td>\n",
       "      <td>0</td>\n",
       "      <td>0</td>\n",
       "      <td>0</td>\n",
       "      <td>0</td>\n",
       "      <td>0</td>\n",
       "      <td>0</td>\n",
       "    </tr>\n",
       "  </tbody>\n",
       "</table>\n",
       "<p>5 rows × 40 columns</p>\n",
       "</div>"
      ],
      "text/plain": [
       "   id                                            message  \\\n",
       "0   2  Weather update - a cold front from Cuba that c...   \n",
       "1   7            Is the Hurricane over or is it not over   \n",
       "2   8                    Looking for someone but no name   \n",
       "3   9  UN reports Leogane 80-90 destroyed. Only Hospi...   \n",
       "4  12  says: west side of Haiti, rest of the country ...   \n",
       "\n",
       "                                            original   genre  related  \\\n",
       "0  Un front froid se retrouve sur Cuba ce matin. ...  direct        1   \n",
       "1                 Cyclone nan fini osinon li pa fini  direct        1   \n",
       "2  Patnm, di Maryani relem pou li banm nouvel li ...  direct        1   \n",
       "3  UN reports Leogane 80-90 destroyed. Only Hospi...  direct        1   \n",
       "4  facade ouest d Haiti et le reste du pays aujou...  direct        1   \n",
       "\n",
       "   request  offer  aid_related  medical_help  medical_products      ...        \\\n",
       "0        0      0            0             0                 0      ...         \n",
       "1        0      0            1             0                 0      ...         \n",
       "2        0      0            0             0                 0      ...         \n",
       "3        1      0            1             0                 1      ...         \n",
       "4        0      0            0             0                 0      ...         \n",
       "\n",
       "   aid_centers  other_infrastructure  weather_related  floods  storm  fire  \\\n",
       "0            0                     0                0       0      0     0   \n",
       "1            0                     0                1       0      1     0   \n",
       "2            0                     0                0       0      0     0   \n",
       "3            0                     0                0       0      0     0   \n",
       "4            0                     0                0       0      0     0   \n",
       "\n",
       "   earthquake  cold  other_weather  direct_report  \n",
       "0           0     0              0              0  \n",
       "1           0     0              0              0  \n",
       "2           0     0              0              0  \n",
       "3           0     0              0              0  \n",
       "4           0     0              0              0  \n",
       "\n",
       "[5 rows x 40 columns]"
      ]
     },
     "execution_count": 9,
     "metadata": {},
     "output_type": "execute_result"
    }
   ],
   "source": [
    "# original data\n",
    "df.head(5)"
   ]
  },
  {
   "cell_type": "code",
   "execution_count": 10,
   "metadata": {},
   "outputs": [
    {
     "data": {
      "text/plain": [
       "(26216, 40)"
      ]
     },
     "execution_count": 10,
     "metadata": {},
     "output_type": "execute_result"
    }
   ],
   "source": [
    "# check the shape of the original data \n",
    "df.shape"
   ]
  },
  {
   "cell_type": "markdown",
   "metadata": {},
   "source": [
    "We've dropped 188 rows and 5 columns."
   ]
  },
  {
   "cell_type": "markdown",
   "metadata": {},
   "source": [
    "### 2. Write a tokenization class to process the text data"
   ]
  },
  {
   "cell_type": "markdown",
   "metadata": {},
   "source": [
    "Lemmatization is a way to reduce words to their root or base form. <br>\n",
    "The process is more accurate if the lemmatizer knows to which part of speech the word belongs. <br>\n",
    "Therefore, as part of the lemmatization process, we will tag each word with nltk's pos_tag function. <br>\n",
    "This POS tag is a Treebank POS tag - in order to utilize it with the WordNet lemmatizer, we have to convert the Treebank POS tag to a WordNet POS tag. <br>\n",
    "Then, we will pass this POS tag to the lemmatizer along with the word."
   ]
  },
  {
   "cell_type": "code",
   "execution_count": 11,
   "metadata": {},
   "outputs": [],
   "source": [
    "# define a function that will allow a treebank POS tag to be converted into a WordNet\n",
    "# POS Tag so the lemmatizer will understand it\n",
    "def get_wordnet_pos(treebank_tag):\n",
    "\n",
    "    if treebank_tag.startswith('J'):\n",
    "        return wordnet.ADJ\n",
    "    elif treebank_tag.startswith('V'):\n",
    "        return wordnet.VERB\n",
    "    elif treebank_tag.startswith('N'):\n",
    "        return wordnet.NOUN\n",
    "    elif treebank_tag.startswith('R'):\n",
    "        return wordnet.ADV\n",
    "    # default to Noun \n",
    "    else:\n",
    "        return wordnet.NOUN"
   ]
  },
  {
   "cell_type": "markdown",
   "metadata": {},
   "source": [
    "Removing stop words is another common step in processing text data. Stop words are common words in a language that may potentially confuse a classifier due to their frequency."
   ]
  },
  {
   "cell_type": "markdown",
   "metadata": {},
   "source": [
    "We will implement a custom transformer with hyperparameters in order to determine if removing stop words and/or lemmatizing words will have a positive effect on classification efficacy.\n",
    "This custom transformer follows sklearn's rules for transformers so that it can be used in our processing pipeline."
   ]
  },
  {
   "cell_type": "code",
   "execution_count": 12,
   "metadata": {},
   "outputs": [],
   "source": [
    "# implement a custom transformer to determine if removing stops and/or lemmatizing improves model performance\n",
    "\n",
    "class MessageTokenizer(BaseEstimator, TransformerMixin):\n",
    "    def __init__(self, remove_stops=True, lemmatize=True):\n",
    "        self.remove_stops = remove_stops\n",
    "        self.lemmatize = lemmatize\n",
    "        \n",
    "    def fit(self, X, y=None):\n",
    "        return self\n",
    "    \n",
    "    def transform(self, X, y=None):\n",
    "        X_transformed = []\n",
    "        \n",
    "        # iterate over supplied messages\n",
    "        for text in X: \n",
    "            # sub out any urls \n",
    "            text = re.sub(r'^https?:\\/\\/.*[\\r\\n]*', '', text, flags=re.MULTILINE)\n",
    "            \n",
    "            # remove all non-alphanumeric characters\n",
    "            text = re.sub(r'[^a-zA-Z0-9]', ' ', text)\n",
    "              \n",
    "            # lower and strip whitespace\n",
    "            text = text.lower().strip()\n",
    "    \n",
    "            # tokenize words - nltk.tokenize.word_tokenize\n",
    "            words = word_tokenize(text)\n",
    "            \n",
    "            if self.lemmatize:\n",
    "                # tag words with Part of Speech - list of (word, POS) tuples \n",
    "                # nltk.pos_tag()\n",
    "                words_with_pos_tag = pos_tag(words)\n",
    "                \n",
    "                if self.remove_stops:\n",
    "                    # remove stop words\n",
    "                    # stop_words = nlt.corpus.stopwords of 'english' language\n",
    "                    words_with_pos_tag = [word for word in words_with_pos_tag if word[0] not in stop_words]\n",
    "                \n",
    "                # change pos tags to wordnet pos tags for lemmatizer\n",
    "                words_with_wordnet_tag = []\n",
    "    \n",
    "                for word_with_tag in words_with_pos_tag:\n",
    "                    word, tag = word_with_tag\n",
    "                    tag = get_wordnet_pos(tag)\n",
    "                    words_with_wordnet_tag.append((word, tag))\n",
    "\n",
    "                # lemmatize\n",
    "                lemm = WordNetLemmatizer()\n",
    "                # unpack the (word, pos) tuple into the Lemmatizer to give better lemmatization \n",
    "                # lemmatization is more effective when it knows the correct part of speech\n",
    "                words = [lemm.lemmatize(*w) for w in words_with_wordnet_tag]\n",
    "                \n",
    "            else:\n",
    "                if self.remove_stops:\n",
    "                    words = [word for word in words if word not in stop_words]\n",
    "\n",
    "            # join cleaned words back into single document\n",
    "            X_transformed.append(' '.join(words))\n",
    "        \n",
    "        return X_transformed    "
   ]
  },
  {
   "cell_type": "markdown",
   "metadata": {},
   "source": [
    "Show off the custom transformer"
   ]
  },
  {
   "cell_type": "code",
   "execution_count": 13,
   "metadata": {},
   "outputs": [
    {
     "data": {
      "text/plain": [
       "['We would not want these words taking up space in our database, or taking up valuable processing time. For this, we can remove them easily, by storing a list of words that you consider to be stop words',\n",
       " \"Here is another example of words. Isn't it great how words can be manipulated?\"]"
      ]
     },
     "execution_count": 13,
     "metadata": {},
     "output_type": "execute_result"
    }
   ],
   "source": [
    "text = [\"We would not want these words taking up space in our database, or taking up valuable processing time. For this, we can remove them easily, by storing a list of words that you consider to be stop words\"]\n",
    "text.append(\"Here is another example of words. Isn't it great how words can be manipulated?\")\n",
    "\n",
    "text"
   ]
  },
  {
   "cell_type": "code",
   "execution_count": 14,
   "metadata": {},
   "outputs": [
    {
     "data": {
      "text/plain": [
       "['we would not want these word take up space in our database or take up valuable processing time for this we can remove them easily by store a list of word that you consider to be stop word',\n",
       " 'here be another example of word isn t it great how word can be manipulate']"
      ]
     },
     "execution_count": 14,
     "metadata": {},
     "output_type": "execute_result"
    }
   ],
   "source": [
    "MessageTokenizer(remove_stops=False, lemmatize=True).transform(text)"
   ]
  },
  {
   "cell_type": "markdown",
   "metadata": {},
   "source": [
    "### 3. Build a first machine learning pipeline\n",
    "A pipeline allows us to wrap all of our data transformation steps into a neat little package."
   ]
  },
  {
   "cell_type": "code",
   "execution_count": 15,
   "metadata": {},
   "outputs": [],
   "source": [
    "pipeline = Pipeline([\n",
    "    ('msg_tokenizer', MessageTokenizer()),\n",
    "    # Count Vectorizer with Tokenizer\n",
    "    ('count_vec', CountVectorizer()),\n",
    "    # TF-IDF Transformer\n",
    "    ('tfidf', TfidfTransformer()),\n",
    "    # classifier - one classifier per label\n",
    "    ('clf', RandomForestClassifier())\n",
    "])"
   ]
  },
  {
   "cell_type": "markdown",
   "metadata": {},
   "source": [
    "### 4. Train pipeline\n",
    "- Split data into train and test sets\n",
    "- Train pipeline"
   ]
  },
  {
   "cell_type": "markdown",
   "metadata": {},
   "source": [
    "Since this is a multilabel classification, I looked into the iterative train-test-split supplied by skmultilearn.\n",
    "The idea with the iterative train test split is that in theory it can provide better label representation for mutli label problems. Here I will compare whether this train test split results in appropriate label representation for the train set."
   ]
  },
  {
   "cell_type": "code",
   "execution_count": 16,
   "metadata": {},
   "outputs": [],
   "source": [
    "# get the proportion of labels in the original data\n",
    "compare = pd.DataFrame(Y.mean(axis=0), columns=['dataset'])"
   ]
  },
  {
   "cell_type": "code",
   "execution_count": 17,
   "metadata": {},
   "outputs": [
    {
     "data": {
      "text/html": [
       "<div>\n",
       "<style scoped>\n",
       "    .dataframe tbody tr th:only-of-type {\n",
       "        vertical-align: middle;\n",
       "    }\n",
       "\n",
       "    .dataframe tbody tr th {\n",
       "        vertical-align: top;\n",
       "    }\n",
       "\n",
       "    .dataframe thead th {\n",
       "        text-align: right;\n",
       "    }\n",
       "</style>\n",
       "<table border=\"1\" class=\"dataframe\">\n",
       "  <thead>\n",
       "    <tr style=\"text-align: right;\">\n",
       "      <th></th>\n",
       "      <th>dataset</th>\n",
       "    </tr>\n",
       "  </thead>\n",
       "  <tbody>\n",
       "    <tr>\n",
       "      <th>related</th>\n",
       "      <td>0.764792</td>\n",
       "    </tr>\n",
       "    <tr>\n",
       "      <th>request</th>\n",
       "      <td>0.171892</td>\n",
       "    </tr>\n",
       "    <tr>\n",
       "      <th>offer</th>\n",
       "      <td>0.004534</td>\n",
       "    </tr>\n",
       "    <tr>\n",
       "      <th>aid_related</th>\n",
       "      <td>0.417243</td>\n",
       "    </tr>\n",
       "    <tr>\n",
       "      <th>medical_help</th>\n",
       "      <td>0.080068</td>\n",
       "    </tr>\n",
       "  </tbody>\n",
       "</table>\n",
       "</div>"
      ],
      "text/plain": [
       "               dataset\n",
       "related       0.764792\n",
       "request       0.171892\n",
       "offer         0.004534\n",
       "aid_related   0.417243\n",
       "medical_help  0.080068"
      ]
     },
     "execution_count": 17,
     "metadata": {},
     "output_type": "execute_result"
    }
   ],
   "source": [
    "compare.head()"
   ]
  },
  {
   "cell_type": "code",
   "execution_count": 18,
   "metadata": {},
   "outputs": [],
   "source": [
    "# employ skmultilearn's iterative train test split.\n",
    "# have to reshape the X values to be multidimensional since that's what this expects\n",
    "\n",
    "X_train, y_train, X_test, y_test = iterative_train_test_split(X.values.reshape(-1,1), Y.values, test_size = 0.25)"
   ]
  },
  {
   "cell_type": "code",
   "execution_count": 19,
   "metadata": {},
   "outputs": [],
   "source": [
    "# we want to see how the iterative split did with label proportions\n",
    "compare['train_set'] = y_train.mean(axis=0)"
   ]
  },
  {
   "cell_type": "code",
   "execution_count": 20,
   "metadata": {},
   "outputs": [],
   "source": [
    "# normal train test split - how does it compare\n",
    "X_train2, X_test2, y_train2, y_test2 = train_test_split(X, Y, test_size=0.25)"
   ]
  },
  {
   "cell_type": "code",
   "execution_count": 21,
   "metadata": {},
   "outputs": [],
   "source": [
    "compare['normal_split'] = y_train2.values.mean(axis=0)"
   ]
  },
  {
   "cell_type": "code",
   "execution_count": 22,
   "metadata": {},
   "outputs": [
    {
     "data": {
      "text/html": [
       "<div>\n",
       "<style scoped>\n",
       "    .dataframe tbody tr th:only-of-type {\n",
       "        vertical-align: middle;\n",
       "    }\n",
       "\n",
       "    .dataframe tbody tr th {\n",
       "        vertical-align: top;\n",
       "    }\n",
       "\n",
       "    .dataframe thead th {\n",
       "        text-align: right;\n",
       "    }\n",
       "</style>\n",
       "<table border=\"1\" class=\"dataframe\">\n",
       "  <thead>\n",
       "    <tr style=\"text-align: right;\">\n",
       "      <th></th>\n",
       "      <th>dataset</th>\n",
       "      <th>train_set</th>\n",
       "      <th>normal_split</th>\n",
       "    </tr>\n",
       "  </thead>\n",
       "  <tbody>\n",
       "    <tr>\n",
       "      <th>related</th>\n",
       "      <td>0.764792</td>\n",
       "      <td>0.764766</td>\n",
       "      <td>0.763793</td>\n",
       "    </tr>\n",
       "    <tr>\n",
       "      <th>request</th>\n",
       "      <td>0.171892</td>\n",
       "      <td>0.136929</td>\n",
       "      <td>0.172174</td>\n",
       "    </tr>\n",
       "    <tr>\n",
       "      <th>offer</th>\n",
       "      <td>0.004534</td>\n",
       "      <td>0.004559</td>\n",
       "      <td>0.004713</td>\n",
       "    </tr>\n",
       "    <tr>\n",
       "      <th>aid_related</th>\n",
       "      <td>0.417243</td>\n",
       "      <td>0.417243</td>\n",
       "      <td>0.416218</td>\n",
       "    </tr>\n",
       "    <tr>\n",
       "      <th>medical_help</th>\n",
       "      <td>0.080068</td>\n",
       "      <td>0.087496</td>\n",
       "      <td>0.080068</td>\n",
       "    </tr>\n",
       "    <tr>\n",
       "      <th>medical_products</th>\n",
       "      <td>0.050446</td>\n",
       "      <td>0.052764</td>\n",
       "      <td>0.051022</td>\n",
       "    </tr>\n",
       "    <tr>\n",
       "      <th>search_and_rescue</th>\n",
       "      <td>0.027816</td>\n",
       "      <td>0.028277</td>\n",
       "      <td>0.027765</td>\n",
       "    </tr>\n",
       "    <tr>\n",
       "      <th>security</th>\n",
       "      <td>0.018096</td>\n",
       "      <td>0.019415</td>\n",
       "      <td>0.018493</td>\n",
       "    </tr>\n",
       "    <tr>\n",
       "      <th>military</th>\n",
       "      <td>0.033041</td>\n",
       "      <td>0.041596</td>\n",
       "      <td>0.032119</td>\n",
       "    </tr>\n",
       "    <tr>\n",
       "      <th>water</th>\n",
       "      <td>0.064239</td>\n",
       "      <td>0.063521</td>\n",
       "      <td>0.064187</td>\n",
       "    </tr>\n",
       "    <tr>\n",
       "      <th>food</th>\n",
       "      <td>0.112302</td>\n",
       "      <td>0.100968</td>\n",
       "      <td>0.112648</td>\n",
       "    </tr>\n",
       "    <tr>\n",
       "      <th>shelter</th>\n",
       "      <td>0.088904</td>\n",
       "      <td>0.086471</td>\n",
       "      <td>0.087854</td>\n",
       "    </tr>\n",
       "    <tr>\n",
       "      <th>clothing</th>\n",
       "      <td>0.015560</td>\n",
       "      <td>0.013114</td>\n",
       "      <td>0.015727</td>\n",
       "    </tr>\n",
       "    <tr>\n",
       "      <th>money</th>\n",
       "      <td>0.023206</td>\n",
       "      <td>0.024230</td>\n",
       "      <td>0.023667</td>\n",
       "    </tr>\n",
       "    <tr>\n",
       "      <th>missing_people</th>\n",
       "      <td>0.011449</td>\n",
       "      <td>0.011116</td>\n",
       "      <td>0.011372</td>\n",
       "    </tr>\n",
       "    <tr>\n",
       "      <th>refugees</th>\n",
       "      <td>0.033618</td>\n",
       "      <td>0.038113</td>\n",
       "      <td>0.034220</td>\n",
       "    </tr>\n",
       "    <tr>\n",
       "      <th>death</th>\n",
       "      <td>0.045874</td>\n",
       "      <td>0.049434</td>\n",
       "      <td>0.045848</td>\n",
       "    </tr>\n",
       "    <tr>\n",
       "      <th>other_aid</th>\n",
       "      <td>0.132396</td>\n",
       "      <td>0.122125</td>\n",
       "      <td>0.132780</td>\n",
       "    </tr>\n",
       "    <tr>\n",
       "      <th>infrastructure_related</th>\n",
       "      <td>0.065506</td>\n",
       "      <td>0.068285</td>\n",
       "      <td>0.066083</td>\n",
       "    </tr>\n",
       "    <tr>\n",
       "      <th>transport</th>\n",
       "      <td>0.046143</td>\n",
       "      <td>0.046975</td>\n",
       "      <td>0.046412</td>\n",
       "    </tr>\n",
       "    <tr>\n",
       "      <th>buildings</th>\n",
       "      <td>0.051214</td>\n",
       "      <td>0.051227</td>\n",
       "      <td>0.051227</td>\n",
       "    </tr>\n",
       "    <tr>\n",
       "      <th>electricity</th>\n",
       "      <td>0.020440</td>\n",
       "      <td>0.020440</td>\n",
       "      <td>0.020388</td>\n",
       "    </tr>\n",
       "    <tr>\n",
       "      <th>tools</th>\n",
       "      <td>0.006109</td>\n",
       "      <td>0.006557</td>\n",
       "      <td>0.005942</td>\n",
       "    </tr>\n",
       "    <tr>\n",
       "      <th>hospitals</th>\n",
       "      <td>0.010873</td>\n",
       "      <td>0.011577</td>\n",
       "      <td>0.010860</td>\n",
       "    </tr>\n",
       "    <tr>\n",
       "      <th>shops</th>\n",
       "      <td>0.004610</td>\n",
       "      <td>0.004662</td>\n",
       "      <td>0.004764</td>\n",
       "    </tr>\n",
       "    <tr>\n",
       "      <th>aid_centers</th>\n",
       "      <td>0.011872</td>\n",
       "      <td>0.012755</td>\n",
       "      <td>0.011885</td>\n",
       "    </tr>\n",
       "    <tr>\n",
       "      <th>other_infrastructure</th>\n",
       "      <td>0.044222</td>\n",
       "      <td>0.046155</td>\n",
       "      <td>0.045080</td>\n",
       "    </tr>\n",
       "    <tr>\n",
       "      <th>weather_related</th>\n",
       "      <td>0.280352</td>\n",
       "      <td>0.280365</td>\n",
       "      <td>0.284104</td>\n",
       "    </tr>\n",
       "    <tr>\n",
       "      <th>floods</th>\n",
       "      <td>0.082795</td>\n",
       "      <td>0.092874</td>\n",
       "      <td>0.083449</td>\n",
       "    </tr>\n",
       "    <tr>\n",
       "      <th>storm</th>\n",
       "      <td>0.093860</td>\n",
       "      <td>0.093284</td>\n",
       "      <td>0.095999</td>\n",
       "    </tr>\n",
       "    <tr>\n",
       "      <th>fire</th>\n",
       "      <td>0.010834</td>\n",
       "      <td>0.011833</td>\n",
       "      <td>0.011116</td>\n",
       "    </tr>\n",
       "    <tr>\n",
       "      <th>earthquake</th>\n",
       "      <td>0.094321</td>\n",
       "      <td>0.082424</td>\n",
       "      <td>0.095231</td>\n",
       "    </tr>\n",
       "    <tr>\n",
       "      <th>cold</th>\n",
       "      <td>0.020363</td>\n",
       "      <td>0.022028</td>\n",
       "      <td>0.020644</td>\n",
       "    </tr>\n",
       "    <tr>\n",
       "      <th>other_weather</th>\n",
       "      <td>0.052866</td>\n",
       "      <td>0.058911</td>\n",
       "      <td>0.053891</td>\n",
       "    </tr>\n",
       "    <tr>\n",
       "      <th>direct_report</th>\n",
       "      <td>0.194982</td>\n",
       "      <td>0.159264</td>\n",
       "      <td>0.194970</td>\n",
       "    </tr>\n",
       "  </tbody>\n",
       "</table>\n",
       "</div>"
      ],
      "text/plain": [
       "                         dataset  train_set  normal_split\n",
       "related                 0.764792   0.764766      0.763793\n",
       "request                 0.171892   0.136929      0.172174\n",
       "offer                   0.004534   0.004559      0.004713\n",
       "aid_related             0.417243   0.417243      0.416218\n",
       "medical_help            0.080068   0.087496      0.080068\n",
       "medical_products        0.050446   0.052764      0.051022\n",
       "search_and_rescue       0.027816   0.028277      0.027765\n",
       "security                0.018096   0.019415      0.018493\n",
       "military                0.033041   0.041596      0.032119\n",
       "water                   0.064239   0.063521      0.064187\n",
       "food                    0.112302   0.100968      0.112648\n",
       "shelter                 0.088904   0.086471      0.087854\n",
       "clothing                0.015560   0.013114      0.015727\n",
       "money                   0.023206   0.024230      0.023667\n",
       "missing_people          0.011449   0.011116      0.011372\n",
       "refugees                0.033618   0.038113      0.034220\n",
       "death                   0.045874   0.049434      0.045848\n",
       "other_aid               0.132396   0.122125      0.132780\n",
       "infrastructure_related  0.065506   0.068285      0.066083\n",
       "transport               0.046143   0.046975      0.046412\n",
       "buildings               0.051214   0.051227      0.051227\n",
       "electricity             0.020440   0.020440      0.020388\n",
       "tools                   0.006109   0.006557      0.005942\n",
       "hospitals               0.010873   0.011577      0.010860\n",
       "shops                   0.004610   0.004662      0.004764\n",
       "aid_centers             0.011872   0.012755      0.011885\n",
       "other_infrastructure    0.044222   0.046155      0.045080\n",
       "weather_related         0.280352   0.280365      0.284104\n",
       "floods                  0.082795   0.092874      0.083449\n",
       "storm                   0.093860   0.093284      0.095999\n",
       "fire                    0.010834   0.011833      0.011116\n",
       "earthquake              0.094321   0.082424      0.095231\n",
       "cold                    0.020363   0.022028      0.020644\n",
       "other_weather           0.052866   0.058911      0.053891\n",
       "direct_report           0.194982   0.159264      0.194970"
      ]
     },
     "execution_count": 22,
     "metadata": {},
     "output_type": "execute_result"
    }
   ],
   "source": [
    "compare"
   ]
  },
  {
   "cell_type": "code",
   "execution_count": 23,
   "metadata": {},
   "outputs": [
    {
     "data": {
      "text/html": [
       "<div>\n",
       "<style scoped>\n",
       "    .dataframe tbody tr th:only-of-type {\n",
       "        vertical-align: middle;\n",
       "    }\n",
       "\n",
       "    .dataframe tbody tr th {\n",
       "        vertical-align: top;\n",
       "    }\n",
       "\n",
       "    .dataframe thead th {\n",
       "        text-align: right;\n",
       "    }\n",
       "</style>\n",
       "<table border=\"1\" class=\"dataframe\">\n",
       "  <thead>\n",
       "    <tr style=\"text-align: right;\">\n",
       "      <th></th>\n",
       "      <th>dataset - normalsplit</th>\n",
       "      <th>dataset - iterative split</th>\n",
       "    </tr>\n",
       "  </thead>\n",
       "  <tbody>\n",
       "    <tr>\n",
       "      <th>related</th>\n",
       "      <td>0.000999</td>\n",
       "      <td>0.000026</td>\n",
       "    </tr>\n",
       "    <tr>\n",
       "      <th>request</th>\n",
       "      <td>-0.000282</td>\n",
       "      <td>0.034962</td>\n",
       "    </tr>\n",
       "    <tr>\n",
       "      <th>offer</th>\n",
       "      <td>-0.000179</td>\n",
       "      <td>-0.000026</td>\n",
       "    </tr>\n",
       "    <tr>\n",
       "      <th>aid_related</th>\n",
       "      <td>0.001025</td>\n",
       "      <td>0.000000</td>\n",
       "    </tr>\n",
       "    <tr>\n",
       "      <th>medical_help</th>\n",
       "      <td>0.000000</td>\n",
       "      <td>-0.007428</td>\n",
       "    </tr>\n",
       "    <tr>\n",
       "      <th>medical_products</th>\n",
       "      <td>-0.000576</td>\n",
       "      <td>-0.002318</td>\n",
       "    </tr>\n",
       "    <tr>\n",
       "      <th>search_and_rescue</th>\n",
       "      <td>0.000051</td>\n",
       "      <td>-0.000461</td>\n",
       "    </tr>\n",
       "    <tr>\n",
       "      <th>security</th>\n",
       "      <td>-0.000397</td>\n",
       "      <td>-0.001319</td>\n",
       "    </tr>\n",
       "    <tr>\n",
       "      <th>military</th>\n",
       "      <td>0.000922</td>\n",
       "      <td>-0.008555</td>\n",
       "    </tr>\n",
       "    <tr>\n",
       "      <th>water</th>\n",
       "      <td>0.000051</td>\n",
       "      <td>0.000717</td>\n",
       "    </tr>\n",
       "    <tr>\n",
       "      <th>food</th>\n",
       "      <td>-0.000346</td>\n",
       "      <td>0.011334</td>\n",
       "    </tr>\n",
       "    <tr>\n",
       "      <th>shelter</th>\n",
       "      <td>0.001050</td>\n",
       "      <td>0.002433</td>\n",
       "    </tr>\n",
       "    <tr>\n",
       "      <th>clothing</th>\n",
       "      <td>-0.000166</td>\n",
       "      <td>0.002446</td>\n",
       "    </tr>\n",
       "    <tr>\n",
       "      <th>money</th>\n",
       "      <td>-0.000461</td>\n",
       "      <td>-0.001025</td>\n",
       "    </tr>\n",
       "    <tr>\n",
       "      <th>missing_people</th>\n",
       "      <td>0.000077</td>\n",
       "      <td>0.000333</td>\n",
       "    </tr>\n",
       "    <tr>\n",
       "      <th>refugees</th>\n",
       "      <td>-0.000602</td>\n",
       "      <td>-0.004495</td>\n",
       "    </tr>\n",
       "    <tr>\n",
       "      <th>death</th>\n",
       "      <td>0.000026</td>\n",
       "      <td>-0.003560</td>\n",
       "    </tr>\n",
       "    <tr>\n",
       "      <th>other_aid</th>\n",
       "      <td>-0.000384</td>\n",
       "      <td>0.010271</td>\n",
       "    </tr>\n",
       "    <tr>\n",
       "      <th>infrastructure_related</th>\n",
       "      <td>-0.000576</td>\n",
       "      <td>-0.002779</td>\n",
       "    </tr>\n",
       "    <tr>\n",
       "      <th>transport</th>\n",
       "      <td>-0.000269</td>\n",
       "      <td>-0.000832</td>\n",
       "    </tr>\n",
       "    <tr>\n",
       "      <th>buildings</th>\n",
       "      <td>-0.000013</td>\n",
       "      <td>-0.000013</td>\n",
       "    </tr>\n",
       "    <tr>\n",
       "      <th>electricity</th>\n",
       "      <td>0.000051</td>\n",
       "      <td>0.000000</td>\n",
       "    </tr>\n",
       "    <tr>\n",
       "      <th>tools</th>\n",
       "      <td>0.000166</td>\n",
       "      <td>-0.000448</td>\n",
       "    </tr>\n",
       "    <tr>\n",
       "      <th>hospitals</th>\n",
       "      <td>0.000013</td>\n",
       "      <td>-0.000704</td>\n",
       "    </tr>\n",
       "    <tr>\n",
       "      <th>shops</th>\n",
       "      <td>-0.000154</td>\n",
       "      <td>-0.000051</td>\n",
       "    </tr>\n",
       "    <tr>\n",
       "      <th>aid_centers</th>\n",
       "      <td>-0.000013</td>\n",
       "      <td>-0.000884</td>\n",
       "    </tr>\n",
       "    <tr>\n",
       "      <th>other_infrastructure</th>\n",
       "      <td>-0.000858</td>\n",
       "      <td>-0.001934</td>\n",
       "    </tr>\n",
       "    <tr>\n",
       "      <th>weather_related</th>\n",
       "      <td>-0.003752</td>\n",
       "      <td>-0.000013</td>\n",
       "    </tr>\n",
       "    <tr>\n",
       "      <th>floods</th>\n",
       "      <td>-0.000653</td>\n",
       "      <td>-0.010079</td>\n",
       "    </tr>\n",
       "    <tr>\n",
       "      <th>storm</th>\n",
       "      <td>-0.002139</td>\n",
       "      <td>0.000576</td>\n",
       "    </tr>\n",
       "    <tr>\n",
       "      <th>fire</th>\n",
       "      <td>-0.000282</td>\n",
       "      <td>-0.000999</td>\n",
       "    </tr>\n",
       "    <tr>\n",
       "      <th>earthquake</th>\n",
       "      <td>-0.000909</td>\n",
       "      <td>0.011897</td>\n",
       "    </tr>\n",
       "    <tr>\n",
       "      <th>cold</th>\n",
       "      <td>-0.000282</td>\n",
       "      <td>-0.001665</td>\n",
       "    </tr>\n",
       "    <tr>\n",
       "      <th>other_weather</th>\n",
       "      <td>-0.001025</td>\n",
       "      <td>-0.006045</td>\n",
       "    </tr>\n",
       "    <tr>\n",
       "      <th>direct_report</th>\n",
       "      <td>0.000013</td>\n",
       "      <td>0.035718</td>\n",
       "    </tr>\n",
       "  </tbody>\n",
       "</table>\n",
       "</div>"
      ],
      "text/plain": [
       "                        dataset - normalsplit  dataset - iterative split\n",
       "related                              0.000999                   0.000026\n",
       "request                             -0.000282                   0.034962\n",
       "offer                               -0.000179                  -0.000026\n",
       "aid_related                          0.001025                   0.000000\n",
       "medical_help                         0.000000                  -0.007428\n",
       "medical_products                    -0.000576                  -0.002318\n",
       "search_and_rescue                    0.000051                  -0.000461\n",
       "security                            -0.000397                  -0.001319\n",
       "military                             0.000922                  -0.008555\n",
       "water                                0.000051                   0.000717\n",
       "food                                -0.000346                   0.011334\n",
       "shelter                              0.001050                   0.002433\n",
       "clothing                            -0.000166                   0.002446\n",
       "money                               -0.000461                  -0.001025\n",
       "missing_people                       0.000077                   0.000333\n",
       "refugees                            -0.000602                  -0.004495\n",
       "death                                0.000026                  -0.003560\n",
       "other_aid                           -0.000384                   0.010271\n",
       "infrastructure_related              -0.000576                  -0.002779\n",
       "transport                           -0.000269                  -0.000832\n",
       "buildings                           -0.000013                  -0.000013\n",
       "electricity                          0.000051                   0.000000\n",
       "tools                                0.000166                  -0.000448\n",
       "hospitals                            0.000013                  -0.000704\n",
       "shops                               -0.000154                  -0.000051\n",
       "aid_centers                         -0.000013                  -0.000884\n",
       "other_infrastructure                -0.000858                  -0.001934\n",
       "weather_related                     -0.003752                  -0.000013\n",
       "floods                              -0.000653                  -0.010079\n",
       "storm                               -0.002139                   0.000576\n",
       "fire                                -0.000282                  -0.000999\n",
       "earthquake                          -0.000909                   0.011897\n",
       "cold                                -0.000282                  -0.001665\n",
       "other_weather                       -0.001025                  -0.006045\n",
       "direct_report                        0.000013                   0.035718"
      ]
     },
     "execution_count": 23,
     "metadata": {},
     "output_type": "execute_result"
    }
   ],
   "source": [
    "diff = pd.DataFrame(compare['dataset'] - compare['normal_split'])\n",
    "diff.columns = ['dataset - normalsplit']\n",
    "diff['dataset - iterative split'] = compare['dataset'] - compare['train_set']\n",
    "diff"
   ]
  },
  {
   "cell_type": "code",
   "execution_count": 24,
   "metadata": {},
   "outputs": [
    {
     "data": {
      "image/png": "[encoded data removed]",
      "text/plain": [
       "<Figure size 720x720 with 1 Axes>"
      ]
     },
     "metadata": {
      "needs_background": "light"
     },
     "output_type": "display_data"
    }
   ],
   "source": [
    "import matplotlib.pyplot as plt\n",
    "\n",
    "fig, ax = plt.subplots(1,1, figsize=(10,10))\n",
    "diff.plot(kind='barh', ax=ax)\n",
    "plt.xlabel('Diff in label proportion from original')\n",
    "plt.show()\n"
   ]
  },
  {
   "cell_type": "markdown",
   "metadata": {},
   "source": [
    "It seems that the normal train-test-split does a fine, if not better job, of capturing nearly the same proportion of labels as in the original dataset. <br>\n",
    "Since we will be using a OneVsRest strategy, we are interested in keeping the split proportion close to that of the original dataset."
   ]
  },
  {
   "cell_type": "code",
   "execution_count": 25,
   "metadata": {},
   "outputs": [],
   "source": [
    "# normal train test split\n",
    "X_train, X_test, y_train, y_test = train_test_split(X, Y, test_size=0.20)"
   ]
  },
  {
   "cell_type": "code",
   "execution_count": 26,
   "metadata": {},
   "outputs": [],
   "source": [
    "# split the train into train and validation set - we'll hold the test set out for the very end.\n",
    "X_train, X_val, y_train, y_val = train_test_split(X_train, y_train, test_size=0.20)"
   ]
  },
  {
   "cell_type": "code",
   "execution_count": 27,
   "metadata": {},
   "outputs": [
    {
     "name": "stderr",
     "output_type": "stream",
     "text": [
      "C:\\Users\\jwilliams1\\AppData\\Local\\Continuum\\anaconda3\\lib\\site-packages\\sklearn\\ensemble\\forest.py:246: FutureWarning: The default value of n_estimators will change from 10 in version 0.20 to 100 in 0.22.\n",
      "  \"10 in version 0.20 to 100 in 0.22.\", FutureWarning)\n"
     ]
    },
    {
     "data": {
      "text/plain": [
       "Pipeline(memory=None,\n",
       "     steps=[('msg_tokenizer', MessageTokenizer(lemmatize=True, remove_stops=True)), ('count_vec', CountVectorizer(analyzer='word', binary=False, decode_error='strict',\n",
       "        dtype=<class 'numpy.int64'>, encoding='utf-8', input='content',\n",
       "        lowercase=True, max_df=1.0, max_features=None, min_df=1,\n",
       "...obs=None,\n",
       "            oob_score=False, random_state=None, verbose=0,\n",
       "            warm_start=False))])"
      ]
     },
     "execution_count": 27,
     "metadata": {},
     "output_type": "execute_result"
    }
   ],
   "source": [
    "# fit the pipeline!\n",
    "pipeline.fit(X_train, y_train)"
   ]
  },
  {
   "cell_type": "markdown",
   "metadata": {},
   "source": [
    "### 5. Test the fitted model on the train data and the validation data.\n",
    "We'll save the test data for the very end."
   ]
  },
  {
   "cell_type": "code",
   "execution_count": 28,
   "metadata": {},
   "outputs": [],
   "source": [
    "y_pred_train = pipeline.predict(X_train)\n",
    "y_pred_val = pipeline.predict(X_val)"
   ]
  },
  {
   "cell_type": "code",
   "execution_count": 29,
   "metadata": {},
   "outputs": [],
   "source": [
    "y_prob_train = pipeline.predict_proba(X_train)\n",
    "y_prob_val = pipeline.predict_proba(X_val)"
   ]
  },
  {
   "cell_type": "code",
   "execution_count": 30,
   "metadata": {},
   "outputs": [
    {
     "data": {
      "text/plain": [
       "((16657, 35), (4165, 35), (5206, 35))"
      ]
     },
     "execution_count": 30,
     "metadata": {},
     "output_type": "execute_result"
    }
   ],
   "source": [
    "y_pred_train.shape, y_pred_val.shape, y_test.shape"
   ]
  },
  {
   "cell_type": "code",
   "execution_count": 31,
   "metadata": {},
   "outputs": [
    {
     "name": "stdout",
     "output_type": "stream",
     "text": [
      "\n",
      "Example output:\n",
      "\n",
      "related \n",
      "               precision    recall  f1-score   support\n",
      "\n",
      "         0.0       0.98      0.98      0.98      3920\n",
      "         1.0       0.99      0.99      0.99     12737\n",
      "\n",
      "   micro avg       0.99      0.99      0.99     16657\n",
      "   macro avg       0.99      0.99      0.99     16657\n",
      "weighted avg       0.99      0.99      0.99     16657\n",
      "\n",
      "[[ 3856    64]\n",
      " [   68 12669]]\n",
      "request \n",
      "               precision    recall  f1-score   support\n",
      "\n",
      "         0.0       1.00      0.99      0.99     13952\n",
      "         1.0       0.93      1.00      0.96      2705\n",
      "\n",
      "   micro avg       0.99      0.99      0.99     16657\n",
      "   macro avg       0.97      0.99      0.98     16657\n",
      "weighted avg       0.99      0.99      0.99     16657\n",
      "\n",
      "[[13755   197]\n",
      " [   11  2694]]\n",
      "\n",
      "....... lots more\n",
      "\n"
     ]
    }
   ],
   "source": [
    "# iterate thru all the labels and check the precision, recall, and f1 score on each individual label for the training data \n",
    "\n",
    "\"\"\"\n",
    "y_pred_train = pd.DataFrame(y_pred_train, columns=Y.columns)\n",
    "y_train = pd.DataFrame(y_train, columns=Y.columns)\n",
    "\n",
    "for col in Y.columns:\n",
    "    print(col, '\\n', classification_report(y_train[col], y_pred_train[col]))\n",
    "    print(confusion_matrix(y_train[col], y_pred_train[col]))\n",
    "\"\"\"\n",
    "\n",
    "print(\"\"\"\n",
    "Example output:\n",
    "\n",
    "related \n",
    "               precision    recall  f1-score   support\n",
    "\n",
    "         0.0       0.98      0.98      0.98      3920\n",
    "         1.0       0.99      0.99      0.99     12737\n",
    "\n",
    "   micro avg       0.99      0.99      0.99     16657\n",
    "   macro avg       0.99      0.99      0.99     16657\n",
    "weighted avg       0.99      0.99      0.99     16657\n",
    "\n",
    "[[ 3856    64]\n",
    " [   68 12669]]\n",
    "request \n",
    "               precision    recall  f1-score   support\n",
    "\n",
    "         0.0       1.00      0.99      0.99     13952\n",
    "         1.0       0.93      1.00      0.96      2705\n",
    "\n",
    "   micro avg       0.99      0.99      0.99     16657\n",
    "   macro avg       0.97      0.99      0.98     16657\n",
    "weighted avg       0.99      0.99      0.99     16657\n",
    "\n",
    "[[13755   197]\n",
    " [   11  2694]]\n",
    "\n",
    "....... lots more\n",
    "\"\"\")"
   ]
  },
  {
   "cell_type": "code",
   "execution_count": 32,
   "metadata": {},
   "outputs": [
    {
     "name": "stdout",
     "output_type": "stream",
     "text": [
      "\n",
      "Example output:\n",
      "\n",
      "related \n",
      "               precision    recall  f1-score   support\n",
      "\n",
      "         0.0       0.52      0.64      0.58       827\n",
      "         1.0       0.91      0.86      0.88      3338\n",
      "\n",
      "   micro avg       0.81      0.81      0.81      4165\n",
      "   macro avg       0.71      0.75      0.73      4165\n",
      "weighted avg       0.83      0.81      0.82      4165\n",
      "\n",
      "related \n",
      " [[ 528  299]\n",
      " [ 481 2857]]\n",
      "\n",
      "\n",
      "request \n",
      "               precision    recall  f1-score   support\n",
      "\n",
      "         0.0       0.98      0.90      0.94      3804\n",
      "         1.0       0.43      0.81      0.56       361\n",
      "\n",
      "   micro avg       0.89      0.89      0.89      4165\n",
      "   macro avg       0.71      0.85      0.75      4165\n",
      "weighted avg       0.93      0.89      0.90      4165\n",
      "\n",
      "request \n",
      " [[3415  389]\n",
      " [  68  293]]\n",
      "\n"
     ]
    }
   ],
   "source": [
    "# looks good on the training data - how does it do on validation data?\n",
    "\"\"\"\n",
    "y_pred_val = pd.DataFrame(y_pred_val, columns=Y.columns)\n",
    "y_val = pd.DataFrame(y_val, columns=Y.columns)\n",
    "\n",
    "for col in Y.columns:\n",
    "    print(col, '\\n', classification_report(y_val[col], y_pred_val[col]))\n",
    "    print(col, '\\n', confusion_matrix(y_val[col], y_pred_val[col]))\n",
    "    print('\\n')\n",
    "\"\"\"\n",
    "print(\"\"\"\n",
    "Example output:\n",
    "\n",
    "related \n",
    "               precision    recall  f1-score   support\n",
    "\n",
    "         0.0       0.52      0.64      0.58       827\n",
    "         1.0       0.91      0.86      0.88      3338\n",
    "\n",
    "   micro avg       0.81      0.81      0.81      4165\n",
    "   macro avg       0.71      0.75      0.73      4165\n",
    "weighted avg       0.83      0.81      0.82      4165\n",
    "\n",
    "related \n",
    " [[ 528  299]\n",
    " [ 481 2857]]\n",
    "\n",
    "\n",
    "request \n",
    "               precision    recall  f1-score   support\n",
    "\n",
    "         0.0       0.98      0.90      0.94      3804\n",
    "         1.0       0.43      0.81      0.56       361\n",
    "\n",
    "   micro avg       0.89      0.89      0.89      4165\n",
    "   macro avg       0.71      0.85      0.75      4165\n",
    "weighted avg       0.93      0.89      0.90      4165\n",
    "\n",
    "request \n",
    " [[3415  389]\n",
    " [  68  293]]\n",
    "\"\"\")"
   ]
  },
  {
   "cell_type": "markdown",
   "metadata": {},
   "source": [
    "The performance of the classifier on the training data seems fairly good overall. <br>\n",
    "However, it's performance on the validation data, which is poor, seems to indicate that it's overfitting the training data. <br>\n",
    "Another way to gauge the results of a multi-label output is by computing the hamming loss. <br>\n",
    "Hamming loss is the fraction of labels that are incorrectly predicted, i.e., the fraction of the wrong labels to the total number of labels.<br> \n",
    "Hamming loss is a more desirable metric for multi-label problems than accuracy, as accuracy requires every label to match between y_true and y_pred.\n",
    "<a href=\"https://scikit-learn.org/stable/modules/generated/sklearn.metrics.hamming_loss.html\"> Hamming Loss information </a>"
   ]
  },
  {
   "cell_type": "code",
   "execution_count": 33,
   "metadata": {},
   "outputs": [
    {
     "name": "stdout",
     "output_type": "stream",
     "text": [
      "Hamming loss on train:  0.007578109589276066\n",
      "Hamming loss on val:  0.05996227062253473\n"
     ]
    }
   ],
   "source": [
    "# compute hamming loss as well\n",
    "print('Hamming loss on train: ', hamming_loss(y_train, y_pred_train))\n",
    "\n",
    "print('Hamming loss on val: ', hamming_loss(y_val, y_pred_val))"
   ]
  },
  {
   "cell_type": "markdown",
   "metadata": {},
   "source": [
    "Still not too bad overall. The hamming loss tells us that on the validation data, 6% of all labels applied were incorrect. <br>\n",
    "However, when you consider that many labels are very sparsely represented, we should acknowledge that it is perhaps trivial to achieve this score. "
   ]
  },
  {
   "cell_type": "markdown",
   "metadata": {},
   "source": [
    "### Test three different classifiers before tuning hyper params\n",
    "\n",
    "We will test out\n",
    "1. Multilayer Perceptron - Directly supports multi-label - <a href=\"https://scikit-learn.org/stable/modules/generated/sklearn.neural_network.MLPClassifier.html#sklearn.neural_network.MLPClassifier\"> link </a>\n",
    "2. RandomForestClassifier in a OneVsRest framework.\n",
    "3. A LinearSVC wrapped in OneVsRestClassifier. <br> In essence, train a separate model to predict for each individual label. <a href=\"https://scikit-learn.org/stable/modules/generated/sklearn.svm.LinearSVC.html\"> LinearSVC link </a> and <a href=\"https://scikit-learn.org/stable/modules/generated/sklearn.multiclass.OneVsRestClassifier.html\"> OneVsRest link </a>"
   ]
  },
  {
   "cell_type": "code",
   "execution_count": 34,
   "metadata": {},
   "outputs": [],
   "source": [
    "# import them\n",
    "\n",
    "from sklearn.svm import LinearSVC\n",
    "from sklearn.neural_network import MLPClassifier\n",
    "from sklearn.multiclass import OneVsRestClassifier"
   ]
  },
  {
   "cell_type": "code",
   "execution_count": 35,
   "metadata": {},
   "outputs": [],
   "source": [
    "pipeline_mlp = Pipeline([\n",
    "    ('msg_tokenizer', MessageTokenizer()),\n",
    "    # Count Vectorizer with Tokenizer\n",
    "    ('count_vec', CountVectorizer()),\n",
    "    # TF-IDF Transformer\n",
    "    ('tfidf', TfidfTransformer()),\n",
    "    # classifier - one classifier per label\n",
    "    ('clf', MLPClassifier(early_stopping=True)) # stop early so it doesn't keep training without improvement\n",
    "])\n",
    "\n",
    "pipeline_mlp.fit(X_train, y_train)\n",
    "y_pred_mlp = pipeline_mlp.predict(X_train)\n",
    "y_pred_val_mlp = pipeline_mlp.predict(X_val)"
   ]
  },
  {
   "cell_type": "code",
   "execution_count": 36,
   "metadata": {},
   "outputs": [
    {
     "name": "stdout",
     "output_type": "stream",
     "text": [
      "Hamming loss: 0.03559207197317301\n",
      "Hamming loss: 0.05580517921454296\n"
     ]
    }
   ],
   "source": [
    "print(f\"Hamming loss: {hamming_loss(y_train, y_pred_mlp)}\")\n",
    "print(f\"Hamming loss: {hamming_loss(y_val, y_pred_val_mlp)}\")"
   ]
  },
  {
   "cell_type": "markdown",
   "metadata": {},
   "source": [
    "It looks like that neural net is overfitting - we can tell because the score is much better on the training set as compared to the validation set. However, the score on the validation set is comparable to our baseline hamming loss, 0.059"
   ]
  },
  {
   "cell_type": "markdown",
   "metadata": {},
   "source": [
    "Try a RandomForestClassifier, training one model per label."
   ]
  },
  {
   "cell_type": "code",
   "execution_count": 37,
   "metadata": {},
   "outputs": [
    {
     "name": "stderr",
     "output_type": "stream",
     "text": [
      "C:\\Users\\jwilliams1\\AppData\\Local\\Continuum\\anaconda3\\lib\\site-packages\\sklearn\\ensemble\\forest.py:246: FutureWarning: The default value of n_estimators will change from 10 in version 0.20 to 100 in 0.22.\n",
      "  \"10 in version 0.20 to 100 in 0.22.\", FutureWarning)\n",
      "C:\\Users\\jwilliams1\\AppData\\Local\\Continuum\\anaconda3\\lib\\site-packages\\sklearn\\ensemble\\forest.py:246: FutureWarning: The default value of n_estimators will change from 10 in version 0.20 to 100 in 0.22.\n",
      "  \"10 in version 0.20 to 100 in 0.22.\", FutureWarning)\n",
      "C:\\Users\\jwilliams1\\AppData\\Local\\Continuum\\anaconda3\\lib\\site-packages\\sklearn\\ensemble\\forest.py:246: FutureWarning: The default value of n_estimators will change from 10 in version 0.20 to 100 in 0.22.\n",
      "  \"10 in version 0.20 to 100 in 0.22.\", FutureWarning)\n",
      "C:\\Users\\jwilliams1\\AppData\\Local\\Continuum\\anaconda3\\lib\\site-packages\\sklearn\\ensemble\\forest.py:246: FutureWarning: The default value of n_estimators will change from 10 in version 0.20 to 100 in 0.22.\n",
      "  \"10 in version 0.20 to 100 in 0.22.\", FutureWarning)\n",
      "C:\\Users\\jwilliams1\\AppData\\Local\\Continuum\\anaconda3\\lib\\site-packages\\sklearn\\ensemble\\forest.py:246: FutureWarning: The default value of n_estimators will change from 10 in version 0.20 to 100 in 0.22.\n",
      "  \"10 in version 0.20 to 100 in 0.22.\", FutureWarning)\n",
      "C:\\Users\\jwilliams1\\AppData\\Local\\Continuum\\anaconda3\\lib\\site-packages\\sklearn\\ensemble\\forest.py:246: FutureWarning: The default value of n_estimators will change from 10 in version 0.20 to 100 in 0.22.\n",
      "  \"10 in version 0.20 to 100 in 0.22.\", FutureWarning)\n",
      "C:\\Users\\jwilliams1\\AppData\\Local\\Continuum\\anaconda3\\lib\\site-packages\\sklearn\\ensemble\\forest.py:246: FutureWarning: The default value of n_estimators will change from 10 in version 0.20 to 100 in 0.22.\n",
      "  \"10 in version 0.20 to 100 in 0.22.\", FutureWarning)\n",
      "C:\\Users\\jwilliams1\\AppData\\Local\\Continuum\\anaconda3\\lib\\site-packages\\sklearn\\ensemble\\forest.py:246: FutureWarning: The default value of n_estimators will change from 10 in version 0.20 to 100 in 0.22.\n",
      "  \"10 in version 0.20 to 100 in 0.22.\", FutureWarning)\n",
      "C:\\Users\\jwilliams1\\AppData\\Local\\Continuum\\anaconda3\\lib\\site-packages\\sklearn\\ensemble\\forest.py:246: FutureWarning: The default value of n_estimators will change from 10 in version 0.20 to 100 in 0.22.\n",
      "  \"10 in version 0.20 to 100 in 0.22.\", FutureWarning)\n",
      "C:\\Users\\jwilliams1\\AppData\\Local\\Continuum\\anaconda3\\lib\\site-packages\\sklearn\\ensemble\\forest.py:246: FutureWarning: The default value of n_estimators will change from 10 in version 0.20 to 100 in 0.22.\n",
      "  \"10 in version 0.20 to 100 in 0.22.\", FutureWarning)\n",
      "C:\\Users\\jwilliams1\\AppData\\Local\\Continuum\\anaconda3\\lib\\site-packages\\sklearn\\ensemble\\forest.py:246: FutureWarning: The default value of n_estimators will change from 10 in version 0.20 to 100 in 0.22.\n",
      "  \"10 in version 0.20 to 100 in 0.22.\", FutureWarning)\n",
      "C:\\Users\\jwilliams1\\AppData\\Local\\Continuum\\anaconda3\\lib\\site-packages\\sklearn\\ensemble\\forest.py:246: FutureWarning: The default value of n_estimators will change from 10 in version 0.20 to 100 in 0.22.\n",
      "  \"10 in version 0.20 to 100 in 0.22.\", FutureWarning)\n",
      "C:\\Users\\jwilliams1\\AppData\\Local\\Continuum\\anaconda3\\lib\\site-packages\\sklearn\\ensemble\\forest.py:246: FutureWarning: The default value of n_estimators will change from 10 in version 0.20 to 100 in 0.22.\n",
      "  \"10 in version 0.20 to 100 in 0.22.\", FutureWarning)\n",
      "C:\\Users\\jwilliams1\\AppData\\Local\\Continuum\\anaconda3\\lib\\site-packages\\sklearn\\ensemble\\forest.py:246: FutureWarning: The default value of n_estimators will change from 10 in version 0.20 to 100 in 0.22.\n",
      "  \"10 in version 0.20 to 100 in 0.22.\", FutureWarning)\n",
      "C:\\Users\\jwilliams1\\AppData\\Local\\Continuum\\anaconda3\\lib\\site-packages\\sklearn\\ensemble\\forest.py:246: FutureWarning: The default value of n_estimators will change from 10 in version 0.20 to 100 in 0.22.\n",
      "  \"10 in version 0.20 to 100 in 0.22.\", FutureWarning)\n",
      "C:\\Users\\jwilliams1\\AppData\\Local\\Continuum\\anaconda3\\lib\\site-packages\\sklearn\\ensemble\\forest.py:246: FutureWarning: The default value of n_estimators will change from 10 in version 0.20 to 100 in 0.22.\n",
      "  \"10 in version 0.20 to 100 in 0.22.\", FutureWarning)\n",
      "C:\\Users\\jwilliams1\\AppData\\Local\\Continuum\\anaconda3\\lib\\site-packages\\sklearn\\ensemble\\forest.py:246: FutureWarning: The default value of n_estimators will change from 10 in version 0.20 to 100 in 0.22.\n",
      "  \"10 in version 0.20 to 100 in 0.22.\", FutureWarning)\n",
      "C:\\Users\\jwilliams1\\AppData\\Local\\Continuum\\anaconda3\\lib\\site-packages\\sklearn\\ensemble\\forest.py:246: FutureWarning: The default value of n_estimators will change from 10 in version 0.20 to 100 in 0.22.\n",
      "  \"10 in version 0.20 to 100 in 0.22.\", FutureWarning)\n",
      "C:\\Users\\jwilliams1\\AppData\\Local\\Continuum\\anaconda3\\lib\\site-packages\\sklearn\\ensemble\\forest.py:246: FutureWarning: The default value of n_estimators will change from 10 in version 0.20 to 100 in 0.22.\n",
      "  \"10 in version 0.20 to 100 in 0.22.\", FutureWarning)\n",
      "C:\\Users\\jwilliams1\\AppData\\Local\\Continuum\\anaconda3\\lib\\site-packages\\sklearn\\ensemble\\forest.py:246: FutureWarning: The default value of n_estimators will change from 10 in version 0.20 to 100 in 0.22.\n",
      "  \"10 in version 0.20 to 100 in 0.22.\", FutureWarning)\n",
      "C:\\Users\\jwilliams1\\AppData\\Local\\Continuum\\anaconda3\\lib\\site-packages\\sklearn\\ensemble\\forest.py:246: FutureWarning: The default value of n_estimators will change from 10 in version 0.20 to 100 in 0.22.\n",
      "  \"10 in version 0.20 to 100 in 0.22.\", FutureWarning)\n",
      "C:\\Users\\jwilliams1\\AppData\\Local\\Continuum\\anaconda3\\lib\\site-packages\\sklearn\\ensemble\\forest.py:246: FutureWarning: The default value of n_estimators will change from 10 in version 0.20 to 100 in 0.22.\n",
      "  \"10 in version 0.20 to 100 in 0.22.\", FutureWarning)\n",
      "C:\\Users\\jwilliams1\\AppData\\Local\\Continuum\\anaconda3\\lib\\site-packages\\sklearn\\ensemble\\forest.py:246: FutureWarning: The default value of n_estimators will change from 10 in version 0.20 to 100 in 0.22.\n",
      "  \"10 in version 0.20 to 100 in 0.22.\", FutureWarning)\n",
      "C:\\Users\\jwilliams1\\AppData\\Local\\Continuum\\anaconda3\\lib\\site-packages\\sklearn\\ensemble\\forest.py:246: FutureWarning: The default value of n_estimators will change from 10 in version 0.20 to 100 in 0.22.\n",
      "  \"10 in version 0.20 to 100 in 0.22.\", FutureWarning)\n",
      "C:\\Users\\jwilliams1\\AppData\\Local\\Continuum\\anaconda3\\lib\\site-packages\\sklearn\\ensemble\\forest.py:246: FutureWarning: The default value of n_estimators will change from 10 in version 0.20 to 100 in 0.22.\n",
      "  \"10 in version 0.20 to 100 in 0.22.\", FutureWarning)\n",
      "C:\\Users\\jwilliams1\\AppData\\Local\\Continuum\\anaconda3\\lib\\site-packages\\sklearn\\ensemble\\forest.py:246: FutureWarning: The default value of n_estimators will change from 10 in version 0.20 to 100 in 0.22.\n",
      "  \"10 in version 0.20 to 100 in 0.22.\", FutureWarning)\n",
      "C:\\Users\\jwilliams1\\AppData\\Local\\Continuum\\anaconda3\\lib\\site-packages\\sklearn\\ensemble\\forest.py:246: FutureWarning: The default value of n_estimators will change from 10 in version 0.20 to 100 in 0.22.\n",
      "  \"10 in version 0.20 to 100 in 0.22.\", FutureWarning)\n",
      "C:\\Users\\jwilliams1\\AppData\\Local\\Continuum\\anaconda3\\lib\\site-packages\\sklearn\\ensemble\\forest.py:246: FutureWarning: The default value of n_estimators will change from 10 in version 0.20 to 100 in 0.22.\n",
      "  \"10 in version 0.20 to 100 in 0.22.\", FutureWarning)\n",
      "C:\\Users\\jwilliams1\\AppData\\Local\\Continuum\\anaconda3\\lib\\site-packages\\sklearn\\ensemble\\forest.py:246: FutureWarning: The default value of n_estimators will change from 10 in version 0.20 to 100 in 0.22.\n",
      "  \"10 in version 0.20 to 100 in 0.22.\", FutureWarning)\n",
      "C:\\Users\\jwilliams1\\AppData\\Local\\Continuum\\anaconda3\\lib\\site-packages\\sklearn\\ensemble\\forest.py:246: FutureWarning: The default value of n_estimators will change from 10 in version 0.20 to 100 in 0.22.\n",
      "  \"10 in version 0.20 to 100 in 0.22.\", FutureWarning)\n",
      "C:\\Users\\jwilliams1\\AppData\\Local\\Continuum\\anaconda3\\lib\\site-packages\\sklearn\\ensemble\\forest.py:246: FutureWarning: The default value of n_estimators will change from 10 in version 0.20 to 100 in 0.22.\n",
      "  \"10 in version 0.20 to 100 in 0.22.\", FutureWarning)\n",
      "C:\\Users\\jwilliams1\\AppData\\Local\\Continuum\\anaconda3\\lib\\site-packages\\sklearn\\ensemble\\forest.py:246: FutureWarning: The default value of n_estimators will change from 10 in version 0.20 to 100 in 0.22.\n",
      "  \"10 in version 0.20 to 100 in 0.22.\", FutureWarning)\n"
     ]
    },
    {
     "name": "stderr",
     "output_type": "stream",
     "text": [
      "C:\\Users\\jwilliams1\\AppData\\Local\\Continuum\\anaconda3\\lib\\site-packages\\sklearn\\ensemble\\forest.py:246: FutureWarning: The default value of n_estimators will change from 10 in version 0.20 to 100 in 0.22.\n",
      "  \"10 in version 0.20 to 100 in 0.22.\", FutureWarning)\n",
      "C:\\Users\\jwilliams1\\AppData\\Local\\Continuum\\anaconda3\\lib\\site-packages\\sklearn\\ensemble\\forest.py:246: FutureWarning: The default value of n_estimators will change from 10 in version 0.20 to 100 in 0.22.\n",
      "  \"10 in version 0.20 to 100 in 0.22.\", FutureWarning)\n",
      "C:\\Users\\jwilliams1\\AppData\\Local\\Continuum\\anaconda3\\lib\\site-packages\\sklearn\\ensemble\\forest.py:246: FutureWarning: The default value of n_estimators will change from 10 in version 0.20 to 100 in 0.22.\n",
      "  \"10 in version 0.20 to 100 in 0.22.\", FutureWarning)\n"
     ]
    }
   ],
   "source": [
    "pipeline_rf = Pipeline([\n",
    "    ('msg_tokenizer', MessageTokenizer()),\n",
    "    # Count Vectorizer with Tokenizer\n",
    "    ('count_vec', CountVectorizer()),\n",
    "    # TF-IDF Transformer\n",
    "    ('tfidf', TfidfTransformer()),\n",
    "    # classifier - one classifier per label\n",
    "    ('clf', OneVsRestClassifier(RandomForestClassifier()))\n",
    "])\n",
    "\n",
    "pipeline_rf.fit(X_train, y_train)\n",
    "y_pred_rf = pipeline_rf.predict(X_train)\n",
    "y_pred_val_rf = pipeline_rf.predict(X_val)"
   ]
  },
  {
   "cell_type": "code",
   "execution_count": 38,
   "metadata": {},
   "outputs": [
    {
     "name": "stdout",
     "output_type": "stream",
     "text": [
      "Hamming loss: 0.007427164898498271\n",
      "Hamming loss: 0.05741039272851998\n"
     ]
    }
   ],
   "source": [
    "print(f\"Hamming loss: {hamming_loss(y_train, y_pred_rf)}\")\n",
    "print(f\"Hamming loss: {hamming_loss(y_val, y_pred_val_rf)}\")"
   ]
  },
  {
   "cell_type": "markdown",
   "metadata": {},
   "source": [
    "The RandomForests are also overfitting - much better score on training data than on validation data. Perhaps we could regularlize the RFs and achieve a better score on the validation data."
   ]
  },
  {
   "cell_type": "markdown",
   "metadata": {},
   "source": [
    "LinearSVC"
   ]
  },
  {
   "cell_type": "code",
   "execution_count": 39,
   "metadata": {},
   "outputs": [],
   "source": [
    "pipeline_svc = Pipeline([\n",
    "    ('msg_tokenizer', MessageTokenizer()),\n",
    "    # Count Vectorizer with Tokenizer\n",
    "    ('count_vec', CountVectorizer()),\n",
    "    # TF-IDF Transformer\n",
    "    ('tfidf', TfidfTransformer()),\n",
    "    # classifier - one classifier per label\n",
    "    ('clf', OneVsRestClassifier(LinearSVC()))\n",
    "])\n",
    "\n",
    "pipeline_svc.fit(X_train, y_train)\n",
    "y_pred_svc = pipeline_svc.predict(X_train)\n",
    "y_pred_val_svc = pipeline_svc.predict(X_val)\n"
   ]
  },
  {
   "cell_type": "code",
   "execution_count": 40,
   "metadata": {},
   "outputs": [
    {
     "name": "stdout",
     "output_type": "stream",
     "text": [
      "Hamming loss: 0.015190524790092539\n",
      "Hamming loss: 0.05352083690619105\n"
     ]
    }
   ],
   "source": [
    "print(f\"Hamming loss: {hamming_loss(y_train, y_pred_svc)}\")\n",
    "print(f\"Hamming loss: {hamming_loss(y_val, y_pred_val_svc)}\")"
   ]
  },
  {
   "cell_type": "markdown",
   "metadata": {},
   "source": [
    "We have achieved our best (by a thin margin) score on the validation data set with LinearSVC. \n",
    "Since we used an SVM classifier with a linear kernel, we should be able to achieve similar performance with a Logistic Regression Model - the logistic regression model has the benefit of a built in `predict_proba()` method, which we can use to evaluate performance on individual labels. <br>\n",
    "Sklearn's linear SVM can also support `predict_proba()` by transforming decision function thresholds into probabilities - however, this can take a while to fit the model."
   ]
  },
  {
   "cell_type": "code",
   "execution_count": 41,
   "metadata": {},
   "outputs": [
    {
     "name": "stderr",
     "output_type": "stream",
     "text": [
      "C:\\Users\\jwilliams1\\AppData\\Local\\Continuum\\anaconda3\\lib\\site-packages\\sklearn\\linear_model\\logistic.py:433: FutureWarning: Default solver will be changed to 'lbfgs' in 0.22. Specify a solver to silence this warning.\n",
      "  FutureWarning)\n"
     ]
    }
   ],
   "source": [
    "from sklearn.linear_model import LogisticRegression\n",
    "\n",
    "pipeline_log = Pipeline([\n",
    "    ('msg_tokenizer', MessageTokenizer()),\n",
    "    # Count Vectorizer with Tokenizer\n",
    "    ('count_vec', CountVectorizer()),\n",
    "    # TF-IDF Transformer\n",
    "    ('tfidf', TfidfTransformer()),\n",
    "    # classifier - one classifier per label\n",
    "    ('clf', OneVsRestClassifier(LogisticRegression()))\n",
    "])\n",
    "\n",
    "pipeline_log.fit(X_train, y_train)\n",
    "y_pred_log = pipeline_log.predict(X_train)\n",
    "y_pred_val_log = pipeline_log.predict(X_val)"
   ]
  },
  {
   "cell_type": "code",
   "execution_count": 42,
   "metadata": {},
   "outputs": [
    {
     "name": "stdout",
     "output_type": "stream",
     "text": [
      "Hamming loss: 0.04656643710494944\n",
      "Hamming loss: 0.053246441433716346\n"
     ]
    }
   ],
   "source": [
    "print(f\"Hamming loss: {hamming_loss(y_train, y_pred_log)}\")\n",
    "print(f\"Hamming loss: {hamming_loss(y_val, y_pred_val_log)}\")"
   ]
  },
  {
   "cell_type": "markdown",
   "metadata": {},
   "source": [
    "As expected, the performance of the Logistic Regression model is comparable to the LinearSVC. This is the model we will select for tuning, due to it having the best performance on our data out of the box, as well as being relatively inexpensive computationally."
   ]
  },
  {
   "cell_type": "markdown",
   "metadata": {},
   "source": [
    "### Tuning hyperparameters\n",
    "In this section, we'll tune our transformation and prediction pipeline using sklearn's RandomizedSearchCV - rather than performing an exhaustive search over every combination in the hyperparameter space, we can instead take `n_iter` samples of the hyperparameter space and search for the best combination there. <p>\n",
    "    \n",
    "Each parameter combination will be fit `cv` number of times. So, for n_iter=15 and cv=3, we will fit 15 * 3 * 35 labels = 1,575 models! We expect this will run for awhile. <br>\n",
    "The RandomizedSearchCV will give us the best cross-validated score and the best param combination."
   ]
  },
  {
   "cell_type": "code",
   "execution_count": 43,
   "metadata": {},
   "outputs": [],
   "source": [
    "hamming_scorer = make_scorer(hamming_loss, greater_is_better=False)"
   ]
  },
  {
   "cell_type": "code",
   "execution_count": null,
   "metadata": {},
   "outputs": [
    {
     "name": "stdout",
     "output_type": "stream",
     "text": [
      "Fitting 3 folds for each of 15 candidates, totalling 45 fits\n"
     ]
    },
    {
     "name": "stderr",
     "output_type": "stream",
     "text": [
      "[Parallel(n_jobs=1)]: Using backend SequentialBackend with 1 concurrent workers.\n",
      "C:\\Users\\jwilliams1\\AppData\\Local\\Continuum\\anaconda3\\lib\\site-packages\\sklearn\\linear_model\\logistic.py:433: FutureWarning: Default solver will be changed to 'lbfgs' in 0.22. Specify a solver to silence this warning.\n",
      "  FutureWarning)\n",
      "C:\\Users\\jwilliams1\\AppData\\Local\\Continuum\\anaconda3\\lib\\site-packages\\sklearn\\svm\\base.py:922: ConvergenceWarning: Liblinear failed to converge, increase the number of iterations.\n",
      "  \"the number of iterations.\", ConvergenceWarning)\n",
      "C:\\Users\\jwilliams1\\AppData\\Local\\Continuum\\anaconda3\\lib\\site-packages\\sklearn\\linear_model\\logistic.py:433: FutureWarning: Default solver will be changed to 'lbfgs' in 0.22. Specify a solver to silence this warning.\n",
      "  FutureWarning)\n",
      "C:\\Users\\jwilliams1\\AppData\\Local\\Continuum\\anaconda3\\lib\\site-packages\\sklearn\\svm\\base.py:922: ConvergenceWarning: Liblinear failed to converge, increase the number of iterations.\n",
      "  \"the number of iterations.\", ConvergenceWarning)\n",
      "C:\\Users\\jwilliams1\\AppData\\Local\\Continuum\\anaconda3\\lib\\site-packages\\sklearn\\linear_model\\logistic.py:433: FutureWarning: Default solver will be changed to 'lbfgs' in 0.22. Specify a solver to silence this warning.\n",
      "  FutureWarning)\n",
      "C:\\Users\\jwilliams1\\AppData\\Local\\Continuum\\anaconda3\\lib\\site-packages\\sklearn\\svm\\base.py:922: ConvergenceWarning: Liblinear failed to converge, increase the number of iterations.\n",
      "  \"the number of iterations.\", ConvergenceWarning)\n",
      "C:\\Users\\jwilliams1\\AppData\\Local\\Continuum\\anaconda3\\lib\\site-packages\\sklearn\\linear_model\\logistic.py:433: FutureWarning: Default solver will be changed to 'lbfgs' in 0.22. Specify a solver to silence this warning.\n",
      "  FutureWarning)\n",
      "C:\\Users\\jwilliams1\\AppData\\Local\\Continuum\\anaconda3\\lib\\site-packages\\sklearn\\linear_model\\logistic.py:433: FutureWarning: Default solver will be changed to 'lbfgs' in 0.22. Specify a solver to silence this warning.\n",
      "  FutureWarning)\n",
      "C:\\Users\\jwilliams1\\AppData\\Local\\Continuum\\anaconda3\\lib\\site-packages\\sklearn\\linear_model\\logistic.py:433: FutureWarning: Default solver will be changed to 'lbfgs' in 0.22. Specify a solver to silence this warning.\n",
      "  FutureWarning)\n",
      "C:\\Users\\jwilliams1\\AppData\\Local\\Continuum\\anaconda3\\lib\\site-packages\\sklearn\\linear_model\\logistic.py:433: FutureWarning: Default solver will be changed to 'lbfgs' in 0.22. Specify a solver to silence this warning.\n",
      "  FutureWarning)\n",
      "C:\\Users\\jwilliams1\\AppData\\Local\\Continuum\\anaconda3\\lib\\site-packages\\sklearn\\svm\\base.py:922: ConvergenceWarning: Liblinear failed to converge, increase the number of iterations.\n",
      "  \"the number of iterations.\", ConvergenceWarning)\n",
      "C:\\Users\\jwilliams1\\AppData\\Local\\Continuum\\anaconda3\\lib\\site-packages\\sklearn\\linear_model\\logistic.py:433: FutureWarning: Default solver will be changed to 'lbfgs' in 0.22. Specify a solver to silence this warning.\n",
      "  FutureWarning)\n",
      "C:\\Users\\jwilliams1\\AppData\\Local\\Continuum\\anaconda3\\lib\\site-packages\\sklearn\\svm\\base.py:922: ConvergenceWarning: Liblinear failed to converge, increase the number of iterations.\n",
      "  \"the number of iterations.\", ConvergenceWarning)\n",
      "C:\\Users\\jwilliams1\\AppData\\Local\\Continuum\\anaconda3\\lib\\site-packages\\sklearn\\linear_model\\logistic.py:433: FutureWarning: Default solver will be changed to 'lbfgs' in 0.22. Specify a solver to silence this warning.\n",
      "  FutureWarning)\n",
      "C:\\Users\\jwilliams1\\AppData\\Local\\Continuum\\anaconda3\\lib\\site-packages\\sklearn\\svm\\base.py:922: ConvergenceWarning: Liblinear failed to converge, increase the number of iterations.\n",
      "  \"the number of iterations.\", ConvergenceWarning)\n",
      "C:\\Users\\jwilliams1\\AppData\\Local\\Continuum\\anaconda3\\lib\\site-packages\\sklearn\\linear_model\\logistic.py:433: FutureWarning: Default solver will be changed to 'lbfgs' in 0.22. Specify a solver to silence this warning.\n",
      "  FutureWarning)\n",
      "C:\\Users\\jwilliams1\\AppData\\Local\\Continuum\\anaconda3\\lib\\site-packages\\sklearn\\linear_model\\logistic.py:433: FutureWarning: Default solver will be changed to 'lbfgs' in 0.22. Specify a solver to silence this warning.\n",
      "  FutureWarning)\n",
      "C:\\Users\\jwilliams1\\AppData\\Local\\Continuum\\anaconda3\\lib\\site-packages\\sklearn\\linear_model\\logistic.py:433: FutureWarning: Default solver will be changed to 'lbfgs' in 0.22. Specify a solver to silence this warning.\n",
      "  FutureWarning)\n",
      "C:\\Users\\jwilliams1\\AppData\\Local\\Continuum\\anaconda3\\lib\\site-packages\\sklearn\\linear_model\\logistic.py:433: FutureWarning: Default solver will be changed to 'lbfgs' in 0.22. Specify a solver to silence this warning.\n",
      "  FutureWarning)\n",
      "C:\\Users\\jwilliams1\\AppData\\Local\\Continuum\\anaconda3\\lib\\site-packages\\sklearn\\svm\\base.py:922: ConvergenceWarning: Liblinear failed to converge, increase the number of iterations.\n",
      "  \"the number of iterations.\", ConvergenceWarning)\n",
      "C:\\Users\\jwilliams1\\AppData\\Local\\Continuum\\anaconda3\\lib\\site-packages\\sklearn\\linear_model\\logistic.py:433: FutureWarning: Default solver will be changed to 'lbfgs' in 0.22. Specify a solver to silence this warning.\n",
      "  FutureWarning)\n",
      "C:\\Users\\jwilliams1\\AppData\\Local\\Continuum\\anaconda3\\lib\\site-packages\\sklearn\\svm\\base.py:922: ConvergenceWarning: Liblinear failed to converge, increase the number of iterations.\n",
      "  \"the number of iterations.\", ConvergenceWarning)\n",
      "C:\\Users\\jwilliams1\\AppData\\Local\\Continuum\\anaconda3\\lib\\site-packages\\sklearn\\linear_model\\logistic.py:433: FutureWarning: Default solver will be changed to 'lbfgs' in 0.22. Specify a solver to silence this warning.\n",
      "  FutureWarning)\n",
      "C:\\Users\\jwilliams1\\AppData\\Local\\Continuum\\anaconda3\\lib\\site-packages\\sklearn\\svm\\base.py:922: ConvergenceWarning: Liblinear failed to converge, increase the number of iterations.\n",
      "  \"the number of iterations.\", ConvergenceWarning)\n",
      "C:\\Users\\jwilliams1\\AppData\\Local\\Continuum\\anaconda3\\lib\\site-packages\\sklearn\\linear_model\\logistic.py:433: FutureWarning: Default solver will be changed to 'lbfgs' in 0.22. Specify a solver to silence this warning.\n",
      "  FutureWarning)\n",
      "C:\\Users\\jwilliams1\\AppData\\Local\\Continuum\\anaconda3\\lib\\site-packages\\sklearn\\linear_model\\logistic.py:433: FutureWarning: Default solver will be changed to 'lbfgs' in 0.22. Specify a solver to silence this warning.\n",
      "  FutureWarning)\n",
      "C:\\Users\\jwilliams1\\AppData\\Local\\Continuum\\anaconda3\\lib\\site-packages\\sklearn\\svm\\base.py:922: ConvergenceWarning: Liblinear failed to converge, increase the number of iterations.\n",
      "  \"the number of iterations.\", ConvergenceWarning)\n",
      "C:\\Users\\jwilliams1\\AppData\\Local\\Continuum\\anaconda3\\lib\\site-packages\\sklearn\\linear_model\\logistic.py:433: FutureWarning: Default solver will be changed to 'lbfgs' in 0.22. Specify a solver to silence this warning.\n",
      "  FutureWarning)\n",
      "C:\\Users\\jwilliams1\\AppData\\Local\\Continuum\\anaconda3\\lib\\site-packages\\sklearn\\linear_model\\logistic.py:433: FutureWarning: Default solver will be changed to 'lbfgs' in 0.22. Specify a solver to silence this warning.\n",
      "  FutureWarning)\n",
      "C:\\Users\\jwilliams1\\AppData\\Local\\Continuum\\anaconda3\\lib\\site-packages\\sklearn\\svm\\base.py:922: ConvergenceWarning: Liblinear failed to converge, increase the number of iterations.\n",
      "  \"the number of iterations.\", ConvergenceWarning)\n",
      "C:\\Users\\jwilliams1\\AppData\\Local\\Continuum\\anaconda3\\lib\\site-packages\\sklearn\\linear_model\\logistic.py:433: FutureWarning: Default solver will be changed to 'lbfgs' in 0.22. Specify a solver to silence this warning.\n",
      "  FutureWarning)\n",
      "C:\\Users\\jwilliams1\\AppData\\Local\\Continuum\\anaconda3\\lib\\site-packages\\sklearn\\svm\\base.py:922: ConvergenceWarning: Liblinear failed to converge, increase the number of iterations.\n",
      "  \"the number of iterations.\", ConvergenceWarning)\n"
     ]
    }
   ],
   "source": [
    "search_params = {\n",
    "    'msg_tokenizer__remove_stops': [False, True],\n",
    "    'msg_tokenizer__lemmatize': [False, True],\n",
    "    'tfidf__norm': [None, 'l1', 'l2'],\n",
    "    'tfidf__use_idf': [False, True],\n",
    "    'tfidf__smooth_idf': [False, True],\n",
    "    'count_vec__ngram_range': [(1,1), (1,2), (1,3), (1,4)],\n",
    "    'count_vec__max_features': [None, 100, 500, 1000],\n",
    "    'clf__estimator__dual': [False, True],\n",
    "    'clf__estimator__C': [1, 10, 50, 100],\n",
    "    'clf__estimator__class_weight': [None, 'balanced']\n",
    "}\n",
    "\n",
    "# set up the randomized search with 15 iterations (15 samples of param combinations)\n",
    "# each param combination will be fit cv=3 times. Each fit will be scored via hamming loss\n",
    "# the RandomizedSearchCV will return our best score and best param combination.\n",
    "cv_log = RandomizedSearchCV(pipeline_log, search_params, n_iter=15, cv=3, scoring=hamming_scorer, verbose=1)\n",
    "search_log = cv_log.fit(X_train, y_train)"
   ]
  },
  {
   "cell_type": "code",
   "execution_count": null,
   "metadata": {},
   "outputs": [],
   "source": [
    "search_log.best_score_"
   ]
  },
  {
   "cell_type": "markdown",
   "metadata": {},
   "source": [
    "Example params below.\n",
    "These are not the final parameters that we will be using. \n",
    "I ran the RandomizedSearchCV several times and achieved a better score with slightly different params."
   ]
  },
  {
   "cell_type": "code",
   "execution_count": null,
   "metadata": {},
   "outputs": [],
   "source": [
    "search_log.best_params_"
   ]
  },
  {
   "cell_type": "code",
   "execution_count": null,
   "metadata": {},
   "outputs": [],
   "source": [
    "# refit with params\n",
    "\n",
    "pipeline_log = Pipeline([\n",
    "    ('msg_tokenizer', MessageTokenizer(remove_stops=False, lemmatize=True)),\n",
    "    # Count Vectorizer with Tokenizer\n",
    "    ('count_vec', CountVectorizer(ngram_range=(1,4), max_features=1000)),\n",
    "    # TF-IDF Transformer\n",
    "    ('tfidf', TfidfTransformer(norm='l2', use_idf=False, smooth_idf=False)),\n",
    "    # classifier - one classifier per label\n",
    "    ('clf', OneVsRestClassifier(LogisticRegression(C=10, dual=True, class_weight=None)))\n",
    "])\n",
    "\n",
    "pipeline_log.fit(X_train, y_train)\n",
    "y_pred_log = pipeline_log.predict(X_train)\n",
    "y_pred_val_log = pipeline_log.predict(X_val)\n",
    "y_prob_val_log = pipeline_log.predict_proba(X_val)"
   ]
  },
  {
   "cell_type": "code",
   "execution_count": null,
   "metadata": {},
   "outputs": [],
   "source": [
    "print(f\"Hamming loss: {hamming_loss(y_train, y_pred_log)}\")\n",
    "print(f\"Hamming loss: {hamming_loss(y_val, y_pred_val_log)}\")"
   ]
  },
  {
   "cell_type": "markdown",
   "metadata": {},
   "source": [
    "We have marginally improved our hamming loss on the validation data set. Additionally, hamming loss on training data is close to hamming loss on validation data, indicating that we have successfully regularlized our model. <br>\n",
    "Note that the `best_score_` is negative - this is because sklearn flips the sign for loss metrics when converting them to a scoring function. <br>\n",
    "<a href=\"https://scikit-learn.org/stable/modules/generated/sklearn.metrics.make_scorer.html\"> `make_scorer()` info </a> <br>\n",
    "Now we can examine how the model is performing on individual labels."
   ]
  },
  {
   "cell_type": "code",
   "execution_count": null,
   "metadata": {},
   "outputs": [],
   "source": [
    "for idx, col in enumerate(Y.columns):\n",
    "    print(col, '\\n', classification_report(y_val.values[:, idx], y_pred_val_log[:, idx]))\n",
    "    print(confusion_matrix(y_val.values[:, idx], y_pred_val_log[:, idx]), '\\n')\n"
   ]
  },
  {
   "cell_type": "markdown",
   "metadata": {},
   "source": [
    "We can see that the model is underperforming on labels that have especially low proportions of the positive class.\n",
    "We can inspect the precision-recall trade off for each individual label to further tune our model."
   ]
  },
  {
   "cell_type": "code",
   "execution_count": null,
   "metadata": {},
   "outputs": [],
   "source": [
    "# inspect model output for labels where the proportion of positive instances is <= 10%\n",
    "cols_to_inspect = Y.columns[Y.mean(axis=0) <= 0.10]"
   ]
  },
  {
   "cell_type": "markdown",
   "metadata": {},
   "source": [
    "### Binary classification metrics\n",
    "Since a multi-label problem can be regarded as a composition of binary classification tasks, we'll take some time to talk about binary classification metrics.\n",
    "\n",
    "#### Precision and Recall\n",
    "This function plots precision versus recall for different probability thresholds.\n",
    "Precision can be intuitively understood as the ratio of true positives predicted by the model to the total number of positives predicted by the model.\n",
    "Recall can be intuitively understood as the ratio of true positives predicted by the model to the total number of true positives in the dataset.\n",
    "    \n",
    "There is tension between precision and recall - in general, an increase in precision results in a decrease in recall.\n",
    "The desired balance between the two, depending on your needs and the goal of your model, can be attained by setting the specific decision function threshold at which your model assigns an instance to the positive class.\n",
    "In short, if you raise the threshold at which your model classifies instances as belonging to the positive class, thereby reducing the number of true negatives that it misclassifies as positives,  you raise the number of true positives that your model misclassifies as negatives."
   ]
  },
  {
   "cell_type": "code",
   "execution_count": null,
   "metadata": {},
   "outputs": [],
   "source": [
    "# fxns for charting binary classification\n",
    "\n",
    "def precision_recall_vs_thresholds(y_true, y_scores, label='Class', plot_grid=False):\n",
    "    \"\"\"Plot precision and recall vs threshold values of y.\n",
    "    \n",
    "    Args:\n",
    "        y_true (array): binary indication of target variable's true state\n",
    "        y_scores (array): model's score for each instance\n",
    "        plot_grid (bool): whether or not to plot gridlines\n",
    "        \n",
    "    Returns:\n",
    "        ax: matplotlib axes object containing the precision recall chart.\n",
    "    \"\"\"\n",
    "    precisions, recalls, thresholds = precision_recall_curve(y_true, y_scores)\n",
    "    fig, ax = plt.subplots(1, 1, figsize=(12, 8))\n",
    "    ax.plot(thresholds, precisions[:-1], 'b--', label='Precision')\n",
    "    ax.plot(thresholds, recalls[:-1], 'g-', label='Recall')\n",
    "    ax.set_xlabel('Thresholds')\n",
    "    ax.set_ylim([0, 1])\n",
    "    ax.legend(loc='upper right')\n",
    "    \n",
    "    if plot_grid:\n",
    "        threshs = np.round(np.arange(0.0, 1.05, 0.05), 2)\n",
    "        for thr in threshs:\n",
    "            ax.axvline(thr, alpha=0.15)\n",
    "            ax.axhline(thr, alpha=0.15)\n",
    "        ax.set_xticks(threshs)\n",
    "        ax.set_xticklabels(threshs, rotation=90)\n",
    "        ax.set_yticks(threshs)\n",
    "        ax.set_yticklabels(threshs)\n",
    "    \n",
    "    ax.set_ylabel('probability')\n",
    "    ax.set_title(f'Precision vs Recall Curves for p({label}=1) Thresholds')\n",
    "    \n",
    "    return ax"
   ]
  },
  {
   "cell_type": "code",
   "execution_count": null,
   "metadata": {},
   "outputs": [],
   "source": [
    "y_prob_val_log.shape"
   ]
  },
  {
   "cell_type": "code",
   "execution_count": null,
   "metadata": {},
   "outputs": [],
   "source": [
    "for idx, col in enumerate(Y.columns):\n",
    "    if col in cols_to_inspect:\n",
    "        y_scores = y_prob_val_log[:, idx]\n",
    "        y_true = y_val.values[:, idx]\n",
    "        precision_recall_vs_thresholds(y_true, y_scores, label=col, plot_grid=True)\n",
    "        plt.show()"
   ]
  },
  {
   "cell_type": "markdown",
   "metadata": {},
   "source": [
    "After reviewing the precision-recall charts, we can set custom probability thresholds per label. The reasoning here is that, since our positive class instances are very sparsely represented and signify people in some distress, we are more interested in capturing as many true positives as we can (increasing our recall). <br> This will come at the expense of decreasing our precision, meaning that we will falsely predict more positive instances."
   ]
  },
  {
   "cell_type": "code",
   "execution_count": null,
   "metadata": {},
   "outputs": [],
   "source": [
    "custom_thresh = {\n",
    "    'offer': 0.025,\n",
    "    'medical_help': 0.20,\n",
    "    'medical_products': 0.20,\n",
    "    'search_and_rescue': 0.15,\n",
    "    'security': 0.05,\n",
    "    'military': 0.125,\n",
    "    'water': 0.20,\n",
    "    'shelter': 0.20,\n",
    "    'clothing': 0.10,\n",
    "    'money': 0.10,\n",
    "    'missing_people': 0.075,\n",
    "    'refugees': 0.15,\n",
    "    'death': 0.20,\n",
    "    'infrastructure_related': 0.15,\n",
    "    'transport': 0.15,\n",
    "    'buildings': 0.20,\n",
    "    'electricity': 0.15,\n",
    "    'tools': 0.10,\n",
    "    'hospitals': 0.15,\n",
    "    'shops': 0.10,\n",
    "    'aid_centers': 0.05,\n",
    "    'other_infrastructure': 0.10,\n",
    "    'floods': 0.15,\n",
    "    'storm': 0.15,\n",
    "    'fire': 0.05,\n",
    "    'earthquake': 0.15,\n",
    "    'cold': 0.15,\n",
    "    'other_weather': 0.15\n",
    "}"
   ]
  },
  {
   "cell_type": "code",
   "execution_count": null,
   "metadata": {},
   "outputs": [],
   "source": [
    "def predict_with_thresh(estimator, X, labels_array, thresholds):\n",
    "    \"\"\"Return binary classification based on custom thresholds.\n",
    "    \n",
    "    Args:\n",
    "        estimator: an object capable of predict() and predict_proba() methods\n",
    "        X: data to predict on \n",
    "        labels_array: array/list of label names\n",
    "        thresholds (dict): dictionary of label:threshold values\n",
    "        \n",
    "    Returns:\n",
    "        y_pred (arr): binary array of prediction based on custom threshold.    \n",
    "    \"\"\"\n",
    "    y_prob = estimator.predict_proba(X)\n",
    "    # placeholder for labels that do not have custom thresholds\n",
    "    y_pred = estimator.predict(X)    \n",
    "    for idx, label in enumerate(labels_array):\n",
    "        if label in thresholds.keys():\n",
    "            # replace the default prediction with the custom prediction\n",
    "            y_pred[:, idx] = y_prob[:, idx] >= thresholds[label] * 1 # convert bool to int\n",
    "    \n",
    "    return y_pred"
   ]
  },
  {
   "cell_type": "code",
   "execution_count": null,
   "metadata": {},
   "outputs": [],
   "source": [
    "y_pred_val_custom = predict_with_thresh(pipeline_log, X_val, Y.columns, custom_thresh)"
   ]
  },
  {
   "cell_type": "code",
   "execution_count": null,
   "metadata": {},
   "outputs": [],
   "source": [
    "for idx, col in enumerate(Y.columns):\n",
    "    print(col, '\\n', 'custom thresholds: ', classification_report(y_val.values[:, idx], y_pred_val_custom[:, idx]))\n",
    "    print(confusion_matrix(y_val.values[:, idx], y_pred_val_custom[:, idx]), '\\n')\n",
    "    print('\\n', 'normal thresholds: ', classification_report(y_val.values[:, idx], y_pred_val_log[:, idx]))\n",
    "    print(confusion_matrix(y_val.values[:, idx], y_pred_val_log[:, idx]), '\\n')"
   ]
  },
  {
   "cell_type": "markdown",
   "metadata": {},
   "source": [
    "Reviewing the output of the above, you can see that we have increased the number of true positive classifications for labels with sparse representation. This has come at the cost of increasing our number of false positives. However, when you consider the context of the problem, it is perhaps better to marginally increase the number of false positives classified if it means capturing more true instances of people in need. <br>\n",
    "In all likelihood, these classifications would be reviewed by somebody attempting to orchestrate aid efforts - better to slightly increase the noise if it means identifying more of those in need."
   ]
  },
  {
   "cell_type": "markdown",
   "metadata": {},
   "source": [
    "Finally, let's test out our model on the last holdout data set."
   ]
  },
  {
   "cell_type": "code",
   "execution_count": null,
   "metadata": {},
   "outputs": [],
   "source": [
    "# with custom thresholds\n",
    "y_pred_test_custom = predict_with_thresh(pipeline_log, X_test, Y.columns, custom_thresh)"
   ]
  },
  {
   "cell_type": "code",
   "execution_count": null,
   "metadata": {},
   "outputs": [],
   "source": [
    "print(f\"Hamming loss on test: {hamming_loss(y_test, y_pred_test_custom)}\")"
   ]
  },
  {
   "cell_type": "code",
   "execution_count": null,
   "metadata": {},
   "outputs": [],
   "source": [
    "for idx, col in enumerate(Y.columns):\n",
    "    print(col, '\\n', classification_report(y_test.values[:, idx], y_pred_test_custom[:, idx]))\n",
    "    print(confusion_matrix(y_test.values[:, idx], y_pred_test_custom[:, idx]), '\\n')"
   ]
  },
  {
   "cell_type": "code",
   "execution_count": null,
   "metadata": {},
   "outputs": [],
   "source": [
    "y_pred_test = pipeline_log.predict(X_test)"
   ]
  },
  {
   "cell_type": "code",
   "execution_count": null,
   "metadata": {},
   "outputs": [],
   "source": [
    "print(f\"Hamming loss on test: {hamming_loss(y_test, y_pred_test)}\")"
   ]
  },
  {
   "cell_type": "markdown",
   "metadata": {},
   "source": [
    "This model is not perfect, but is both fast and fairly good at predicting the required labels, only missing 5% of labels on the holdout set."
   ]
  },
  {
   "cell_type": "code",
   "execution_count": null,
   "metadata": {},
   "outputs": [],
   "source": []
  }
 ],
 "metadata": {
  "kernelspec": {
   "display_name": "Python 3",
   "language": "python",
   "name": "python3"
  },
  "language_info": {
   "codemirror_mode": {
    "name": "ipython",
    "version": 3
   },
   "file_extension": ".py",
   "mimetype": "text/x-python",
   "name": "python",
   "nbconvert_exporter": "python",
   "pygments_lexer": "ipython3",
   "version": "3.7.1"
  }
 },
 "nbformat": 4,
 "nbformat_minor": 2
}
