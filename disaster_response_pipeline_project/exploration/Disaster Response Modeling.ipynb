{
 "cells": [
  {
   "cell_type": "markdown",
   "metadata": {},
   "source": [
    "# Disaster Reponse Pipeline Creation \n",
    "\n",
    "\n",
    "### 1. Import libraries and load data from database.\n",
    "- Import Python libraries\n",
    "- Load dataset from database with [`read_sql_table`](https://pandas.pydata.org/pandas-docs/stable/generated/pandas.read_sql_table.html)\n",
    "- Define feature and target variables X and Y"
   ]
  },
  {
   "cell_type": "code",
   "execution_count": 1,
   "metadata": {},
   "outputs": [
    {
     "name": "stderr",
     "output_type": "stream",
     "text": "[nltk_data] Downloading package stopwords to\n[nltk_data]     C:\\Users\\jwilliams1\\AppData\\Roaming\\nltk_data...\n[nltk_data]   Package stopwords is already up-to-date!\n[nltk_data] Downloading package punkt to\n[nltk_data]     C:\\Users\\jwilliams1\\AppData\\Roaming\\nltk_data...\n[nltk_data]   Package punkt is already up-to-date!\n[nltk_data] Downloading package averaged_perceptron_tagger to\n[nltk_data]     C:\\Users\\jwilliams1\\AppData\\Roaming\\nltk_data...\n[nltk_data]   Package averaged_perceptron_tagger is already up-to-\n[nltk_data]       date!\n[nltk_data] Downloading package wordnet to\n[nltk_data]     C:\\Users\\jwilliams1\\AppData\\Roaming\\nltk_data...\n[nltk_data]   Package wordnet is already up-to-date!\n"
    }
   ],
   "source": [
    "import nltk\n",
    "nltk.download('stopwords')\n",
    "nltk.download('punkt')\n",
    "nltk.download('averaged_perceptron_tagger')\n",
    "nltk.download('wordnet')\n",
    "\n",
    "# import libraries\n",
    "import pandas as pd\n",
    "import sqlite3\n",
    "import re\n",
    "\n",
    "from nltk.corpus import stopwords\n",
    "stop_words = set(stopwords.words('english'))\n",
    "from nltk.corpus import wordnet\n",
    "from nltk.stem.wordnet import WordNetLemmatizer\n",
    "from nltk import pos_tag\n",
    "from nltk.tokenize import word_tokenize\n",
    "\n",
    "from sqlalchemy import create_engine\n",
    "from sklearn.model_selection import train_test_split\n",
    "from sklearn.pipeline import Pipeline\n",
    "from sklearn.feature_extraction.text import CountVectorizer, TfidfTransformer\n",
    "from sklearn.base import BaseEstimator, TransformerMixin\n",
    "from sklearn.ensemble import RandomForestClassifier\n",
    "from sklearn.metrics import classification_report\n",
    "from sklearn.multioutput import MultiOutputClassifier\n",
    "from sklearn.model_selection import RandomizedSearchCV\n",
    "from sklearn.model_selection import GridSearchCV\n",
    "from sklearn.svm import SVC\n",
    "from sklearn.naive_bayes import GaussianNB\n",
    "\n",
    "from skmultilearn.model_selection import iterative_train_test_split"
   ]
  },
  {
   "cell_type": "code",
   "execution_count": 2,
   "metadata": {},
   "outputs": [],
   "source": [
    "# load data from database\n",
    "engine = create_engine('sqlite:///DisasterMessages.db')\n",
    "df = pd.read_sql('SELECT * FROM CleanMessages', engine)\n",
    "\n",
    "# define variables. X is input, Y is target\n",
    "X = df['message']\n",
    "Y = df.drop(['id', 'message', 'original', 'genre'], axis=1) "
   ]
  },
  {
   "cell_type": "code",
   "execution_count": 5,
   "metadata": {},
   "outputs": [],
   "source": [
    "# check to make sure we have at least one instance for each label\n",
    "labels_with_no_instance = Y.columns[~(Y == 1).any(axis=0)]\n",
    "Y = Y.drop(labels_with_no_instance, axis=1)"
   ]
  },
  {
   "cell_type": "code",
   "execution_count": 7,
   "metadata": {},
   "outputs": [
    {
     "data": {
      "text/plain": "Index(['child_alone'], dtype='object')"
     },
     "execution_count": 7,
     "metadata": {},
     "output_type": "execute_result"
    }
   ],
   "source": [
    "labels_with_no_instance"
   ]
  },
  {
   "cell_type": "code",
   "execution_count": 8,
   "metadata": {},
   "outputs": [
    {
     "data": {
      "text/plain": "related                   False\nrequest                    True\noffer                      True\naid_related                True\nmedical_help               True\nmedical_products           True\nsearch_and_rescue          True\nsecurity                   True\nmilitary                   True\nwater                      True\nfood                       True\nshelter                    True\nclothing                   True\nmoney                      True\nmissing_people             True\nrefugees                   True\ndeath                      True\nother_aid                  True\ninfrastructure_related     True\ntransport                  True\nbuildings                  True\nelectricity                True\ntools                      True\nhospitals                  True\nshops                      True\naid_centers                True\nother_infrastructure       True\nweather_related            True\nfloods                     True\nstorm                      True\nfire                       True\nearthquake                 True\ncold                       True\nother_weather              True\ndirect_report              True\ndtype: bool"
     },
     "execution_count": 8,
     "metadata": {},
     "output_type": "execute_result"
    }
   ],
   "source": [
    "# check for labels that are not binary\n",
    "(Y.isin([0, 1])).all(axis=0)"
   ]
  },
  {
   "cell_type": "markdown",
   "execution_count": null,
   "metadata": {},
   "outputs": [],
   "source": [
    "Uh oh! Looks like all of our labels are binary except for the 'related' column.\n",
    "Let's check it out."
   ]
  },
  {
   "cell_type": "code",
   "execution_count": 9,
   "metadata": {},
   "outputs": [
    {
     "name": "stdout",
     "output_type": "stream",
     "text": "1    19906\n0     6122\n2      188\nName: related, dtype: int64\n1    0.759307\n0    0.233522\n2    0.007171\nName: related, dtype: float64\n"
    }
   ],
   "source": [
    "cnts = Y.related.value_counts()\n",
    "print(cnts)\n",
    "print(cnts / cnts.sum())"
   ]
  },
  {
   "cell_type": "markdown",
   "execution_count": null,
   "metadata": {},
   "outputs": [],
   "source": [
    "We only have 188 instances of 'related' not binary, which is 0.7% of the instances in the dataset.\n",
    "Looks like the non binary values of related are 2's. \n",
    "Since the number is so small, we'll drop them from the dataset. The reasoning behind this approach is that by dropping these rows, we transform the problem from a multiclass-multilabel problem, known as a multioutput problem, down to a multilabel problem.\n"
   ]
  },
  {
   "cell_type": "code",
   "execution_count": 10,
   "metadata": {},
   "outputs": [],
   "source": [
    "index = Y[Y.related == 2].index\n",
    "Y = Y.drop(index)\n",
    "X = X.drop(index)"
   ]
  },
  {
   "cell_type": "code",
   "execution_count": 11,
   "metadata": {},
   "outputs": [
    {
     "data": {
      "text/plain": "((26028,), (26028, 35))"
     },
     "execution_count": 11,
     "metadata": {},
     "output_type": "execute_result"
    }
   ],
   "source": [
    "X.shape, Y.shape"
   ]
  },
  {
   "cell_type": "code",
   "execution_count": 12,
   "metadata": {},
   "outputs": [
    {
     "data": {
      "text/html": "<div>\n<style scoped>\n    .dataframe tbody tr th:only-of-type {\n        vertical-align: middle;\n    }\n\n    .dataframe tbody tr th {\n        vertical-align: top;\n    }\n\n    .dataframe thead th {\n        text-align: right;\n    }\n</style>\n<table border=\"1\" class=\"dataframe\">\n  <thead>\n    <tr style=\"text-align: right;\">\n      <th></th>\n      <th>id</th>\n      <th>message</th>\n      <th>original</th>\n      <th>genre</th>\n      <th>related</th>\n      <th>request</th>\n      <th>offer</th>\n      <th>aid_related</th>\n      <th>medical_help</th>\n      <th>medical_products</th>\n      <th>...</th>\n      <th>aid_centers</th>\n      <th>other_infrastructure</th>\n      <th>weather_related</th>\n      <th>floods</th>\n      <th>storm</th>\n      <th>fire</th>\n      <th>earthquake</th>\n      <th>cold</th>\n      <th>other_weather</th>\n      <th>direct_report</th>\n    </tr>\n  </thead>\n  <tbody>\n    <tr>\n      <th>0</th>\n      <td>2</td>\n      <td>Weather update - a cold front from Cuba that c...</td>\n      <td>Un front froid se retrouve sur Cuba ce matin. ...</td>\n      <td>direct</td>\n      <td>1</td>\n      <td>0</td>\n      <td>0</td>\n      <td>0</td>\n      <td>0</td>\n      <td>0</td>\n      <td>...</td>\n      <td>0</td>\n      <td>0</td>\n      <td>0</td>\n      <td>0</td>\n      <td>0</td>\n      <td>0</td>\n      <td>0</td>\n      <td>0</td>\n      <td>0</td>\n      <td>0</td>\n    </tr>\n    <tr>\n      <th>1</th>\n      <td>7</td>\n      <td>Is the Hurricane over or is it not over</td>\n      <td>Cyclone nan fini osinon li pa fini</td>\n      <td>direct</td>\n      <td>1</td>\n      <td>0</td>\n      <td>0</td>\n      <td>1</td>\n      <td>0</td>\n      <td>0</td>\n      <td>...</td>\n      <td>0</td>\n      <td>0</td>\n      <td>1</td>\n      <td>0</td>\n      <td>1</td>\n      <td>0</td>\n      <td>0</td>\n      <td>0</td>\n      <td>0</td>\n      <td>0</td>\n    </tr>\n    <tr>\n      <th>2</th>\n      <td>8</td>\n      <td>Looking for someone but no name</td>\n      <td>Patnm, di Maryani relem pou li banm nouvel li ...</td>\n      <td>direct</td>\n      <td>1</td>\n      <td>0</td>\n      <td>0</td>\n      <td>0</td>\n      <td>0</td>\n      <td>0</td>\n      <td>...</td>\n      <td>0</td>\n      <td>0</td>\n      <td>0</td>\n      <td>0</td>\n      <td>0</td>\n      <td>0</td>\n      <td>0</td>\n      <td>0</td>\n      <td>0</td>\n      <td>0</td>\n    </tr>\n    <tr>\n      <th>3</th>\n      <td>9</td>\n      <td>UN reports Leogane 80-90 destroyed. Only Hospi...</td>\n      <td>UN reports Leogane 80-90 destroyed. Only Hospi...</td>\n      <td>direct</td>\n      <td>1</td>\n      <td>1</td>\n      <td>0</td>\n      <td>1</td>\n      <td>0</td>\n      <td>1</td>\n      <td>...</td>\n      <td>0</td>\n      <td>0</td>\n      <td>0</td>\n      <td>0</td>\n      <td>0</td>\n      <td>0</td>\n      <td>0</td>\n      <td>0</td>\n      <td>0</td>\n      <td>0</td>\n    </tr>\n    <tr>\n      <th>4</th>\n      <td>12</td>\n      <td>says: west side of Haiti, rest of the country ...</td>\n      <td>facade ouest d Haiti et le reste du pays aujou...</td>\n      <td>direct</td>\n      <td>1</td>\n      <td>0</td>\n      <td>0</td>\n      <td>0</td>\n      <td>0</td>\n      <td>0</td>\n      <td>...</td>\n      <td>0</td>\n      <td>0</td>\n      <td>0</td>\n      <td>0</td>\n      <td>0</td>\n      <td>0</td>\n      <td>0</td>\n      <td>0</td>\n      <td>0</td>\n      <td>0</td>\n    </tr>\n  </tbody>\n</table>\n<p>5 rows × 40 columns</p>\n</div>",
      "text/plain": "   id                                            message  \\\n0   2  Weather update - a cold front from Cuba that c...   \n1   7            Is the Hurricane over or is it not over   \n2   8                    Looking for someone but no name   \n3   9  UN reports Leogane 80-90 destroyed. Only Hospi...   \n4  12  says: west side of Haiti, rest of the country ...   \n\n                                            original   genre  related  \\\n0  Un front froid se retrouve sur Cuba ce matin. ...  direct        1   \n1                 Cyclone nan fini osinon li pa fini  direct        1   \n2  Patnm, di Maryani relem pou li banm nouvel li ...  direct        1   \n3  UN reports Leogane 80-90 destroyed. Only Hospi...  direct        1   \n4  facade ouest d Haiti et le reste du pays aujou...  direct        1   \n\n   request  offer  aid_related  medical_help  medical_products      ...        \\\n0        0      0            0             0                 0      ...         \n1        0      0            1             0                 0      ...         \n2        0      0            0             0                 0      ...         \n3        1      0            1             0                 1      ...         \n4        0      0            0             0                 0      ...         \n\n   aid_centers  other_infrastructure  weather_related  floods  storm  fire  \\\n0            0                     0                0       0      0     0   \n1            0                     0                1       0      1     0   \n2            0                     0                0       0      0     0   \n3            0                     0                0       0      0     0   \n4            0                     0                0       0      0     0   \n\n   earthquake  cold  other_weather  direct_report  \n0           0     0              0              0  \n1           0     0              0              0  \n2           0     0              0              0  \n3           0     0              0              0  \n4           0     0              0              0  \n\n[5 rows x 40 columns]"
     },
     "execution_count": 12,
     "metadata": {},
     "output_type": "execute_result"
    }
   ],
   "source": [
    "# original data\n",
    "df.head(5)"
   ]
  },
  {
   "cell_type": "code",
   "execution_count": 13,
   "metadata": {},
   "outputs": [
    {
     "data": {
      "text/plain": "(26216, 40)"
     },
     "execution_count": 13,
     "metadata": {},
     "output_type": "execute_result"
    }
   ],
   "source": [
    "# check the shape of the original data \n",
    "df.shape"
   ]
  },
  {
   "cell_type": "markdown",
   "execution_count": 6,
   "metadata": {},
   "outputs": [
    {
     "data": {
      "text/plain": "((26216,), (26216, 35))"
     },
     "execution_count": 6,
     "metadata": {},
     "output_type": "execute_result"
    }
   ],
   "source": [
    "We've dropped 188 rows and 5 columns."
   ]
  },
  {
   "cell_type": "markdown",
   "metadata": {},
   "source": [
    "### 2. Write a tokenization class to process the text data"
   ]
  },
  {
   "cell_type": "markdown",
   "execution_count": null,
   "metadata": {},
   "outputs": [],
   "source": [
    "Lemmatization is a way to reduce words to their root or base form. <br>\n",
    "The process is more accurate if the lemmatizer knows to which part of speech the word belongs. <br>\n",
    "Therefore, as part of the lemmatization process, we will tag each word with nltk's pos_tag function. <br>\n",
    "This POS tag is a Treebank POS tag - in order to utilize it with the WordNet lemmatizer, we have to convert the Treebank POS tag to a WordNet POS tag. <br>\n",
    "Then, we will pass this POS tag to the lemmatizer along with the word."
   ]
  },
  {
   "cell_type": "code",
   "execution_count": 14,
   "metadata": {},
   "outputs": [],
   "source": [
    "# define a function that will allow a treebank POS tag to be converted into a WordNet\n",
    "# POS Tag so the lemmatizer will understand it\n",
    "def get_wordnet_pos(treebank_tag):\n",
    "\n",
    "    if treebank_tag.startswith('J'):\n",
    "        return wordnet.ADJ\n",
    "    elif treebank_tag.startswith('V'):\n",
    "        return wordnet.VERB\n",
    "    elif treebank_tag.startswith('N'):\n",
    "        return wordnet.NOUN\n",
    "    elif treebank_tag.startswith('R'):\n",
    "        return wordnet.ADV\n",
    "    # default to Noun \n",
    "    else:\n",
    "        return wordnet.NOUN"
   ]
  },
  {
   "cell_type": "markdown",
   "execution_count": null,
   "metadata": {},
   "outputs": [],
   "source": [
    "Removing stop words is another common step in processing text data. Stop words are common words in a language that may potentially confuse a classifier due to their frequency."
   ]
  },
  {
   "cell_type": "markdown",
   "metadata": {},
   "source": [
    "We will implement a custom transformer with hyperparameters in order to determine if removing stop words and/or lemmatizing words will have a positive effect on classification efficacy.\n",
    "This custom transformer follows sklearn's rules for transformers so that it can be used in our processing pipeline."
   ]
  },
  {
   "cell_type": "code",
   "execution_count": 15,
   "metadata": {},
   "outputs": [],
   "source": [
    "# implement a custom transformer to determine if removing stops and/or lemmatizing improves model performance\n",
    "\n",
    "class MessageTokenizer(BaseEstimator, TransformerMixin):\n",
    "    def __init__(self, remove_stops=True, lemmatize=True):\n",
    "        self.remove_stops = remove_stops\n",
    "        self.lemmatize = lemmatize\n",
    "        \n",
    "    def fit(self, X, y=None):\n",
    "        return self\n",
    "    \n",
    "    def transform(self, X, y=None):\n",
    "        X_transformed = []\n",
    "        \n",
    "        # iterate over supplied messages\n",
    "        for text in X: \n",
    "            # remove all non-alphanumeric characters\n",
    "            text = re.sub(r'[^a-zA-Z0-9]', ' ', text)\n",
    "              \n",
    "            # lower and strip whitespace\n",
    "            text = text.lower().strip()\n",
    "    \n",
    "            # tokenize words - nltk.tokenize.word_tokenize\n",
    "            words = word_tokenize(text)\n",
    "            \n",
    "            if self.lemmatize:\n",
    "                # tag words with Part of Speech - list of (word, POS) tuples \n",
    "                # nltk.pos_tag()\n",
    "                words_with_pos_tag = pos_tag(words)\n",
    "                \n",
    "                if self.remove_stops:\n",
    "                    # remove stop words\n",
    "                    # stop_words = nlt.corpus.stopwords of 'english' language\n",
    "                    words_with_pos_tag = [word for word in words_with_pos_tag if word[0] not in stop_words]\n",
    "                \n",
    "                # change pos tags to wordnet pos tags for lemmatizer\n",
    "                words_with_wordnet_tag = []\n",
    "    \n",
    "                for word_with_tag in words_with_pos_tag:\n",
    "                    word, tag = word_with_tag\n",
    "                    tag = get_wordnet_pos(tag)\n",
    "                    words_with_wordnet_tag.append((word, tag))\n",
    "\n",
    "                # lemmatize\n",
    "                lemm = WordNetLemmatizer()\n",
    "                # unpack the (word, pos) tuple into the Lemmatizer to give better lemmatization \n",
    "                # lemmatization is more effective when it knows the correct part of speech\n",
    "                words = [lemm.lemmatize(*w) for w in words_with_wordnet_tag]\n",
    "                \n",
    "            else:\n",
    "                if self.remove_stops:\n",
    "                    words = [word for word in words if word not in stop_words]\n",
    "\n",
    "            # join cleaned words back into single document\n",
    "            X_transformed.append(' '.join(words))\n",
    "        \n",
    "        return X_transformed    "
   ]
  },
  {
   "cell_type": "markdown",
   "metadata": {},
   "source": [
    "Show off the custom transformer"
   ]
  },
  {
   "cell_type": "code",
   "execution_count": 16,
   "metadata": {},
   "outputs": [
    {
     "data": {
      "text/plain": "['We would not want these words taking up space in our database, or taking up valuable processing time. For this, we can remove them easily, by storing a list of words that you consider to be stop words',\n \"Here is another example of words. Isn't it great how words are?\"]"
     },
     "execution_count": 16,
     "metadata": {},
     "output_type": "execute_result"
    }
   ],
   "source": [
    "text = [\"We would not want these words taking up space in our database, or taking up valuable processing time. For this, we can remove them easily, by storing a list of words that you consider to be stop words\"]\n",
    "text.append(\"Here is another example of words. Isn't it great how words are?\")\n",
    "\n",
    "text"
   ]
  },
  {
   "cell_type": "code",
   "execution_count": 17,
   "metadata": {},
   "outputs": [
    {
     "data": {
      "text/plain": "['we would not want these word take up space in our database or take up valuable processing time for this we can remove them easily by store a list of word that you consider to be stop word',\n 'here be another example of word isn t it great how word be']"
     },
     "execution_count": 17,
     "metadata": {},
     "output_type": "execute_result"
    }
   ],
   "source": [
    "MessageTokenizer(remove_stops=False, lemmatize=True).transform(text)"
   ]
  },
  {
   "cell_type": "markdown",
   "metadata": {},
   "source": [
    "### 3. Build a first machine learning pipeline\n",
    "A pipeline allows us to wrap all of our data transformation steps into a neat little package."
   ]
  },
  {
   "cell_type": "code",
   "execution_count": 18,
   "metadata": {},
   "outputs": [],
   "source": [
    "pipeline = Pipeline([\n",
    "    ('msg_tokenizer', MessageTokenizer()),\n",
    "    # Count Vectorizer with Tokenizer\n",
    "    ('count_vec', CountVectorizer()),\n",
    "    # TF-IDF Transformer\n",
    "    ('tfidf', TfidfTransformer()),\n",
    "    # classifier - one classifier per label\n",
    "    ('clf', RandomForestClassifier())\n",
    "])"
   ]
  },
  {
   "cell_type": "markdown",
   "metadata": {},
   "source": [
    "### 4. Train pipeline\n",
    "- Split data into train and test sets\n",
    "- Train pipeline"
   ]
  },
  {
   "cell_type": "markdown",
   "metadata": {},
   "source": [
    "Since this is a multilabel classification, I looked into the iterative train-test-split supplied by skmultilearn.\n",
    "The idea with the iterative train test split is that in theory it can provide better label representation for mutli label problems. Here I will compare whether this train test split results in appropriate label representation for the train set."
   ]
  },
  {
   "cell_type": "code",
   "execution_count": 19,
   "metadata": {},
   "outputs": [],
   "source": [
    "# get the proportion of labels in the original data\n",
    "compare = pd.DataFrame(Y.mean(axis=0), columns=['dataset'])"
   ]
  },
  {
   "cell_type": "code",
   "execution_count": 20,
   "metadata": {},
   "outputs": [
    {
     "data": {
      "text/html": "<div>\n<style scoped>\n    .dataframe tbody tr th:only-of-type {\n        vertical-align: middle;\n    }\n\n    .dataframe tbody tr th {\n        vertical-align: top;\n    }\n\n    .dataframe thead th {\n        text-align: right;\n    }\n</style>\n<table border=\"1\" class=\"dataframe\">\n  <thead>\n    <tr style=\"text-align: right;\">\n      <th></th>\n      <th>dataset</th>\n    </tr>\n  </thead>\n  <tbody>\n    <tr>\n      <th>related</th>\n      <td>0.764792</td>\n    </tr>\n    <tr>\n      <th>request</th>\n      <td>0.171892</td>\n    </tr>\n    <tr>\n      <th>offer</th>\n      <td>0.004534</td>\n    </tr>\n    <tr>\n      <th>aid_related</th>\n      <td>0.417243</td>\n    </tr>\n    <tr>\n      <th>medical_help</th>\n      <td>0.080068</td>\n    </tr>\n  </tbody>\n</table>\n</div>",
      "text/plain": "               dataset\nrelated       0.764792\nrequest       0.171892\noffer         0.004534\naid_related   0.417243\nmedical_help  0.080068"
     },
     "execution_count": 20,
     "metadata": {},
     "output_type": "execute_result"
    }
   ],
   "source": [
    "compare.head()"
   ]
  },
  {
   "cell_type": "code",
   "execution_count": 21,
   "metadata": {},
   "outputs": [],
   "source": [
    "# employ skmultilearn's iterative train test split.\n",
    "# have to reshape the X values to be multidimensional since that's what this expects\n",
    "\n",
    "X_train, y_train, X_test, y_test = iterative_train_test_split(X.values.reshape(-1,1), Y.values, test_size = 0.25)"
   ]
  },
  {
   "cell_type": "code",
   "execution_count": 22,
   "metadata": {},
   "outputs": [],
   "source": [
    "# we want to see how the iterative split did with label proportions\n",
    "compare['train_set'] = y_train.mean(axis=0)"
   ]
  },
  {
   "cell_type": "code",
   "execution_count": 23,
   "metadata": {},
   "outputs": [],
   "source": [
    "# normal train test split - how does it compare\n",
    "X_train2, X_test2, y_train2, y_test2 = train_test_split(X, Y, test_size=0.25)"
   ]
  },
  {
   "cell_type": "code",
   "execution_count": 24,
   "metadata": {},
   "outputs": [],
   "source": [
    "compare['normal_split'] = y_train2.values.mean(axis=0)"
   ]
  },
  {
   "cell_type": "code",
   "execution_count": 25,
   "metadata": {},
   "outputs": [
    {
     "data": {
      "text/html": "<div>\n<style scoped>\n    .dataframe tbody tr th:only-of-type {\n        vertical-align: middle;\n    }\n\n    .dataframe tbody tr th {\n        vertical-align: top;\n    }\n\n    .dataframe thead th {\n        text-align: right;\n    }\n</style>\n<table border=\"1\" class=\"dataframe\">\n  <thead>\n    <tr style=\"text-align: right;\">\n      <th></th>\n      <th>dataset</th>\n      <th>train_set</th>\n      <th>normal_split</th>\n    </tr>\n  </thead>\n  <tbody>\n    <tr>\n      <th>related</th>\n      <td>0.764792</td>\n      <td>0.764817</td>\n      <td>0.764869</td>\n    </tr>\n    <tr>\n      <th>request</th>\n      <td>0.171892</td>\n      <td>0.136571</td>\n      <td>0.173352</td>\n    </tr>\n    <tr>\n      <th>offer</th>\n      <td>0.004534</td>\n      <td>0.004559</td>\n      <td>0.004354</td>\n    </tr>\n    <tr>\n      <th>aid_related</th>\n      <td>0.417243</td>\n      <td>0.417243</td>\n      <td>0.417909</td>\n    </tr>\n    <tr>\n      <th>medical_help</th>\n      <td>0.080068</td>\n      <td>0.087188</td>\n      <td>0.081861</td>\n    </tr>\n    <tr>\n      <th>medical_products</th>\n      <td>0.050446</td>\n      <td>0.052405</td>\n      <td>0.049793</td>\n    </tr>\n    <tr>\n      <th>search_and_rescue</th>\n      <td>0.027816</td>\n      <td>0.028636</td>\n      <td>0.027765</td>\n    </tr>\n    <tr>\n      <th>security</th>\n      <td>0.018096</td>\n      <td>0.019261</td>\n      <td>0.018903</td>\n    </tr>\n    <tr>\n      <th>military</th>\n      <td>0.033041</td>\n      <td>0.042006</td>\n      <td>0.032324</td>\n    </tr>\n    <tr>\n      <th>water</th>\n      <td>0.064239</td>\n      <td>0.061985</td>\n      <td>0.064341</td>\n    </tr>\n    <tr>\n      <th>food</th>\n      <td>0.112302</td>\n      <td>0.098509</td>\n      <td>0.112136</td>\n    </tr>\n    <tr>\n      <th>shelter</th>\n      <td>0.088904</td>\n      <td>0.085600</td>\n      <td>0.087752</td>\n    </tr>\n    <tr>\n      <th>clothing</th>\n      <td>0.015560</td>\n      <td>0.013421</td>\n      <td>0.015419</td>\n    </tr>\n    <tr>\n      <th>money</th>\n      <td>0.023206</td>\n      <td>0.023923</td>\n      <td>0.022796</td>\n    </tr>\n    <tr>\n      <th>missing_people</th>\n      <td>0.011449</td>\n      <td>0.011167</td>\n      <td>0.012346</td>\n    </tr>\n    <tr>\n      <th>refugees</th>\n      <td>0.033618</td>\n      <td>0.038113</td>\n      <td>0.032836</td>\n    </tr>\n    <tr>\n      <th>death</th>\n      <td>0.045874</td>\n      <td>0.048717</td>\n      <td>0.046924</td>\n    </tr>\n    <tr>\n      <th>other_aid</th>\n      <td>0.132396</td>\n      <td>0.126479</td>\n      <td>0.132217</td>\n    </tr>\n    <tr>\n      <th>infrastructure_related</th>\n      <td>0.065506</td>\n      <td>0.069566</td>\n      <td>0.064853</td>\n    </tr>\n    <tr>\n      <th>transport</th>\n      <td>0.046143</td>\n      <td>0.047539</td>\n      <td>0.046821</td>\n    </tr>\n    <tr>\n      <th>buildings</th>\n      <td>0.051214</td>\n      <td>0.051227</td>\n      <td>0.051790</td>\n    </tr>\n    <tr>\n      <th>electricity</th>\n      <td>0.020440</td>\n      <td>0.020440</td>\n      <td>0.020798</td>\n    </tr>\n    <tr>\n      <th>tools</th>\n      <td>0.006109</td>\n      <td>0.006864</td>\n      <td>0.006455</td>\n    </tr>\n    <tr>\n      <th>hospitals</th>\n      <td>0.010873</td>\n      <td>0.011833</td>\n      <td>0.011321</td>\n    </tr>\n    <tr>\n      <th>shops</th>\n      <td>0.004610</td>\n      <td>0.004508</td>\n      <td>0.004149</td>\n    </tr>\n    <tr>\n      <th>aid_centers</th>\n      <td>0.011872</td>\n      <td>0.013524</td>\n      <td>0.011833</td>\n    </tr>\n    <tr>\n      <th>other_infrastructure</th>\n      <td>0.044222</td>\n      <td>0.046873</td>\n      <td>0.043748</td>\n    </tr>\n    <tr>\n      <th>weather_related</th>\n      <td>0.280352</td>\n      <td>0.280365</td>\n      <td>0.280109</td>\n    </tr>\n    <tr>\n      <th>floods</th>\n      <td>0.082795</td>\n      <td>0.093438</td>\n      <td>0.084319</td>\n    </tr>\n    <tr>\n      <th>storm</th>\n      <td>0.093860</td>\n      <td>0.093899</td>\n      <td>0.093489</td>\n    </tr>\n    <tr>\n      <th>fire</th>\n      <td>0.010834</td>\n      <td>0.011936</td>\n      <td>0.011270</td>\n    </tr>\n    <tr>\n      <th>earthquake</th>\n      <td>0.094321</td>\n      <td>0.082373</td>\n      <td>0.093335</td>\n    </tr>\n    <tr>\n      <th>cold</th>\n      <td>0.020363</td>\n      <td>0.021976</td>\n      <td>0.020081</td>\n    </tr>\n    <tr>\n      <th>other_weather</th>\n      <td>0.052866</td>\n      <td>0.058655</td>\n      <td>0.052610</td>\n    </tr>\n    <tr>\n      <th>direct_report</th>\n      <td>0.194982</td>\n      <td>0.158803</td>\n      <td>0.196711</td>\n    </tr>\n  </tbody>\n</table>\n</div>",
      "text/plain": "                         dataset  train_set  normal_split\nrelated                 0.764792   0.764817      0.764869\nrequest                 0.171892   0.136571      0.173352\noffer                   0.004534   0.004559      0.004354\naid_related             0.417243   0.417243      0.417909\nmedical_help            0.080068   0.087188      0.081861\nmedical_products        0.050446   0.052405      0.049793\nsearch_and_rescue       0.027816   0.028636      0.027765\nsecurity                0.018096   0.019261      0.018903\nmilitary                0.033041   0.042006      0.032324\nwater                   0.064239   0.061985      0.064341\nfood                    0.112302   0.098509      0.112136\nshelter                 0.088904   0.085600      0.087752\nclothing                0.015560   0.013421      0.015419\nmoney                   0.023206   0.023923      0.022796\nmissing_people          0.011449   0.011167      0.012346\nrefugees                0.033618   0.038113      0.032836\ndeath                   0.045874   0.048717      0.046924\nother_aid               0.132396   0.126479      0.132217\ninfrastructure_related  0.065506   0.069566      0.064853\ntransport               0.046143   0.047539      0.046821\nbuildings               0.051214   0.051227      0.051790\nelectricity             0.020440   0.020440      0.020798\ntools                   0.006109   0.006864      0.006455\nhospitals               0.010873   0.011833      0.011321\nshops                   0.004610   0.004508      0.004149\naid_centers             0.011872   0.013524      0.011833\nother_infrastructure    0.044222   0.046873      0.043748\nweather_related         0.280352   0.280365      0.280109\nfloods                  0.082795   0.093438      0.084319\nstorm                   0.093860   0.093899      0.093489\nfire                    0.010834   0.011936      0.011270\nearthquake              0.094321   0.082373      0.093335\ncold                    0.020363   0.021976      0.020081\nother_weather           0.052866   0.058655      0.052610\ndirect_report           0.194982   0.158803      0.196711"
     },
     "execution_count": 25,
     "metadata": {},
     "output_type": "execute_result"
    }
   ],
   "source": [
    "compare"
   ]
  },
  {
   "cell_type": "code",
   "execution_count": 27,
   "metadata": {},
   "outputs": [
    {
     "data": {
      "text/html": "<div>\n<style scoped>\n    .dataframe tbody tr th:only-of-type {\n        vertical-align: middle;\n    }\n\n    .dataframe tbody tr th {\n        vertical-align: top;\n    }\n\n    .dataframe thead th {\n        text-align: right;\n    }\n</style>\n<table border=\"1\" class=\"dataframe\">\n  <thead>\n    <tr style=\"text-align: right;\">\n      <th></th>\n      <th>dataset - normalsplit</th>\n      <th>dataset - iterative split</th>\n    </tr>\n  </thead>\n  <tbody>\n    <tr>\n      <th>related</th>\n      <td>-0.000077</td>\n      <td>-0.000026</td>\n    </tr>\n    <tr>\n      <th>request</th>\n      <td>-0.001460</td>\n      <td>0.035321</td>\n    </tr>\n    <tr>\n      <th>offer</th>\n      <td>0.000179</td>\n      <td>-0.000026</td>\n    </tr>\n    <tr>\n      <th>aid_related</th>\n      <td>-0.000666</td>\n      <td>0.000000</td>\n    </tr>\n    <tr>\n      <th>medical_help</th>\n      <td>-0.001793</td>\n      <td>-0.007121</td>\n    </tr>\n    <tr>\n      <th>medical_products</th>\n      <td>0.000653</td>\n      <td>-0.001959</td>\n    </tr>\n    <tr>\n      <th>search_and_rescue</th>\n      <td>0.000051</td>\n      <td>-0.000820</td>\n    </tr>\n    <tr>\n      <th>security</th>\n      <td>-0.000807</td>\n      <td>-0.001165</td>\n    </tr>\n    <tr>\n      <th>military</th>\n      <td>0.000717</td>\n      <td>-0.008965</td>\n    </tr>\n    <tr>\n      <th>water</th>\n      <td>-0.000102</td>\n      <td>0.002254</td>\n    </tr>\n    <tr>\n      <th>food</th>\n      <td>0.000166</td>\n      <td>0.013793</td>\n    </tr>\n    <tr>\n      <th>shelter</th>\n      <td>0.001153</td>\n      <td>0.003304</td>\n    </tr>\n    <tr>\n      <th>clothing</th>\n      <td>0.000141</td>\n      <td>0.002139</td>\n    </tr>\n    <tr>\n      <th>money</th>\n      <td>0.000410</td>\n      <td>-0.000717</td>\n    </tr>\n    <tr>\n      <th>missing_people</th>\n      <td>-0.000896</td>\n      <td>0.000282</td>\n    </tr>\n    <tr>\n      <th>refugees</th>\n      <td>0.000781</td>\n      <td>-0.004495</td>\n    </tr>\n    <tr>\n      <th>death</th>\n      <td>-0.001050</td>\n      <td>-0.002843</td>\n    </tr>\n    <tr>\n      <th>other_aid</th>\n      <td>0.000179</td>\n      <td>0.005917</td>\n    </tr>\n    <tr>\n      <th>infrastructure_related</th>\n      <td>0.000653</td>\n      <td>-0.004060</td>\n    </tr>\n    <tr>\n      <th>transport</th>\n      <td>-0.000679</td>\n      <td>-0.001396</td>\n    </tr>\n    <tr>\n      <th>buildings</th>\n      <td>-0.000576</td>\n      <td>-0.000013</td>\n    </tr>\n    <tr>\n      <th>electricity</th>\n      <td>-0.000359</td>\n      <td>0.000000</td>\n    </tr>\n    <tr>\n      <th>tools</th>\n      <td>-0.000346</td>\n      <td>-0.000756</td>\n    </tr>\n    <tr>\n      <th>hospitals</th>\n      <td>-0.000448</td>\n      <td>-0.000961</td>\n    </tr>\n    <tr>\n      <th>shops</th>\n      <td>0.000461</td>\n      <td>0.000102</td>\n    </tr>\n    <tr>\n      <th>aid_centers</th>\n      <td>0.000038</td>\n      <td>-0.001652</td>\n    </tr>\n    <tr>\n      <th>other_infrastructure</th>\n      <td>0.000474</td>\n      <td>-0.002651</td>\n    </tr>\n    <tr>\n      <th>weather_related</th>\n      <td>0.000243</td>\n      <td>-0.000013</td>\n    </tr>\n    <tr>\n      <th>floods</th>\n      <td>-0.001524</td>\n      <td>-0.010642</td>\n    </tr>\n    <tr>\n      <th>storm</th>\n      <td>0.000371</td>\n      <td>-0.000038</td>\n    </tr>\n    <tr>\n      <th>fire</th>\n      <td>-0.000435</td>\n      <td>-0.001101</td>\n    </tr>\n    <tr>\n      <th>earthquake</th>\n      <td>0.000986</td>\n      <td>0.011949</td>\n    </tr>\n    <tr>\n      <th>cold</th>\n      <td>0.000282</td>\n      <td>-0.001614</td>\n    </tr>\n    <tr>\n      <th>other_weather</th>\n      <td>0.000256</td>\n      <td>-0.005789</td>\n    </tr>\n    <tr>\n      <th>direct_report</th>\n      <td>-0.001729</td>\n      <td>0.036179</td>\n    </tr>\n  </tbody>\n</table>\n</div>",
      "text/plain": "                        dataset - normalsplit  dataset - iterative split\nrelated                             -0.000077                  -0.000026\nrequest                             -0.001460                   0.035321\noffer                                0.000179                  -0.000026\naid_related                         -0.000666                   0.000000\nmedical_help                        -0.001793                  -0.007121\nmedical_products                     0.000653                  -0.001959\nsearch_and_rescue                    0.000051                  -0.000820\nsecurity                            -0.000807                  -0.001165\nmilitary                             0.000717                  -0.008965\nwater                               -0.000102                   0.002254\nfood                                 0.000166                   0.013793\nshelter                              0.001153                   0.003304\nclothing                             0.000141                   0.002139\nmoney                                0.000410                  -0.000717\nmissing_people                      -0.000896                   0.000282\nrefugees                             0.000781                  -0.004495\ndeath                               -0.001050                  -0.002843\nother_aid                            0.000179                   0.005917\ninfrastructure_related               0.000653                  -0.004060\ntransport                           -0.000679                  -0.001396\nbuildings                           -0.000576                  -0.000013\nelectricity                         -0.000359                   0.000000\ntools                               -0.000346                  -0.000756\nhospitals                           -0.000448                  -0.000961\nshops                                0.000461                   0.000102\naid_centers                          0.000038                  -0.001652\nother_infrastructure                 0.000474                  -0.002651\nweather_related                      0.000243                  -0.000013\nfloods                              -0.001524                  -0.010642\nstorm                                0.000371                  -0.000038\nfire                                -0.000435                  -0.001101\nearthquake                           0.000986                   0.011949\ncold                                 0.000282                  -0.001614\nother_weather                        0.000256                  -0.005789\ndirect_report                       -0.001729                   0.036179"
     },
     "execution_count": 27,
     "metadata": {},
     "output_type": "execute_result"
    }
   ],
   "source": [
    "diff = pd.DataFrame(compare['dataset'] - compare['normal_split'])\n",
    "diff.columns = ['dataset - normalsplit']\n",
    "diff['dataset - iterative split'] = compare['dataset'] - compare['train_set']\n",
    "diff"
   ]
  },
  {
   "cell_type": "code",
   "execution_count": 28,
   "metadata": {},
   "outputs": [
    {
     "data": {
      "image/png": "[encoded data removed]",
      "image/svg+xml": "<?xml version=\"1.0\" encoding=\"utf-8\" standalone=\"no\"?>\r\n<!DOCTYPE svg PUBLIC \"-//W3C//DTD SVG 1.1//EN\"\r\n  \"http://www.w3.org/Graphics/SVG/1.1/DTD/svg11.dtd\">\r\n<!-- Created with matplotlib (https://matplotlib.org/) -->\r\n<svg height=\"588.35625pt\" version=\"1.1\" viewBox=\"0 0 688.459375 588.35625\" width=\"688.459375pt\" xmlns=\"http://www.w3.org/2000/svg\" xmlns:xlink=\"http://www.w3.org/1999/xlink\">\r\n <defs>\r\n  <style type=\"text/css\">\r\n*{stroke-linecap:butt;stroke-linejoin:round;}\r\n  </style>\r\n </defs>\r\n <g id=\"figure_1\">\r\n  <g id=\"patch_1\">\r\n   <path d=\"M 0 588.35625 \r\nL 688.459375 588.35625 \r\nL 688.459375 0 \r\nL 0 0 \r\nz\r\n\" style=\"fill:none;\"/>\r\n  </g>\r\n  <g id=\"axes_1\">\r\n   <g id=\"patch_2\">\r\n    <path d=\"M 123.259375 550.8 \r\nL 681.259375 550.8 \r\nL 681.259375 7.2 \r\nL 123.259375 7.2 \r\nz\r\n\" style=\"fill:#ffffff;\"/>\r\n   </g>\r\n   <g id=\"patch_3\">\r\n    <path clip-path=\"url(#p8539877249)\" d=\"M 263.924881 546.917143 \r\nL 263.092377 546.917143 \r\nL 263.092377 543.034286 \r\nL 263.924881 543.034286 \r\nz\r\n\" style=\"fill:#1f77b4;\"/>\r\n   </g>\r\n   <g id=\"patch_4\">\r\n    <path clip-path=\"url(#p8539877249)\" d=\"M 263.924881 531.385714 \r\nL 248.107296 531.385714 \r\nL 248.107296 527.502857 \r\nL 263.924881 527.502857 \r\nz\r\n\" style=\"fill:#1f77b4;\"/>\r\n   </g>\r\n   <g id=\"patch_5\">\r\n    <path clip-path=\"url(#p8539877249)\" d=\"M 263.924881 515.854286 \r\nL 265.867392 515.854286 \r\nL 265.867392 511.971429 \r\nL 263.924881 511.971429 \r\nz\r\n\" style=\"fill:#1f77b4;\"/>\r\n   </g>\r\n   <g id=\"patch_6\">\r\n    <path clip-path=\"url(#p8539877249)\" d=\"M 263.924881 500.322857 \r\nL 256.709842 500.322857 \r\nL 256.709842 496.44 \r\nL 263.924881 496.44 \r\nz\r\n\" style=\"fill:#1f77b4;\"/>\r\n   </g>\r\n   <g id=\"patch_7\">\r\n    <path clip-path=\"url(#p8539877249)\" d=\"M 263.924881 484.791429 \r\nL 244.499777 484.791429 \r\nL 244.499777 480.908571 \r\nL 263.924881 480.908571 \r\nz\r\n\" style=\"fill:#1f77b4;\"/>\r\n   </g>\r\n   <g id=\"patch_8\">\r\n    <path clip-path=\"url(#p8539877249)\" d=\"M 263.924881 469.26 \r\nL 271.001169 469.26 \r\nL 271.001169 465.377143 \r\nL 263.924881 465.377143 \r\nz\r\n\" style=\"fill:#1f77b4;\"/>\r\n   </g>\r\n   <g id=\"patch_9\">\r\n    <path clip-path=\"url(#p8539877249)\" d=\"M 263.924881 453.728571 \r\nL 264.479884 453.728571 \r\nL 264.479884 449.845714 \r\nL 263.924881 449.845714 \r\nz\r\n\" style=\"fill:#1f77b4;\"/>\r\n   </g>\r\n   <g id=\"patch_10\">\r\n    <path clip-path=\"url(#p8539877249)\" d=\"M 263.924881 438.197143 \r\nL 255.183584 438.197143 \r\nL 255.183584 434.314286 \r\nL 263.924881 434.314286 \r\nz\r\n\" style=\"fill:#1f77b4;\"/>\r\n   </g>\r\n   <g id=\"patch_11\">\r\n    <path clip-path=\"url(#p8539877249)\" d=\"M 263.924881 422.665714 \r\nL 271.694923 422.665714 \r\nL 271.694923 418.782857 \r\nL 263.924881 418.782857 \r\nz\r\n\" style=\"fill:#1f77b4;\"/>\r\n   </g>\r\n   <g id=\"patch_12\">\r\n    <path clip-path=\"url(#p8539877249)\" d=\"M 263.924881 407.134286 \r\nL 262.814875 407.134286 \r\nL 262.814875 403.251429 \r\nL 263.924881 403.251429 \r\nz\r\n\" style=\"fill:#1f77b4;\"/>\r\n   </g>\r\n   <g id=\"patch_13\">\r\n    <path clip-path=\"url(#p8539877249)\" d=\"M 263.924881 391.602857 \r\nL 265.728641 391.602857 \r\nL 265.728641 387.72 \r\nL 263.924881 387.72 \r\nz\r\n\" style=\"fill:#1f77b4;\"/>\r\n   </g>\r\n   <g id=\"patch_14\">\r\n    <path clip-path=\"url(#p8539877249)\" d=\"M 263.924881 376.071429 \r\nL 276.412448 376.071429 \r\nL 276.412448 372.188571 \r\nL 263.924881 372.188571 \r\nz\r\n\" style=\"fill:#1f77b4;\"/>\r\n   </g>\r\n   <g id=\"patch_15\">\r\n    <path clip-path=\"url(#p8539877249)\" d=\"M 263.924881 360.54 \r\nL 265.451139 360.54 \r\nL 265.451139 356.657143 \r\nL 263.924881 356.657143 \r\nz\r\n\" style=\"fill:#1f77b4;\"/>\r\n   </g>\r\n   <g id=\"patch_16\">\r\n    <path clip-path=\"url(#p8539877249)\" d=\"M 263.924881 345.008571 \r\nL 268.364905 345.008571 \r\nL 268.364905 341.125714 \r\nL 263.924881 341.125714 \r\nz\r\n\" style=\"fill:#1f77b4;\"/>\r\n   </g>\r\n   <g id=\"patch_17\">\r\n    <path clip-path=\"url(#p8539877249)\" d=\"M 263.924881 329.477143 \r\nL 254.212329 329.477143 \r\nL 254.212329 325.594286 \r\nL 263.924881 325.594286 \r\nz\r\n\" style=\"fill:#1f77b4;\"/>\r\n   </g>\r\n   <g id=\"patch_18\">\r\n    <path clip-path=\"url(#p8539877249)\" d=\"M 263.924881 313.945714 \r\nL 272.388677 313.945714 \r\nL 272.388677 310.062857 \r\nL 263.924881 310.062857 \r\nz\r\n\" style=\"fill:#1f77b4;\"/>\r\n   </g>\r\n   <g id=\"patch_19\">\r\n    <path clip-path=\"url(#p8539877249)\" d=\"M 263.924881 298.414286 \r\nL 252.54732 298.414286 \r\nL 252.54732 294.531429 \r\nL 263.924881 294.531429 \r\nz\r\n\" style=\"fill:#1f77b4;\"/>\r\n   </g>\r\n   <g id=\"patch_20\">\r\n    <path clip-path=\"url(#p8539877249)\" d=\"M 263.924881 282.882857 \r\nL 265.867392 282.882857 \r\nL 265.867392 279 \r\nL 263.924881 279 \r\nz\r\n\" style=\"fill:#1f77b4;\"/>\r\n   </g>\r\n   <g id=\"patch_21\">\r\n    <path clip-path=\"url(#p8539877249)\" d=\"M 263.924881 267.351429 \r\nL 271.001169 267.351429 \r\nL 271.001169 263.468571 \r\nL 263.924881 263.468571 \r\nz\r\n\" style=\"fill:#1f77b4;\"/>\r\n   </g>\r\n   <g id=\"patch_22\">\r\n    <path clip-path=\"url(#p8539877249)\" d=\"M 263.924881 251.82 \r\nL 256.571092 251.82 \r\nL 256.571092 247.937143 \r\nL 263.924881 247.937143 \r\nz\r\n\" style=\"fill:#1f77b4;\"/>\r\n   </g>\r\n   <g id=\"patch_23\">\r\n    <path clip-path=\"url(#p8539877249)\" d=\"M 263.924881 236.288571 \r\nL 257.681098 236.288571 \r\nL 257.681098 232.405714 \r\nL 263.924881 232.405714 \r\nz\r\n\" style=\"fill:#1f77b4;\"/>\r\n   </g>\r\n   <g id=\"patch_24\">\r\n    <path clip-path=\"url(#p8539877249)\" d=\"M 263.924881 220.757143 \r\nL 260.03986 220.757143 \r\nL 260.03986 216.874286 \r\nL 263.924881 216.874286 \r\nz\r\n\" style=\"fill:#1f77b4;\"/>\r\n   </g>\r\n   <g id=\"patch_25\">\r\n    <path clip-path=\"url(#p8539877249)\" d=\"M 263.924881 205.225714 \r\nL 260.178611 205.225714 \r\nL 260.178611 201.342857 \r\nL 263.924881 201.342857 \r\nz\r\n\" style=\"fill:#1f77b4;\"/>\r\n   </g>\r\n   <g id=\"patch_26\">\r\n    <path clip-path=\"url(#p8539877249)\" d=\"M 263.924881 189.694286 \r\nL 259.068605 189.694286 \r\nL 259.068605 185.811429 \r\nL 263.924881 185.811429 \r\nz\r\n\" style=\"fill:#1f77b4;\"/>\r\n   </g>\r\n   <g id=\"patch_27\">\r\n    <path clip-path=\"url(#p8539877249)\" d=\"M 263.924881 174.162857 \r\nL 268.919908 174.162857 \r\nL 268.919908 170.28 \r\nL 263.924881 170.28 \r\nz\r\n\" style=\"fill:#1f77b4;\"/>\r\n   </g>\r\n   <g id=\"patch_28\">\r\n    <path clip-path=\"url(#p8539877249)\" d=\"M 263.924881 158.631429 \r\nL 264.341134 158.631429 \r\nL 264.341134 154.748571 \r\nL 263.924881 154.748571 \r\nz\r\n\" style=\"fill:#1f77b4;\"/>\r\n   </g>\r\n   <g id=\"patch_29\">\r\n    <path clip-path=\"url(#p8539877249)\" d=\"M 263.924881 143.1 \r\nL 269.058659 143.1 \r\nL 269.058659 139.217143 \r\nL 263.924881 139.217143 \r\nz\r\n\" style=\"fill:#1f77b4;\"/>\r\n   </g>\r\n   <g id=\"patch_30\">\r\n    <path clip-path=\"url(#p8539877249)\" d=\"M 263.924881 127.568571 \r\nL 266.561145 127.568571 \r\nL 266.561145 123.685714 \r\nL 263.924881 123.685714 \r\nz\r\n\" style=\"fill:#1f77b4;\"/>\r\n   </g>\r\n   <g id=\"patch_31\">\r\n    <path clip-path=\"url(#p8539877249)\" d=\"M 263.924881 112.037143 \r\nL 247.413542 112.037143 \r\nL 247.413542 108.154286 \r\nL 263.924881 108.154286 \r\nz\r\n\" style=\"fill:#1f77b4;\"/>\r\n   </g>\r\n   <g id=\"patch_32\">\r\n    <path clip-path=\"url(#p8539877249)\" d=\"M 263.924881 96.505714 \r\nL 267.948653 96.505714 \r\nL 267.948653 92.622857 \r\nL 263.924881 92.622857 \r\nz\r\n\" style=\"fill:#1f77b4;\"/>\r\n   </g>\r\n   <g id=\"patch_33\">\r\n    <path clip-path=\"url(#p8539877249)\" d=\"M 263.924881 80.974286 \r\nL 259.207356 80.974286 \r\nL 259.207356 77.091429 \r\nL 263.924881 77.091429 \r\nz\r\n\" style=\"fill:#1f77b4;\"/>\r\n   </g>\r\n   <g id=\"patch_34\">\r\n    <path clip-path=\"url(#p8539877249)\" d=\"M 263.924881 65.442857 \r\nL 274.608689 65.442857 \r\nL 274.608689 61.56 \r\nL 263.924881 61.56 \r\nz\r\n\" style=\"fill:#1f77b4;\"/>\r\n   </g>\r\n   <g id=\"patch_35\">\r\n    <path clip-path=\"url(#p8539877249)\" d=\"M 263.924881 49.911429 \r\nL 266.977398 49.911429 \r\nL 266.977398 46.028571 \r\nL 263.924881 46.028571 \r\nz\r\n\" style=\"fill:#1f77b4;\"/>\r\n   </g>\r\n   <g id=\"patch_36\">\r\n    <path clip-path=\"url(#p8539877249)\" d=\"M 263.924881 34.38 \r\nL 266.699896 34.38 \r\nL 266.699896 30.497143 \r\nL 263.924881 30.497143 \r\nz\r\n\" style=\"fill:#1f77b4;\"/>\r\n   </g>\r\n   <g id=\"patch_37\">\r\n    <path clip-path=\"url(#p8539877249)\" d=\"M 263.924881 18.848571 \r\nL 245.193531 18.848571 \r\nL 245.193531 14.965714 \r\nL 263.924881 14.965714 \r\nz\r\n\" style=\"fill:#1f77b4;\"/>\r\n   </g>\r\n   <g id=\"patch_38\">\r\n    <path clip-path=\"url(#p8539877249)\" d=\"M 263.924881 543.034286 \r\nL 263.64738 543.034286 \r\nL 263.64738 539.151429 \r\nL 263.924881 539.151429 \r\nz\r\n\" style=\"fill:#ff7f0e;\"/>\r\n   </g>\r\n   <g id=\"patch_39\">\r\n    <path clip-path=\"url(#p8539877249)\" d=\"M 263.924881 527.502857 \r\nL 646.599439 527.502857 \r\nL 646.599439 523.62 \r\nL 263.924881 523.62 \r\nz\r\n\" style=\"fill:#ff7f0e;\"/>\r\n   </g>\r\n   <g id=\"patch_40\">\r\n    <path clip-path=\"url(#p8539877249)\" d=\"M 263.924881 511.971429 \r\nL 263.64738 511.971429 \r\nL 263.64738 508.088571 \r\nL 263.924881 508.088571 \r\nz\r\n\" style=\"fill:#ff7f0e;\"/>\r\n   </g>\r\n   <g id=\"patch_41\">\r\n    <path clip-path=\"url(#p8539877249)\" d=\"M 263.924881 496.44 \r\nL 263.924881 496.44 \r\nL 263.924881 492.557143 \r\nL 263.924881 492.557143 \r\nz\r\n\" style=\"fill:#ff7f0e;\"/>\r\n   </g>\r\n   <g id=\"patch_42\">\r\n    <path clip-path=\"url(#p8539877249)\" d=\"M 263.924881 480.908571 \r\nL 186.779467 480.908571 \r\nL 186.779467 477.025714 \r\nL 263.924881 477.025714 \r\nz\r\n\" style=\"fill:#ff7f0e;\"/>\r\n   </g>\r\n   <g id=\"patch_43\">\r\n    <path clip-path=\"url(#p8539877249)\" d=\"M 263.924881 465.377143 \r\nL 242.696017 465.377143 \r\nL 242.696017 461.494286 \r\nL 263.924881 461.494286 \r\nz\r\n\" style=\"fill:#ff7f0e;\"/>\r\n   </g>\r\n   <g id=\"patch_44\">\r\n    <path clip-path=\"url(#p8539877249)\" d=\"M 263.924881 449.845714 \r\nL 255.044834 449.845714 \r\nL 255.044834 445.962857 \r\nL 263.924881 445.962857 \r\nz\r\n\" style=\"fill:#ff7f0e;\"/>\r\n   </g>\r\n   <g id=\"patch_45\">\r\n    <path clip-path=\"url(#p8539877249)\" d=\"M 263.924881 434.314286 \r\nL 251.298563 434.314286 \r\nL 251.298563 430.431429 \r\nL 263.924881 430.431429 \r\nz\r\n\" style=\"fill:#ff7f0e;\"/>\r\n   </g>\r\n   <g id=\"patch_46\">\r\n    <path clip-path=\"url(#p8539877249)\" d=\"M 263.924881 418.782857 \r\nL 166.799359 418.782857 \r\nL 166.799359 414.9 \r\nL 263.924881 414.9 \r\nz\r\n\" style=\"fill:#ff7f0e;\"/>\r\n   </g>\r\n   <g id=\"patch_47\">\r\n    <path clip-path=\"url(#p8539877249)\" d=\"M 263.924881 403.251429 \r\nL 288.345013 403.251429 \r\nL 288.345013 399.368571 \r\nL 263.924881 399.368571 \r\nz\r\n\" style=\"fill:#ff7f0e;\"/>\r\n   </g>\r\n   <g id=\"patch_48\">\r\n    <path clip-path=\"url(#p8539877249)\" d=\"M 263.924881 387.72 \r\nL 413.359435 387.72 \r\nL 413.359435 383.837143 \r\nL 263.924881 383.837143 \r\nz\r\n\" style=\"fill:#ff7f0e;\"/>\r\n   </g>\r\n   <g id=\"patch_49\">\r\n    <path clip-path=\"url(#p8539877249)\" d=\"M 263.924881 372.188571 \r\nL 299.722574 372.188571 \r\nL 299.722574 368.305714 \r\nL 263.924881 368.305714 \r\nz\r\n\" style=\"fill:#ff7f0e;\"/>\r\n   </g>\r\n   <g id=\"patch_50\">\r\n    <path clip-path=\"url(#p8539877249)\" d=\"M 263.924881 356.657143 \r\nL 287.096256 356.657143 \r\nL 287.096256 352.774286 \r\nL 263.924881 352.774286 \r\nz\r\n\" style=\"fill:#ff7f0e;\"/>\r\n   </g>\r\n   <g id=\"patch_51\">\r\n    <path clip-path=\"url(#p8539877249)\" d=\"M 263.924881 341.125714 \r\nL 256.154839 341.125714 \r\nL 256.154839 337.242857 \r\nL 263.924881 337.242857 \r\nz\r\n\" style=\"fill:#ff7f0e;\"/>\r\n   </g>\r\n   <g id=\"patch_52\">\r\n    <path clip-path=\"url(#p8539877249)\" d=\"M 263.924881 325.594286 \r\nL 266.977398 325.594286 \r\nL 266.977398 321.711429 \r\nL 263.924881 321.711429 \r\nz\r\n\" style=\"fill:#ff7f0e;\"/>\r\n   </g>\r\n   <g id=\"patch_53\">\r\n    <path clip-path=\"url(#p8539877249)\" d=\"M 263.924881 310.062857 \r\nL 215.223369 310.062857 \r\nL 215.223369 306.18 \r\nL 263.924881 306.18 \r\nz\r\n\" style=\"fill:#ff7f0e;\"/>\r\n   </g>\r\n   <g id=\"patch_54\">\r\n    <path clip-path=\"url(#p8539877249)\" d=\"M 263.924881 294.531429 \r\nL 233.122216 294.531429 \r\nL 233.122216 290.648571 \r\nL 263.924881 290.648571 \r\nz\r\n\" style=\"fill:#ff7f0e;\"/>\r\n   </g>\r\n   <g id=\"patch_55\">\r\n    <path clip-path=\"url(#p8539877249)\" d=\"M 263.924881 279 \r\nL 328.027726 279 \r\nL 328.027726 275.117143 \r\nL 263.924881 275.117143 \r\nz\r\n\" style=\"fill:#ff7f0e;\"/>\r\n   </g>\r\n   <g id=\"patch_56\">\r\n    <path clip-path=\"url(#p8539877249)\" d=\"M 263.924881 263.468571 \r\nL 219.940895 263.468571 \r\nL 219.940895 259.585714 \r\nL 263.924881 259.585714 \r\nz\r\n\" style=\"fill:#ff7f0e;\"/>\r\n   </g>\r\n   <g id=\"patch_57\">\r\n    <path clip-path=\"url(#p8539877249)\" d=\"M 263.924881 247.937143 \r\nL 248.80105 247.937143 \r\nL 248.80105 244.054286 \r\nL 263.924881 244.054286 \r\nz\r\n\" style=\"fill:#ff7f0e;\"/>\r\n   </g>\r\n   <g id=\"patch_58\">\r\n    <path clip-path=\"url(#p8539877249)\" d=\"M 263.924881 232.405714 \r\nL 263.786131 232.405714 \r\nL 263.786131 228.522857 \r\nL 263.924881 228.522857 \r\nz\r\n\" style=\"fill:#ff7f0e;\"/>\r\n   </g>\r\n   <g id=\"patch_59\">\r\n    <path clip-path=\"url(#p8539877249)\" d=\"M 263.924881 216.874286 \r\nL 263.924881 216.874286 \r\nL 263.924881 212.991429 \r\nL 263.924881 212.991429 \r\nz\r\n\" style=\"fill:#ff7f0e;\"/>\r\n   </g>\r\n   <g id=\"patch_60\">\r\n    <path clip-path=\"url(#p8539877249)\" d=\"M 263.924881 201.342857 \r\nL 255.738587 201.342857 \r\nL 255.738587 197.46 \r\nL 263.924881 197.46 \r\nz\r\n\" style=\"fill:#ff7f0e;\"/>\r\n   </g>\r\n   <g id=\"patch_61\">\r\n    <path clip-path=\"url(#p8539877249)\" d=\"M 263.924881 185.811429 \r\nL 253.518575 185.811429 \r\nL 253.518575 181.928571 \r\nL 263.924881 181.928571 \r\nz\r\n\" style=\"fill:#ff7f0e;\"/>\r\n   </g>\r\n   <g id=\"patch_62\">\r\n    <path clip-path=\"url(#p8539877249)\" d=\"M 263.924881 170.28 \r\nL 265.034887 170.28 \r\nL 265.034887 166.397143 \r\nL 263.924881 166.397143 \r\nz\r\n\" style=\"fill:#ff7f0e;\"/>\r\n   </g>\r\n   <g id=\"patch_63\">\r\n    <path clip-path=\"url(#p8539877249)\" d=\"M 263.924881 154.748571 \r\nL 246.026035 154.748571 \r\nL 246.026035 150.865714 \r\nL 263.924881 150.865714 \r\nz\r\n\" style=\"fill:#ff7f0e;\"/>\r\n   </g>\r\n   <g id=\"patch_64\">\r\n    <path clip-path=\"url(#p8539877249)\" d=\"M 263.924881 139.217143 \r\nL 235.203477 139.217143 \r\nL 235.203477 135.334286 \r\nL 263.924881 135.334286 \r\nz\r\n\" style=\"fill:#ff7f0e;\"/>\r\n   </g>\r\n   <g id=\"patch_65\">\r\n    <path clip-path=\"url(#p8539877249)\" d=\"M 263.924881 123.685714 \r\nL 263.786131 123.685714 \r\nL 263.786131 119.802857 \r\nL 263.924881 119.802857 \r\nz\r\n\" style=\"fill:#ff7f0e;\"/>\r\n   </g>\r\n   <g id=\"patch_66\">\r\n    <path clip-path=\"url(#p8539877249)\" d=\"M 263.924881 108.154286 \r\nL 148.623011 108.154286 \r\nL 148.623011 104.271429 \r\nL 263.924881 104.271429 \r\nz\r\n\" style=\"fill:#ff7f0e;\"/>\r\n   </g>\r\n   <g id=\"patch_67\">\r\n    <path clip-path=\"url(#p8539877249)\" d=\"M 263.924881 92.622857 \r\nL 263.508629 92.622857 \r\nL 263.508629 88.74 \r\nL 263.924881 88.74 \r\nz\r\n\" style=\"fill:#ff7f0e;\"/>\r\n   </g>\r\n   <g id=\"patch_68\">\r\n    <path clip-path=\"url(#p8539877249)\" d=\"M 263.924881 77.091429 \r\nL 251.992317 77.091429 \r\nL 251.992317 73.208571 \r\nL 263.924881 73.208571 \r\nz\r\n\" style=\"fill:#ff7f0e;\"/>\r\n   </g>\r\n   <g id=\"patch_69\">\r\n    <path clip-path=\"url(#p8539877249)\" d=\"M 263.924881 61.56 \r\nL 393.379327 61.56 \r\nL 393.379327 57.677143 \r\nL 263.924881 57.677143 \r\nz\r\n\" style=\"fill:#ff7f0e;\"/>\r\n   </g>\r\n   <g id=\"patch_70\">\r\n    <path clip-path=\"url(#p8539877249)\" d=\"M 263.924881 46.028571 \r\nL 246.442287 46.028571 \r\nL 246.442287 42.145714 \r\nL 263.924881 42.145714 \r\nz\r\n\" style=\"fill:#ff7f0e;\"/>\r\n   </g>\r\n   <g id=\"patch_71\">\r\n    <path clip-path=\"url(#p8539877249)\" d=\"M 263.924881 30.497143 \r\nL 201.209544 30.497143 \r\nL 201.209544 26.614286 \r\nL 263.924881 26.614286 \r\nz\r\n\" style=\"fill:#ff7f0e;\"/>\r\n   </g>\r\n   <g id=\"patch_72\">\r\n    <path clip-path=\"url(#p8539877249)\" d=\"M 263.924881 14.965714 \r\nL 655.895739 14.965714 \r\nL 655.895739 11.082857 \r\nL 263.924881 11.082857 \r\nz\r\n\" style=\"fill:#ff7f0e;\"/>\r\n   </g>\r\n   <g id=\"matplotlib.axis_1\">\r\n    <g id=\"xtick_1\">\r\n     <g id=\"line2d_1\">\r\n      <defs>\r\n       <path d=\"M 0 0 \r\nL 0 3.5 \r\n\" id=\"meca239274f\" style=\"stroke:#000000;stroke-width:0.8;\"/>\r\n      </defs>\r\n      <g>\r\n       <use style=\"stroke:#000000;stroke-width:0.8;\" x=\"155.582749\" xlink:href=\"#meca239274f\" y=\"550.8\"/>\r\n      </g>\r\n     </g>\r\n     <g id=\"text_1\">\r\n      <!-- −0.01 -->\r\n      <defs>\r\n       <path d=\"M 10.59375 35.5 \r\nL 73.1875 35.5 \r\nL 73.1875 27.203125 \r\nL 10.59375 27.203125 \r\nz\r\n\" id=\"DejaVuSans-8722\"/>\r\n       <path d=\"M 31.78125 66.40625 \r\nQ 24.171875 66.40625 20.328125 58.90625 \r\nQ 16.5 51.421875 16.5 36.375 \r\nQ 16.5 21.390625 20.328125 13.890625 \r\nQ 24.171875 6.390625 31.78125 6.390625 \r\nQ 39.453125 6.390625 43.28125 13.890625 \r\nQ 47.125 21.390625 47.125 36.375 \r\nQ 47.125 51.421875 43.28125 58.90625 \r\nQ 39.453125 66.40625 31.78125 66.40625 \r\nz\r\nM 31.78125 74.21875 \r\nQ 44.046875 74.21875 50.515625 64.515625 \r\nQ 56.984375 54.828125 56.984375 36.375 \r\nQ 56.984375 17.96875 50.515625 8.265625 \r\nQ 44.046875 -1.421875 31.78125 -1.421875 \r\nQ 19.53125 -1.421875 13.0625 8.265625 \r\nQ 6.59375 17.96875 6.59375 36.375 \r\nQ 6.59375 54.828125 13.0625 64.515625 \r\nQ 19.53125 74.21875 31.78125 74.21875 \r\nz\r\n\" id=\"DejaVuSans-48\"/>\r\n       <path d=\"M 10.6875 12.40625 \r\nL 21 12.40625 \r\nL 21 0 \r\nL 10.6875 0 \r\nz\r\n\" id=\"DejaVuSans-46\"/>\r\n       <path d=\"M 12.40625 8.296875 \r\nL 28.515625 8.296875 \r\nL 28.515625 63.921875 \r\nL 10.984375 60.40625 \r\nL 10.984375 69.390625 \r\nL 28.421875 72.90625 \r\nL 38.28125 72.90625 \r\nL 38.28125 8.296875 \r\nL 54.390625 8.296875 \r\nL 54.390625 0 \r\nL 12.40625 0 \r\nz\r\n\" id=\"DejaVuSans-49\"/>\r\n      </defs>\r\n      <g transform=\"translate(140.260093 565.398438)scale(0.1 -0.1)\">\r\n       <use xlink:href=\"#DejaVuSans-8722\"/>\r\n       <use x=\"83.789062\" xlink:href=\"#DejaVuSans-48\"/>\r\n       <use x=\"147.412109\" xlink:href=\"#DejaVuSans-46\"/>\r\n       <use x=\"179.199219\" xlink:href=\"#DejaVuSans-48\"/>\r\n       <use x=\"242.822266\" xlink:href=\"#DejaVuSans-49\"/>\r\n      </g>\r\n     </g>\r\n    </g>\r\n    <g id=\"xtick_2\">\r\n     <g id=\"line2d_2\">\r\n      <g>\r\n       <use style=\"stroke:#000000;stroke-width:0.8;\" x=\"263.924881\" xlink:href=\"#meca239274f\" y=\"550.8\"/>\r\n      </g>\r\n     </g>\r\n     <g id=\"text_2\">\r\n      <!-- 0.00 -->\r\n      <g transform=\"translate(252.792069 565.398438)scale(0.1 -0.1)\">\r\n       <use xlink:href=\"#DejaVuSans-48\"/>\r\n       <use x=\"63.623047\" xlink:href=\"#DejaVuSans-46\"/>\r\n       <use x=\"95.410156\" xlink:href=\"#DejaVuSans-48\"/>\r\n       <use x=\"159.033203\" xlink:href=\"#DejaVuSans-48\"/>\r\n      </g>\r\n     </g>\r\n    </g>\r\n    <g id=\"xtick_3\">\r\n     <g id=\"line2d_3\">\r\n      <g>\r\n       <use style=\"stroke:#000000;stroke-width:0.8;\" x=\"372.267014\" xlink:href=\"#meca239274f\" y=\"550.8\"/>\r\n      </g>\r\n     </g>\r\n     <g id=\"text_3\">\r\n      <!-- 0.01 -->\r\n      <g transform=\"translate(361.134201 565.398438)scale(0.1 -0.1)\">\r\n       <use xlink:href=\"#DejaVuSans-48\"/>\r\n       <use x=\"63.623047\" xlink:href=\"#DejaVuSans-46\"/>\r\n       <use x=\"95.410156\" xlink:href=\"#DejaVuSans-48\"/>\r\n       <use x=\"159.033203\" xlink:href=\"#DejaVuSans-49\"/>\r\n      </g>\r\n     </g>\r\n    </g>\r\n    <g id=\"xtick_4\">\r\n     <g id=\"line2d_4\">\r\n      <g>\r\n       <use style=\"stroke:#000000;stroke-width:0.8;\" x=\"480.609146\" xlink:href=\"#meca239274f\" y=\"550.8\"/>\r\n      </g>\r\n     </g>\r\n     <g id=\"text_4\">\r\n      <!-- 0.02 -->\r\n      <defs>\r\n       <path d=\"M 19.1875 8.296875 \r\nL 53.609375 8.296875 \r\nL 53.609375 0 \r\nL 7.328125 0 \r\nL 7.328125 8.296875 \r\nQ 12.9375 14.109375 22.625 23.890625 \r\nQ 32.328125 33.6875 34.8125 36.53125 \r\nQ 39.546875 41.84375 41.421875 45.53125 \r\nQ 43.3125 49.21875 43.3125 52.78125 \r\nQ 43.3125 58.59375 39.234375 62.25 \r\nQ 35.15625 65.921875 28.609375 65.921875 \r\nQ 23.96875 65.921875 18.8125 64.3125 \r\nQ 13.671875 62.703125 7.8125 59.421875 \r\nL 7.8125 69.390625 \r\nQ 13.765625 71.78125 18.9375 73 \r\nQ 24.125 74.21875 28.421875 74.21875 \r\nQ 39.75 74.21875 46.484375 68.546875 \r\nQ 53.21875 62.890625 53.21875 53.421875 \r\nQ 53.21875 48.921875 51.53125 44.890625 \r\nQ 49.859375 40.875 45.40625 35.40625 \r\nQ 44.1875 33.984375 37.640625 27.21875 \r\nQ 31.109375 20.453125 19.1875 8.296875 \r\nz\r\n\" id=\"DejaVuSans-50\"/>\r\n      </defs>\r\n      <g transform=\"translate(469.476334 565.398438)scale(0.1 -0.1)\">\r\n       <use xlink:href=\"#DejaVuSans-48\"/>\r\n       <use x=\"63.623047\" xlink:href=\"#DejaVuSans-46\"/>\r\n       <use x=\"95.410156\" xlink:href=\"#DejaVuSans-48\"/>\r\n       <use x=\"159.033203\" xlink:href=\"#DejaVuSans-50\"/>\r\n      </g>\r\n     </g>\r\n    </g>\r\n    <g id=\"xtick_5\">\r\n     <g id=\"line2d_5\">\r\n      <g>\r\n       <use style=\"stroke:#000000;stroke-width:0.8;\" x=\"588.951279\" xlink:href=\"#meca239274f\" y=\"550.8\"/>\r\n      </g>\r\n     </g>\r\n     <g id=\"text_5\">\r\n      <!-- 0.03 -->\r\n      <defs>\r\n       <path d=\"M 40.578125 39.3125 \r\nQ 47.65625 37.796875 51.625 33 \r\nQ 55.609375 28.21875 55.609375 21.1875 \r\nQ 55.609375 10.40625 48.1875 4.484375 \r\nQ 40.765625 -1.421875 27.09375 -1.421875 \r\nQ 22.515625 -1.421875 17.65625 -0.515625 \r\nQ 12.796875 0.390625 7.625 2.203125 \r\nL 7.625 11.71875 \r\nQ 11.71875 9.328125 16.59375 8.109375 \r\nQ 21.484375 6.890625 26.8125 6.890625 \r\nQ 36.078125 6.890625 40.9375 10.546875 \r\nQ 45.796875 14.203125 45.796875 21.1875 \r\nQ 45.796875 27.640625 41.28125 31.265625 \r\nQ 36.765625 34.90625 28.71875 34.90625 \r\nL 20.21875 34.90625 \r\nL 20.21875 43.015625 \r\nL 29.109375 43.015625 \r\nQ 36.375 43.015625 40.234375 45.921875 \r\nQ 44.09375 48.828125 44.09375 54.296875 \r\nQ 44.09375 59.90625 40.109375 62.90625 \r\nQ 36.140625 65.921875 28.71875 65.921875 \r\nQ 24.65625 65.921875 20.015625 65.03125 \r\nQ 15.375 64.15625 9.8125 62.3125 \r\nL 9.8125 71.09375 \r\nQ 15.4375 72.65625 20.34375 73.4375 \r\nQ 25.25 74.21875 29.59375 74.21875 \r\nQ 40.828125 74.21875 47.359375 69.109375 \r\nQ 53.90625 64.015625 53.90625 55.328125 \r\nQ 53.90625 49.265625 50.4375 45.09375 \r\nQ 46.96875 40.921875 40.578125 39.3125 \r\nz\r\n\" id=\"DejaVuSans-51\"/>\r\n      </defs>\r\n      <g transform=\"translate(577.818466 565.398438)scale(0.1 -0.1)\">\r\n       <use xlink:href=\"#DejaVuSans-48\"/>\r\n       <use x=\"63.623047\" xlink:href=\"#DejaVuSans-46\"/>\r\n       <use x=\"95.410156\" xlink:href=\"#DejaVuSans-48\"/>\r\n       <use x=\"159.033203\" xlink:href=\"#DejaVuSans-51\"/>\r\n      </g>\r\n     </g>\r\n    </g>\r\n    <g id=\"text_6\">\r\n     <!-- Diff in label proportion from original -->\r\n     <defs>\r\n      <path d=\"M 19.671875 64.796875 \r\nL 19.671875 8.109375 \r\nL 31.59375 8.109375 \r\nQ 46.6875 8.109375 53.6875 14.9375 \r\nQ 60.6875 21.78125 60.6875 36.53125 \r\nQ 60.6875 51.171875 53.6875 57.984375 \r\nQ 46.6875 64.796875 31.59375 64.796875 \r\nz\r\nM 9.8125 72.90625 \r\nL 30.078125 72.90625 \r\nQ 51.265625 72.90625 61.171875 64.09375 \r\nQ 71.09375 55.28125 71.09375 36.53125 \r\nQ 71.09375 17.671875 61.125 8.828125 \r\nQ 51.171875 0 30.078125 0 \r\nL 9.8125 0 \r\nz\r\n\" id=\"DejaVuSans-68\"/>\r\n      <path d=\"M 9.421875 54.6875 \r\nL 18.40625 54.6875 \r\nL 18.40625 0 \r\nL 9.421875 0 \r\nz\r\nM 9.421875 75.984375 \r\nL 18.40625 75.984375 \r\nL 18.40625 64.59375 \r\nL 9.421875 64.59375 \r\nz\r\n\" id=\"DejaVuSans-105\"/>\r\n      <path d=\"M 37.109375 75.984375 \r\nL 37.109375 68.5 \r\nL 28.515625 68.5 \r\nQ 23.6875 68.5 21.796875 66.546875 \r\nQ 19.921875 64.59375 19.921875 59.515625 \r\nL 19.921875 54.6875 \r\nL 34.71875 54.6875 \r\nL 34.71875 47.703125 \r\nL 19.921875 47.703125 \r\nL 19.921875 0 \r\nL 10.890625 0 \r\nL 10.890625 47.703125 \r\nL 2.296875 47.703125 \r\nL 2.296875 54.6875 \r\nL 10.890625 54.6875 \r\nL 10.890625 58.5 \r\nQ 10.890625 67.625 15.140625 71.796875 \r\nQ 19.390625 75.984375 28.609375 75.984375 \r\nz\r\n\" id=\"DejaVuSans-102\"/>\r\n      <path id=\"DejaVuSans-32\"/>\r\n      <path d=\"M 54.890625 33.015625 \r\nL 54.890625 0 \r\nL 45.90625 0 \r\nL 45.90625 32.71875 \r\nQ 45.90625 40.484375 42.875 44.328125 \r\nQ 39.84375 48.1875 33.796875 48.1875 \r\nQ 26.515625 48.1875 22.3125 43.546875 \r\nQ 18.109375 38.921875 18.109375 30.90625 \r\nL 18.109375 0 \r\nL 9.078125 0 \r\nL 9.078125 54.6875 \r\nL 18.109375 54.6875 \r\nL 18.109375 46.1875 \r\nQ 21.34375 51.125 25.703125 53.5625 \r\nQ 30.078125 56 35.796875 56 \r\nQ 45.21875 56 50.046875 50.171875 \r\nQ 54.890625 44.34375 54.890625 33.015625 \r\nz\r\n\" id=\"DejaVuSans-110\"/>\r\n      <path d=\"M 9.421875 75.984375 \r\nL 18.40625 75.984375 \r\nL 18.40625 0 \r\nL 9.421875 0 \r\nz\r\n\" id=\"DejaVuSans-108\"/>\r\n      <path d=\"M 34.28125 27.484375 \r\nQ 23.390625 27.484375 19.1875 25 \r\nQ 14.984375 22.515625 14.984375 16.5 \r\nQ 14.984375 11.71875 18.140625 8.90625 \r\nQ 21.296875 6.109375 26.703125 6.109375 \r\nQ 34.1875 6.109375 38.703125 11.40625 \r\nQ 43.21875 16.703125 43.21875 25.484375 \r\nL 43.21875 27.484375 \r\nz\r\nM 52.203125 31.203125 \r\nL 52.203125 0 \r\nL 43.21875 0 \r\nL 43.21875 8.296875 \r\nQ 40.140625 3.328125 35.546875 0.953125 \r\nQ 30.953125 -1.421875 24.3125 -1.421875 \r\nQ 15.921875 -1.421875 10.953125 3.296875 \r\nQ 6 8.015625 6 15.921875 \r\nQ 6 25.140625 12.171875 29.828125 \r\nQ 18.359375 34.515625 30.609375 34.515625 \r\nL 43.21875 34.515625 \r\nL 43.21875 35.40625 \r\nQ 43.21875 41.609375 39.140625 45 \r\nQ 35.0625 48.390625 27.6875 48.390625 \r\nQ 23 48.390625 18.546875 47.265625 \r\nQ 14.109375 46.140625 10.015625 43.890625 \r\nL 10.015625 52.203125 \r\nQ 14.9375 54.109375 19.578125 55.046875 \r\nQ 24.21875 56 28.609375 56 \r\nQ 40.484375 56 46.34375 49.84375 \r\nQ 52.203125 43.703125 52.203125 31.203125 \r\nz\r\n\" id=\"DejaVuSans-97\"/>\r\n      <path d=\"M 48.6875 27.296875 \r\nQ 48.6875 37.203125 44.609375 42.84375 \r\nQ 40.53125 48.484375 33.40625 48.484375 \r\nQ 26.265625 48.484375 22.1875 42.84375 \r\nQ 18.109375 37.203125 18.109375 27.296875 \r\nQ 18.109375 17.390625 22.1875 11.75 \r\nQ 26.265625 6.109375 33.40625 6.109375 \r\nQ 40.53125 6.109375 44.609375 11.75 \r\nQ 48.6875 17.390625 48.6875 27.296875 \r\nz\r\nM 18.109375 46.390625 \r\nQ 20.953125 51.265625 25.265625 53.625 \r\nQ 29.59375 56 35.59375 56 \r\nQ 45.5625 56 51.78125 48.09375 \r\nQ 58.015625 40.1875 58.015625 27.296875 \r\nQ 58.015625 14.40625 51.78125 6.484375 \r\nQ 45.5625 -1.421875 35.59375 -1.421875 \r\nQ 29.59375 -1.421875 25.265625 0.953125 \r\nQ 20.953125 3.328125 18.109375 8.203125 \r\nL 18.109375 0 \r\nL 9.078125 0 \r\nL 9.078125 75.984375 \r\nL 18.109375 75.984375 \r\nz\r\n\" id=\"DejaVuSans-98\"/>\r\n      <path d=\"M 56.203125 29.59375 \r\nL 56.203125 25.203125 \r\nL 14.890625 25.203125 \r\nQ 15.484375 15.921875 20.484375 11.0625 \r\nQ 25.484375 6.203125 34.421875 6.203125 \r\nQ 39.59375 6.203125 44.453125 7.46875 \r\nQ 49.3125 8.734375 54.109375 11.28125 \r\nL 54.109375 2.78125 \r\nQ 49.265625 0.734375 44.1875 -0.34375 \r\nQ 39.109375 -1.421875 33.890625 -1.421875 \r\nQ 20.796875 -1.421875 13.15625 6.1875 \r\nQ 5.515625 13.8125 5.515625 26.8125 \r\nQ 5.515625 40.234375 12.765625 48.109375 \r\nQ 20.015625 56 32.328125 56 \r\nQ 43.359375 56 49.78125 48.890625 \r\nQ 56.203125 41.796875 56.203125 29.59375 \r\nz\r\nM 47.21875 32.234375 \r\nQ 47.125 39.59375 43.09375 43.984375 \r\nQ 39.0625 48.390625 32.421875 48.390625 \r\nQ 24.90625 48.390625 20.390625 44.140625 \r\nQ 15.875 39.890625 15.1875 32.171875 \r\nz\r\n\" id=\"DejaVuSans-101\"/>\r\n      <path d=\"M 18.109375 8.203125 \r\nL 18.109375 -20.796875 \r\nL 9.078125 -20.796875 \r\nL 9.078125 54.6875 \r\nL 18.109375 54.6875 \r\nL 18.109375 46.390625 \r\nQ 20.953125 51.265625 25.265625 53.625 \r\nQ 29.59375 56 35.59375 56 \r\nQ 45.5625 56 51.78125 48.09375 \r\nQ 58.015625 40.1875 58.015625 27.296875 \r\nQ 58.015625 14.40625 51.78125 6.484375 \r\nQ 45.5625 -1.421875 35.59375 -1.421875 \r\nQ 29.59375 -1.421875 25.265625 0.953125 \r\nQ 20.953125 3.328125 18.109375 8.203125 \r\nz\r\nM 48.6875 27.296875 \r\nQ 48.6875 37.203125 44.609375 42.84375 \r\nQ 40.53125 48.484375 33.40625 48.484375 \r\nQ 26.265625 48.484375 22.1875 42.84375 \r\nQ 18.109375 37.203125 18.109375 27.296875 \r\nQ 18.109375 17.390625 22.1875 11.75 \r\nQ 26.265625 6.109375 33.40625 6.109375 \r\nQ 40.53125 6.109375 44.609375 11.75 \r\nQ 48.6875 17.390625 48.6875 27.296875 \r\nz\r\n\" id=\"DejaVuSans-112\"/>\r\n      <path d=\"M 41.109375 46.296875 \r\nQ 39.59375 47.171875 37.8125 47.578125 \r\nQ 36.03125 48 33.890625 48 \r\nQ 26.265625 48 22.1875 43.046875 \r\nQ 18.109375 38.09375 18.109375 28.8125 \r\nL 18.109375 0 \r\nL 9.078125 0 \r\nL 9.078125 54.6875 \r\nL 18.109375 54.6875 \r\nL 18.109375 46.1875 \r\nQ 20.953125 51.171875 25.484375 53.578125 \r\nQ 30.03125 56 36.53125 56 \r\nQ 37.453125 56 38.578125 55.875 \r\nQ 39.703125 55.765625 41.0625 55.515625 \r\nz\r\n\" id=\"DejaVuSans-114\"/>\r\n      <path d=\"M 30.609375 48.390625 \r\nQ 23.390625 48.390625 19.1875 42.75 \r\nQ 14.984375 37.109375 14.984375 27.296875 \r\nQ 14.984375 17.484375 19.15625 11.84375 \r\nQ 23.34375 6.203125 30.609375 6.203125 \r\nQ 37.796875 6.203125 41.984375 11.859375 \r\nQ 46.1875 17.53125 46.1875 27.296875 \r\nQ 46.1875 37.015625 41.984375 42.703125 \r\nQ 37.796875 48.390625 30.609375 48.390625 \r\nz\r\nM 30.609375 56 \r\nQ 42.328125 56 49.015625 48.375 \r\nQ 55.71875 40.765625 55.71875 27.296875 \r\nQ 55.71875 13.875 49.015625 6.21875 \r\nQ 42.328125 -1.421875 30.609375 -1.421875 \r\nQ 18.84375 -1.421875 12.171875 6.21875 \r\nQ 5.515625 13.875 5.515625 27.296875 \r\nQ 5.515625 40.765625 12.171875 48.375 \r\nQ 18.84375 56 30.609375 56 \r\nz\r\n\" id=\"DejaVuSans-111\"/>\r\n      <path d=\"M 18.3125 70.21875 \r\nL 18.3125 54.6875 \r\nL 36.8125 54.6875 \r\nL 36.8125 47.703125 \r\nL 18.3125 47.703125 \r\nL 18.3125 18.015625 \r\nQ 18.3125 11.328125 20.140625 9.421875 \r\nQ 21.96875 7.515625 27.59375 7.515625 \r\nL 36.8125 7.515625 \r\nL 36.8125 0 \r\nL 27.59375 0 \r\nQ 17.1875 0 13.234375 3.875 \r\nQ 9.28125 7.765625 9.28125 18.015625 \r\nL 9.28125 47.703125 \r\nL 2.6875 47.703125 \r\nL 2.6875 54.6875 \r\nL 9.28125 54.6875 \r\nL 9.28125 70.21875 \r\nz\r\n\" id=\"DejaVuSans-116\"/>\r\n      <path d=\"M 52 44.1875 \r\nQ 55.375 50.25 60.0625 53.125 \r\nQ 64.75 56 71.09375 56 \r\nQ 79.640625 56 84.28125 50.015625 \r\nQ 88.921875 44.046875 88.921875 33.015625 \r\nL 88.921875 0 \r\nL 79.890625 0 \r\nL 79.890625 32.71875 \r\nQ 79.890625 40.578125 77.09375 44.375 \r\nQ 74.3125 48.1875 68.609375 48.1875 \r\nQ 61.625 48.1875 57.5625 43.546875 \r\nQ 53.515625 38.921875 53.515625 30.90625 \r\nL 53.515625 0 \r\nL 44.484375 0 \r\nL 44.484375 32.71875 \r\nQ 44.484375 40.625 41.703125 44.40625 \r\nQ 38.921875 48.1875 33.109375 48.1875 \r\nQ 26.21875 48.1875 22.15625 43.53125 \r\nQ 18.109375 38.875 18.109375 30.90625 \r\nL 18.109375 0 \r\nL 9.078125 0 \r\nL 9.078125 54.6875 \r\nL 18.109375 54.6875 \r\nL 18.109375 46.1875 \r\nQ 21.1875 51.21875 25.484375 53.609375 \r\nQ 29.78125 56 35.6875 56 \r\nQ 41.65625 56 45.828125 52.96875 \r\nQ 50 49.953125 52 44.1875 \r\nz\r\n\" id=\"DejaVuSans-109\"/>\r\n      <path d=\"M 45.40625 27.984375 \r\nQ 45.40625 37.75 41.375 43.109375 \r\nQ 37.359375 48.484375 30.078125 48.484375 \r\nQ 22.859375 48.484375 18.828125 43.109375 \r\nQ 14.796875 37.75 14.796875 27.984375 \r\nQ 14.796875 18.265625 18.828125 12.890625 \r\nQ 22.859375 7.515625 30.078125 7.515625 \r\nQ 37.359375 7.515625 41.375 12.890625 \r\nQ 45.40625 18.265625 45.40625 27.984375 \r\nz\r\nM 54.390625 6.78125 \r\nQ 54.390625 -7.171875 48.1875 -13.984375 \r\nQ 42 -20.796875 29.203125 -20.796875 \r\nQ 24.46875 -20.796875 20.265625 -20.09375 \r\nQ 16.0625 -19.390625 12.109375 -17.921875 \r\nL 12.109375 -9.1875 \r\nQ 16.0625 -11.328125 19.921875 -12.34375 \r\nQ 23.78125 -13.375 27.78125 -13.375 \r\nQ 36.625 -13.375 41.015625 -8.765625 \r\nQ 45.40625 -4.15625 45.40625 5.171875 \r\nL 45.40625 9.625 \r\nQ 42.625 4.78125 38.28125 2.390625 \r\nQ 33.9375 0 27.875 0 \r\nQ 17.828125 0 11.671875 7.65625 \r\nQ 5.515625 15.328125 5.515625 27.984375 \r\nQ 5.515625 40.671875 11.671875 48.328125 \r\nQ 17.828125 56 27.875 56 \r\nQ 33.9375 56 38.28125 53.609375 \r\nQ 42.625 51.21875 45.40625 46.390625 \r\nL 45.40625 54.6875 \r\nL 54.390625 54.6875 \r\nz\r\n\" id=\"DejaVuSans-103\"/>\r\n     </defs>\r\n     <g transform=\"translate(312.317187 579.076563)scale(0.1 -0.1)\">\r\n      <use xlink:href=\"#DejaVuSans-68\"/>\r\n      <use x=\"77.001953\" xlink:href=\"#DejaVuSans-105\"/>\r\n      <use x=\"104.785156\" xlink:href=\"#DejaVuSans-102\"/>\r\n      <use x=\"139.990234\" xlink:href=\"#DejaVuSans-102\"/>\r\n      <use x=\"175.195312\" xlink:href=\"#DejaVuSans-32\"/>\r\n      <use x=\"206.982422\" xlink:href=\"#DejaVuSans-105\"/>\r\n      <use x=\"234.765625\" xlink:href=\"#DejaVuSans-110\"/>\r\n      <use x=\"298.144531\" xlink:href=\"#DejaVuSans-32\"/>\r\n      <use x=\"329.931641\" xlink:href=\"#DejaVuSans-108\"/>\r\n      <use x=\"357.714844\" xlink:href=\"#DejaVuSans-97\"/>\r\n      <use x=\"418.994141\" xlink:href=\"#DejaVuSans-98\"/>\r\n      <use x=\"482.470703\" xlink:href=\"#DejaVuSans-101\"/>\r\n      <use x=\"543.994141\" xlink:href=\"#DejaVuSans-108\"/>\r\n      <use x=\"571.777344\" xlink:href=\"#DejaVuSans-32\"/>\r\n      <use x=\"603.564453\" xlink:href=\"#DejaVuSans-112\"/>\r\n      <use x=\"667.041016\" xlink:href=\"#DejaVuSans-114\"/>\r\n      <use x=\"708.123047\" xlink:href=\"#DejaVuSans-111\"/>\r\n      <use x=\"769.304688\" xlink:href=\"#DejaVuSans-112\"/>\r\n      <use x=\"832.78125\" xlink:href=\"#DejaVuSans-111\"/>\r\n      <use x=\"893.962891\" xlink:href=\"#DejaVuSans-114\"/>\r\n      <use x=\"935.076172\" xlink:href=\"#DejaVuSans-116\"/>\r\n      <use x=\"974.285156\" xlink:href=\"#DejaVuSans-105\"/>\r\n      <use x=\"1002.068359\" xlink:href=\"#DejaVuSans-111\"/>\r\n      <use x=\"1063.25\" xlink:href=\"#DejaVuSans-110\"/>\r\n      <use x=\"1126.628906\" xlink:href=\"#DejaVuSans-32\"/>\r\n      <use x=\"1158.416016\" xlink:href=\"#DejaVuSans-102\"/>\r\n      <use x=\"1193.621094\" xlink:href=\"#DejaVuSans-114\"/>\r\n      <use x=\"1234.703125\" xlink:href=\"#DejaVuSans-111\"/>\r\n      <use x=\"1295.884766\" xlink:href=\"#DejaVuSans-109\"/>\r\n      <use x=\"1393.296875\" xlink:href=\"#DejaVuSans-32\"/>\r\n      <use x=\"1425.083984\" xlink:href=\"#DejaVuSans-111\"/>\r\n      <use x=\"1486.265625\" xlink:href=\"#DejaVuSans-114\"/>\r\n      <use x=\"1527.378906\" xlink:href=\"#DejaVuSans-105\"/>\r\n      <use x=\"1555.162109\" xlink:href=\"#DejaVuSans-103\"/>\r\n      <use x=\"1618.638672\" xlink:href=\"#DejaVuSans-105\"/>\r\n      <use x=\"1646.421875\" xlink:href=\"#DejaVuSans-110\"/>\r\n      <use x=\"1709.800781\" xlink:href=\"#DejaVuSans-97\"/>\r\n      <use x=\"1771.080078\" xlink:href=\"#DejaVuSans-108\"/>\r\n     </g>\r\n    </g>\r\n   </g>\r\n   <g id=\"matplotlib.axis_2\">\r\n    <g id=\"ytick_1\">\r\n     <g id=\"line2d_6\">\r\n      <defs>\r\n       <path d=\"M 0 0 \r\nL -3.5 0 \r\n\" id=\"m1e75b6204d\" style=\"stroke:#000000;stroke-width:0.8;\"/>\r\n      </defs>\r\n      <g>\r\n       <use style=\"stroke:#000000;stroke-width:0.8;\" x=\"123.259375\" xlink:href=\"#m1e75b6204d\" y=\"543.034286\"/>\r\n      </g>\r\n     </g>\r\n     <g id=\"text_7\">\r\n      <!-- related -->\r\n      <defs>\r\n       <path d=\"M 45.40625 46.390625 \r\nL 45.40625 75.984375 \r\nL 54.390625 75.984375 \r\nL 54.390625 0 \r\nL 45.40625 0 \r\nL 45.40625 8.203125 \r\nQ 42.578125 3.328125 38.25 0.953125 \r\nQ 33.9375 -1.421875 27.875 -1.421875 \r\nQ 17.96875 -1.421875 11.734375 6.484375 \r\nQ 5.515625 14.40625 5.515625 27.296875 \r\nQ 5.515625 40.1875 11.734375 48.09375 \r\nQ 17.96875 56 27.875 56 \r\nQ 33.9375 56 38.25 53.625 \r\nQ 42.578125 51.265625 45.40625 46.390625 \r\nz\r\nM 14.796875 27.296875 \r\nQ 14.796875 17.390625 18.875 11.75 \r\nQ 22.953125 6.109375 30.078125 6.109375 \r\nQ 37.203125 6.109375 41.296875 11.75 \r\nQ 45.40625 17.390625 45.40625 27.296875 \r\nQ 45.40625 37.203125 41.296875 42.84375 \r\nQ 37.203125 48.484375 30.078125 48.484375 \r\nQ 22.953125 48.484375 18.875 42.84375 \r\nQ 14.796875 37.203125 14.796875 27.296875 \r\nz\r\n\" id=\"DejaVuSans-100\"/>\r\n      </defs>\r\n      <g transform=\"translate(80.670312 546.833504)scale(0.1 -0.1)\">\r\n       <use xlink:href=\"#DejaVuSans-114\"/>\r\n       <use x=\"41.082031\" xlink:href=\"#DejaVuSans-101\"/>\r\n       <use x=\"102.605469\" xlink:href=\"#DejaVuSans-108\"/>\r\n       <use x=\"130.388672\" xlink:href=\"#DejaVuSans-97\"/>\r\n       <use x=\"191.667969\" xlink:href=\"#DejaVuSans-116\"/>\r\n       <use x=\"230.876953\" xlink:href=\"#DejaVuSans-101\"/>\r\n       <use x=\"292.400391\" xlink:href=\"#DejaVuSans-100\"/>\r\n      </g>\r\n     </g>\r\n    </g>\r\n    <g id=\"ytick_2\">\r\n     <g id=\"line2d_7\">\r\n      <g>\r\n       <use style=\"stroke:#000000;stroke-width:0.8;\" x=\"123.259375\" xlink:href=\"#m1e75b6204d\" y=\"527.502857\"/>\r\n      </g>\r\n     </g>\r\n     <g id=\"text_8\">\r\n      <!-- request -->\r\n      <defs>\r\n       <path d=\"M 14.796875 27.296875 \r\nQ 14.796875 17.390625 18.875 11.75 \r\nQ 22.953125 6.109375 30.078125 6.109375 \r\nQ 37.203125 6.109375 41.296875 11.75 \r\nQ 45.40625 17.390625 45.40625 27.296875 \r\nQ 45.40625 37.203125 41.296875 42.84375 \r\nQ 37.203125 48.484375 30.078125 48.484375 \r\nQ 22.953125 48.484375 18.875 42.84375 \r\nQ 14.796875 37.203125 14.796875 27.296875 \r\nz\r\nM 45.40625 8.203125 \r\nQ 42.578125 3.328125 38.25 0.953125 \r\nQ 33.9375 -1.421875 27.875 -1.421875 \r\nQ 17.96875 -1.421875 11.734375 6.484375 \r\nQ 5.515625 14.40625 5.515625 27.296875 \r\nQ 5.515625 40.1875 11.734375 48.09375 \r\nQ 17.96875 56 27.875 56 \r\nQ 33.9375 56 38.25 53.625 \r\nQ 42.578125 51.265625 45.40625 46.390625 \r\nL 45.40625 54.6875 \r\nL 54.390625 54.6875 \r\nL 54.390625 -20.796875 \r\nL 45.40625 -20.796875 \r\nz\r\n\" id=\"DejaVuSans-113\"/>\r\n       <path d=\"M 8.5 21.578125 \r\nL 8.5 54.6875 \r\nL 17.484375 54.6875 \r\nL 17.484375 21.921875 \r\nQ 17.484375 14.15625 20.5 10.265625 \r\nQ 23.53125 6.390625 29.59375 6.390625 \r\nQ 36.859375 6.390625 41.078125 11.03125 \r\nQ 45.3125 15.671875 45.3125 23.6875 \r\nL 45.3125 54.6875 \r\nL 54.296875 54.6875 \r\nL 54.296875 0 \r\nL 45.3125 0 \r\nL 45.3125 8.40625 \r\nQ 42.046875 3.421875 37.71875 1 \r\nQ 33.40625 -1.421875 27.6875 -1.421875 \r\nQ 18.265625 -1.421875 13.375 4.4375 \r\nQ 8.5 10.296875 8.5 21.578125 \r\nz\r\nM 31.109375 56 \r\nz\r\n\" id=\"DejaVuSans-117\"/>\r\n       <path d=\"M 44.28125 53.078125 \r\nL 44.28125 44.578125 \r\nQ 40.484375 46.53125 36.375 47.5 \r\nQ 32.28125 48.484375 27.875 48.484375 \r\nQ 21.1875 48.484375 17.84375 46.4375 \r\nQ 14.5 44.390625 14.5 40.28125 \r\nQ 14.5 37.15625 16.890625 35.375 \r\nQ 19.28125 33.59375 26.515625 31.984375 \r\nL 29.59375 31.296875 \r\nQ 39.15625 29.25 43.1875 25.515625 \r\nQ 47.21875 21.78125 47.21875 15.09375 \r\nQ 47.21875 7.46875 41.1875 3.015625 \r\nQ 35.15625 -1.421875 24.609375 -1.421875 \r\nQ 20.21875 -1.421875 15.453125 -0.5625 \r\nQ 10.6875 0.296875 5.421875 2 \r\nL 5.421875 11.28125 \r\nQ 10.40625 8.6875 15.234375 7.390625 \r\nQ 20.0625 6.109375 24.8125 6.109375 \r\nQ 31.15625 6.109375 34.5625 8.28125 \r\nQ 37.984375 10.453125 37.984375 14.40625 \r\nQ 37.984375 18.0625 35.515625 20.015625 \r\nQ 33.0625 21.96875 24.703125 23.78125 \r\nL 21.578125 24.515625 \r\nQ 13.234375 26.265625 9.515625 29.90625 \r\nQ 5.8125 33.546875 5.8125 39.890625 \r\nQ 5.8125 47.609375 11.28125 51.796875 \r\nQ 16.75 56 26.8125 56 \r\nQ 31.78125 56 36.171875 55.265625 \r\nQ 40.578125 54.546875 44.28125 53.078125 \r\nz\r\n\" id=\"DejaVuSans-115\"/>\r\n      </defs>\r\n      <g transform=\"translate(78.029687 531.302076)scale(0.1 -0.1)\">\r\n       <use xlink:href=\"#DejaVuSans-114\"/>\r\n       <use x=\"41.082031\" xlink:href=\"#DejaVuSans-101\"/>\r\n       <use x=\"102.605469\" xlink:href=\"#DejaVuSans-113\"/>\r\n       <use x=\"166.082031\" xlink:href=\"#DejaVuSans-117\"/>\r\n       <use x=\"229.460938\" xlink:href=\"#DejaVuSans-101\"/>\r\n       <use x=\"290.984375\" xlink:href=\"#DejaVuSans-115\"/>\r\n       <use x=\"343.083984\" xlink:href=\"#DejaVuSans-116\"/>\r\n      </g>\r\n     </g>\r\n    </g>\r\n    <g id=\"ytick_3\">\r\n     <g id=\"line2d_8\">\r\n      <g>\r\n       <use style=\"stroke:#000000;stroke-width:0.8;\" x=\"123.259375\" xlink:href=\"#m1e75b6204d\" y=\"511.971429\"/>\r\n      </g>\r\n     </g>\r\n     <g id=\"text_9\">\r\n      <!-- offer -->\r\n      <g transform=\"translate(92.835938 515.770647)scale(0.1 -0.1)\">\r\n       <use xlink:href=\"#DejaVuSans-111\"/>\r\n       <use x=\"61.181641\" xlink:href=\"#DejaVuSans-102\"/>\r\n       <use x=\"96.386719\" xlink:href=\"#DejaVuSans-102\"/>\r\n       <use x=\"131.591797\" xlink:href=\"#DejaVuSans-101\"/>\r\n       <use x=\"193.115234\" xlink:href=\"#DejaVuSans-114\"/>\r\n      </g>\r\n     </g>\r\n    </g>\r\n    <g id=\"ytick_4\">\r\n     <g id=\"line2d_9\">\r\n      <g>\r\n       <use style=\"stroke:#000000;stroke-width:0.8;\" x=\"123.259375\" xlink:href=\"#m1e75b6204d\" y=\"496.44\"/>\r\n      </g>\r\n     </g>\r\n     <g id=\"text_10\">\r\n      <!-- aid_related -->\r\n      <defs>\r\n       <path d=\"M 50.984375 -16.609375 \r\nL 50.984375 -23.578125 \r\nL -0.984375 -23.578125 \r\nL -0.984375 -16.609375 \r\nz\r\n\" id=\"DejaVuSans-95\"/>\r\n      </defs>\r\n      <g transform=\"translate(60.415625 500.239219)scale(0.1 -0.1)\">\r\n       <use xlink:href=\"#DejaVuSans-97\"/>\r\n       <use x=\"61.279297\" xlink:href=\"#DejaVuSans-105\"/>\r\n       <use x=\"89.0625\" xlink:href=\"#DejaVuSans-100\"/>\r\n       <use x=\"152.539062\" xlink:href=\"#DejaVuSans-95\"/>\r\n       <use x=\"202.539062\" xlink:href=\"#DejaVuSans-114\"/>\r\n       <use x=\"243.621094\" xlink:href=\"#DejaVuSans-101\"/>\r\n       <use x=\"305.144531\" xlink:href=\"#DejaVuSans-108\"/>\r\n       <use x=\"332.927734\" xlink:href=\"#DejaVuSans-97\"/>\r\n       <use x=\"394.207031\" xlink:href=\"#DejaVuSans-116\"/>\r\n       <use x=\"433.416016\" xlink:href=\"#DejaVuSans-101\"/>\r\n       <use x=\"494.939453\" xlink:href=\"#DejaVuSans-100\"/>\r\n      </g>\r\n     </g>\r\n    </g>\r\n    <g id=\"ytick_5\">\r\n     <g id=\"line2d_10\">\r\n      <g>\r\n       <use style=\"stroke:#000000;stroke-width:0.8;\" x=\"123.259375\" xlink:href=\"#m1e75b6204d\" y=\"480.908571\"/>\r\n      </g>\r\n     </g>\r\n     <g id=\"text_11\">\r\n      <!-- medical_help -->\r\n      <defs>\r\n       <path d=\"M 48.78125 52.59375 \r\nL 48.78125 44.1875 \r\nQ 44.96875 46.296875 41.140625 47.34375 \r\nQ 37.3125 48.390625 33.40625 48.390625 \r\nQ 24.65625 48.390625 19.8125 42.84375 \r\nQ 14.984375 37.3125 14.984375 27.296875 \r\nQ 14.984375 17.28125 19.8125 11.734375 \r\nQ 24.65625 6.203125 33.40625 6.203125 \r\nQ 37.3125 6.203125 41.140625 7.25 \r\nQ 44.96875 8.296875 48.78125 10.40625 \r\nL 48.78125 2.09375 \r\nQ 45.015625 0.34375 40.984375 -0.53125 \r\nQ 36.96875 -1.421875 32.421875 -1.421875 \r\nQ 20.0625 -1.421875 12.78125 6.34375 \r\nQ 5.515625 14.109375 5.515625 27.296875 \r\nQ 5.515625 40.671875 12.859375 48.328125 \r\nQ 20.21875 56 33.015625 56 \r\nQ 37.15625 56 41.109375 55.140625 \r\nQ 45.0625 54.296875 48.78125 52.59375 \r\nz\r\n\" id=\"DejaVuSans-99\"/>\r\n       <path d=\"M 54.890625 33.015625 \r\nL 54.890625 0 \r\nL 45.90625 0 \r\nL 45.90625 32.71875 \r\nQ 45.90625 40.484375 42.875 44.328125 \r\nQ 39.84375 48.1875 33.796875 48.1875 \r\nQ 26.515625 48.1875 22.3125 43.546875 \r\nQ 18.109375 38.921875 18.109375 30.90625 \r\nL 18.109375 0 \r\nL 9.078125 0 \r\nL 9.078125 75.984375 \r\nL 18.109375 75.984375 \r\nL 18.109375 46.1875 \r\nQ 21.34375 51.125 25.703125 53.5625 \r\nQ 30.078125 56 35.796875 56 \r\nQ 45.21875 56 50.046875 50.171875 \r\nQ 54.890625 44.34375 54.890625 33.015625 \r\nz\r\n\" id=\"DejaVuSans-104\"/>\r\n      </defs>\r\n      <g transform=\"translate(50.217188 484.70779)scale(0.1 -0.1)\">\r\n       <use xlink:href=\"#DejaVuSans-109\"/>\r\n       <use x=\"97.412109\" xlink:href=\"#DejaVuSans-101\"/>\r\n       <use x=\"158.935547\" xlink:href=\"#DejaVuSans-100\"/>\r\n       <use x=\"222.412109\" xlink:href=\"#DejaVuSans-105\"/>\r\n       <use x=\"250.195312\" xlink:href=\"#DejaVuSans-99\"/>\r\n       <use x=\"305.175781\" xlink:href=\"#DejaVuSans-97\"/>\r\n       <use x=\"366.455078\" xlink:href=\"#DejaVuSans-108\"/>\r\n       <use x=\"394.238281\" xlink:href=\"#DejaVuSans-95\"/>\r\n       <use x=\"444.238281\" xlink:href=\"#DejaVuSans-104\"/>\r\n       <use x=\"507.617188\" xlink:href=\"#DejaVuSans-101\"/>\r\n       <use x=\"569.140625\" xlink:href=\"#DejaVuSans-108\"/>\r\n       <use x=\"596.923828\" xlink:href=\"#DejaVuSans-112\"/>\r\n      </g>\r\n     </g>\r\n    </g>\r\n    <g id=\"ytick_6\">\r\n     <g id=\"line2d_11\">\r\n      <g>\r\n       <use style=\"stroke:#000000;stroke-width:0.8;\" x=\"123.259375\" xlink:href=\"#m1e75b6204d\" y=\"465.377143\"/>\r\n      </g>\r\n     </g>\r\n     <g id=\"text_12\">\r\n      <!-- medical_products -->\r\n      <g transform=\"translate(27.945312 469.176362)scale(0.1 -0.1)\">\r\n       <use xlink:href=\"#DejaVuSans-109\"/>\r\n       <use x=\"97.412109\" xlink:href=\"#DejaVuSans-101\"/>\r\n       <use x=\"158.935547\" xlink:href=\"#DejaVuSans-100\"/>\r\n       <use x=\"222.412109\" xlink:href=\"#DejaVuSans-105\"/>\r\n       <use x=\"250.195312\" xlink:href=\"#DejaVuSans-99\"/>\r\n       <use x=\"305.175781\" xlink:href=\"#DejaVuSans-97\"/>\r\n       <use x=\"366.455078\" xlink:href=\"#DejaVuSans-108\"/>\r\n       <use x=\"394.238281\" xlink:href=\"#DejaVuSans-95\"/>\r\n       <use x=\"444.238281\" xlink:href=\"#DejaVuSans-112\"/>\r\n       <use x=\"507.714844\" xlink:href=\"#DejaVuSans-114\"/>\r\n       <use x=\"548.796875\" xlink:href=\"#DejaVuSans-111\"/>\r\n       <use x=\"609.978516\" xlink:href=\"#DejaVuSans-100\"/>\r\n       <use x=\"673.455078\" xlink:href=\"#DejaVuSans-117\"/>\r\n       <use x=\"736.833984\" xlink:href=\"#DejaVuSans-99\"/>\r\n       <use x=\"791.814453\" xlink:href=\"#DejaVuSans-116\"/>\r\n       <use x=\"831.023438\" xlink:href=\"#DejaVuSans-115\"/>\r\n      </g>\r\n     </g>\r\n    </g>\r\n    <g id=\"ytick_7\">\r\n     <g id=\"line2d_12\">\r\n      <g>\r\n       <use style=\"stroke:#000000;stroke-width:0.8;\" x=\"123.259375\" xlink:href=\"#m1e75b6204d\" y=\"449.845714\"/>\r\n      </g>\r\n     </g>\r\n     <g id=\"text_13\">\r\n      <!-- search_and_rescue -->\r\n      <g transform=\"translate(20.551563 453.644933)scale(0.1 -0.1)\">\r\n       <use xlink:href=\"#DejaVuSans-115\"/>\r\n       <use x=\"52.099609\" xlink:href=\"#DejaVuSans-101\"/>\r\n       <use x=\"113.623047\" xlink:href=\"#DejaVuSans-97\"/>\r\n       <use x=\"174.902344\" xlink:href=\"#DejaVuSans-114\"/>\r\n       <use x=\"215.984375\" xlink:href=\"#DejaVuSans-99\"/>\r\n       <use x=\"270.964844\" xlink:href=\"#DejaVuSans-104\"/>\r\n       <use x=\"334.34375\" xlink:href=\"#DejaVuSans-95\"/>\r\n       <use x=\"384.34375\" xlink:href=\"#DejaVuSans-97\"/>\r\n       <use x=\"445.623047\" xlink:href=\"#DejaVuSans-110\"/>\r\n       <use x=\"509.001953\" xlink:href=\"#DejaVuSans-100\"/>\r\n       <use x=\"572.478516\" xlink:href=\"#DejaVuSans-95\"/>\r\n       <use x=\"622.478516\" xlink:href=\"#DejaVuSans-114\"/>\r\n       <use x=\"663.560547\" xlink:href=\"#DejaVuSans-101\"/>\r\n       <use x=\"725.083984\" xlink:href=\"#DejaVuSans-115\"/>\r\n       <use x=\"777.183594\" xlink:href=\"#DejaVuSans-99\"/>\r\n       <use x=\"832.164062\" xlink:href=\"#DejaVuSans-117\"/>\r\n       <use x=\"895.542969\" xlink:href=\"#DejaVuSans-101\"/>\r\n      </g>\r\n     </g>\r\n    </g>\r\n    <g id=\"ytick_8\">\r\n     <g id=\"line2d_13\">\r\n      <g>\r\n       <use style=\"stroke:#000000;stroke-width:0.8;\" x=\"123.259375\" xlink:href=\"#m1e75b6204d\" y=\"434.314286\"/>\r\n      </g>\r\n     </g>\r\n     <g id=\"text_14\">\r\n      <!-- security -->\r\n      <defs>\r\n       <path d=\"M 32.171875 -5.078125 \r\nQ 28.375 -14.84375 24.75 -17.8125 \r\nQ 21.140625 -20.796875 15.09375 -20.796875 \r\nL 7.90625 -20.796875 \r\nL 7.90625 -13.28125 \r\nL 13.1875 -13.28125 \r\nQ 16.890625 -13.28125 18.9375 -11.515625 \r\nQ 21 -9.765625 23.484375 -3.21875 \r\nL 25.09375 0.875 \r\nL 2.984375 54.6875 \r\nL 12.5 54.6875 \r\nL 29.59375 11.921875 \r\nL 46.6875 54.6875 \r\nL 56.203125 54.6875 \r\nz\r\n\" id=\"DejaVuSans-121\"/>\r\n      </defs>\r\n      <g transform=\"translate(76.332813 438.113504)scale(0.1 -0.1)\">\r\n       <use xlink:href=\"#DejaVuSans-115\"/>\r\n       <use x=\"52.099609\" xlink:href=\"#DejaVuSans-101\"/>\r\n       <use x=\"113.623047\" xlink:href=\"#DejaVuSans-99\"/>\r\n       <use x=\"168.603516\" xlink:href=\"#DejaVuSans-117\"/>\r\n       <use x=\"231.982422\" xlink:href=\"#DejaVuSans-114\"/>\r\n       <use x=\"273.095703\" xlink:href=\"#DejaVuSans-105\"/>\r\n       <use x=\"300.878906\" xlink:href=\"#DejaVuSans-116\"/>\r\n       <use x=\"340.087891\" xlink:href=\"#DejaVuSans-121\"/>\r\n      </g>\r\n     </g>\r\n    </g>\r\n    <g id=\"ytick_9\">\r\n     <g id=\"line2d_14\">\r\n      <g>\r\n       <use style=\"stroke:#000000;stroke-width:0.8;\" x=\"123.259375\" xlink:href=\"#m1e75b6204d\" y=\"418.782857\"/>\r\n      </g>\r\n     </g>\r\n     <g id=\"text_15\">\r\n      <!-- military -->\r\n      <g transform=\"translate(78.10625 422.582076)scale(0.1 -0.1)\">\r\n       <use xlink:href=\"#DejaVuSans-109\"/>\r\n       <use x=\"97.412109\" xlink:href=\"#DejaVuSans-105\"/>\r\n       <use x=\"125.195312\" xlink:href=\"#DejaVuSans-108\"/>\r\n       <use x=\"152.978516\" xlink:href=\"#DejaVuSans-105\"/>\r\n       <use x=\"180.761719\" xlink:href=\"#DejaVuSans-116\"/>\r\n       <use x=\"219.970703\" xlink:href=\"#DejaVuSans-97\"/>\r\n       <use x=\"281.25\" xlink:href=\"#DejaVuSans-114\"/>\r\n       <use x=\"322.363281\" xlink:href=\"#DejaVuSans-121\"/>\r\n      </g>\r\n     </g>\r\n    </g>\r\n    <g id=\"ytick_10\">\r\n     <g id=\"line2d_15\">\r\n      <g>\r\n       <use style=\"stroke:#000000;stroke-width:0.8;\" x=\"123.259375\" xlink:href=\"#m1e75b6204d\" y=\"403.251429\"/>\r\n      </g>\r\n     </g>\r\n     <g id=\"text_16\">\r\n      <!-- water -->\r\n      <defs>\r\n       <path d=\"M 4.203125 54.6875 \r\nL 13.1875 54.6875 \r\nL 24.421875 12.015625 \r\nL 35.59375 54.6875 \r\nL 46.1875 54.6875 \r\nL 57.421875 12.015625 \r\nL 68.609375 54.6875 \r\nL 77.59375 54.6875 \r\nL 63.28125 0 \r\nL 52.6875 0 \r\nL 40.921875 44.828125 \r\nL 29.109375 0 \r\nL 18.5 0 \r\nz\r\n\" id=\"DejaVuSans-119\"/>\r\n      </defs>\r\n      <g transform=\"translate(87.76875 407.050647)scale(0.1 -0.1)\">\r\n       <use xlink:href=\"#DejaVuSans-119\"/>\r\n       <use x=\"81.787109\" xlink:href=\"#DejaVuSans-97\"/>\r\n       <use x=\"143.066406\" xlink:href=\"#DejaVuSans-116\"/>\r\n       <use x=\"182.275391\" xlink:href=\"#DejaVuSans-101\"/>\r\n       <use x=\"243.798828\" xlink:href=\"#DejaVuSans-114\"/>\r\n      </g>\r\n     </g>\r\n    </g>\r\n    <g id=\"ytick_11\">\r\n     <g id=\"line2d_16\">\r\n      <g>\r\n       <use style=\"stroke:#000000;stroke-width:0.8;\" x=\"123.259375\" xlink:href=\"#m1e75b6204d\" y=\"387.72\"/>\r\n      </g>\r\n     </g>\r\n     <g id=\"text_17\">\r\n      <!-- food -->\r\n      <g transform=\"translate(94.153125 391.519219)scale(0.1 -0.1)\">\r\n       <use xlink:href=\"#DejaVuSans-102\"/>\r\n       <use x=\"35.205078\" xlink:href=\"#DejaVuSans-111\"/>\r\n       <use x=\"96.386719\" xlink:href=\"#DejaVuSans-111\"/>\r\n       <use x=\"157.568359\" xlink:href=\"#DejaVuSans-100\"/>\r\n      </g>\r\n     </g>\r\n    </g>\r\n    <g id=\"ytick_12\">\r\n     <g id=\"line2d_17\">\r\n      <g>\r\n       <use style=\"stroke:#000000;stroke-width:0.8;\" x=\"123.259375\" xlink:href=\"#m1e75b6204d\" y=\"372.188571\"/>\r\n      </g>\r\n     </g>\r\n     <g id=\"text_18\">\r\n      <!-- shelter -->\r\n      <g transform=\"translate(81.596875 375.98779)scale(0.1 -0.1)\">\r\n       <use xlink:href=\"#DejaVuSans-115\"/>\r\n       <use x=\"52.099609\" xlink:href=\"#DejaVuSans-104\"/>\r\n       <use x=\"115.478516\" xlink:href=\"#DejaVuSans-101\"/>\r\n       <use x=\"177.001953\" xlink:href=\"#DejaVuSans-108\"/>\r\n       <use x=\"204.785156\" xlink:href=\"#DejaVuSans-116\"/>\r\n       <use x=\"243.994141\" xlink:href=\"#DejaVuSans-101\"/>\r\n       <use x=\"305.517578\" xlink:href=\"#DejaVuSans-114\"/>\r\n      </g>\r\n     </g>\r\n    </g>\r\n    <g id=\"ytick_13\">\r\n     <g id=\"line2d_18\">\r\n      <g>\r\n       <use style=\"stroke:#000000;stroke-width:0.8;\" x=\"123.259375\" xlink:href=\"#m1e75b6204d\" y=\"356.657143\"/>\r\n      </g>\r\n     </g>\r\n     <g id=\"text_19\">\r\n      <!-- clothing -->\r\n      <g transform=\"translate(76.142188 360.456362)scale(0.1 -0.1)\">\r\n       <use xlink:href=\"#DejaVuSans-99\"/>\r\n       <use x=\"54.980469\" xlink:href=\"#DejaVuSans-108\"/>\r\n       <use x=\"82.763672\" xlink:href=\"#DejaVuSans-111\"/>\r\n       <use x=\"143.945312\" xlink:href=\"#DejaVuSans-116\"/>\r\n       <use x=\"183.154297\" xlink:href=\"#DejaVuSans-104\"/>\r\n       <use x=\"246.533203\" xlink:href=\"#DejaVuSans-105\"/>\r\n       <use x=\"274.316406\" xlink:href=\"#DejaVuSans-110\"/>\r\n       <use x=\"337.695312\" xlink:href=\"#DejaVuSans-103\"/>\r\n      </g>\r\n     </g>\r\n    </g>\r\n    <g id=\"ytick_14\">\r\n     <g id=\"line2d_19\">\r\n      <g>\r\n       <use style=\"stroke:#000000;stroke-width:0.8;\" x=\"123.259375\" xlink:href=\"#m1e75b6204d\" y=\"341.125714\"/>\r\n      </g>\r\n     </g>\r\n     <g id=\"text_20\">\r\n      <!-- money -->\r\n      <g transform=\"translate(81.990625 344.924933)scale(0.1 -0.1)\">\r\n       <use xlink:href=\"#DejaVuSans-109\"/>\r\n       <use x=\"97.412109\" xlink:href=\"#DejaVuSans-111\"/>\r\n       <use x=\"158.59375\" xlink:href=\"#DejaVuSans-110\"/>\r\n       <use x=\"221.972656\" xlink:href=\"#DejaVuSans-101\"/>\r\n       <use x=\"283.496094\" xlink:href=\"#DejaVuSans-121\"/>\r\n      </g>\r\n     </g>\r\n    </g>\r\n    <g id=\"ytick_15\">\r\n     <g id=\"line2d_20\">\r\n      <g>\r\n       <use style=\"stroke:#000000;stroke-width:0.8;\" x=\"123.259375\" xlink:href=\"#m1e75b6204d\" y=\"325.594286\"/>\r\n      </g>\r\n     </g>\r\n     <g id=\"text_21\">\r\n      <!-- missing_people -->\r\n      <g transform=\"translate(38.957813 329.393504)scale(0.1 -0.1)\">\r\n       <use xlink:href=\"#DejaVuSans-109\"/>\r\n       <use x=\"97.412109\" xlink:href=\"#DejaVuSans-105\"/>\r\n       <use x=\"125.195312\" xlink:href=\"#DejaVuSans-115\"/>\r\n       <use x=\"177.294922\" xlink:href=\"#DejaVuSans-115\"/>\r\n       <use x=\"229.394531\" xlink:href=\"#DejaVuSans-105\"/>\r\n       <use x=\"257.177734\" xlink:href=\"#DejaVuSans-110\"/>\r\n       <use x=\"320.556641\" xlink:href=\"#DejaVuSans-103\"/>\r\n       <use x=\"384.033203\" xlink:href=\"#DejaVuSans-95\"/>\r\n       <use x=\"434.033203\" xlink:href=\"#DejaVuSans-112\"/>\r\n       <use x=\"497.509766\" xlink:href=\"#DejaVuSans-101\"/>\r\n       <use x=\"559.033203\" xlink:href=\"#DejaVuSans-111\"/>\r\n       <use x=\"620.214844\" xlink:href=\"#DejaVuSans-112\"/>\r\n       <use x=\"683.691406\" xlink:href=\"#DejaVuSans-108\"/>\r\n       <use x=\"711.474609\" xlink:href=\"#DejaVuSans-101\"/>\r\n      </g>\r\n     </g>\r\n    </g>\r\n    <g id=\"ytick_16\">\r\n     <g id=\"line2d_21\">\r\n      <g>\r\n       <use style=\"stroke:#000000;stroke-width:0.8;\" x=\"123.259375\" xlink:href=\"#m1e75b6204d\" y=\"310.062857\"/>\r\n      </g>\r\n     </g>\r\n     <g id=\"text_22\">\r\n      <!-- refugees -->\r\n      <g transform=\"translate(72.276563 313.862076)scale(0.1 -0.1)\">\r\n       <use xlink:href=\"#DejaVuSans-114\"/>\r\n       <use x=\"41.082031\" xlink:href=\"#DejaVuSans-101\"/>\r\n       <use x=\"102.605469\" xlink:href=\"#DejaVuSans-102\"/>\r\n       <use x=\"137.810547\" xlink:href=\"#DejaVuSans-117\"/>\r\n       <use x=\"201.189453\" xlink:href=\"#DejaVuSans-103\"/>\r\n       <use x=\"264.666016\" xlink:href=\"#DejaVuSans-101\"/>\r\n       <use x=\"326.189453\" xlink:href=\"#DejaVuSans-101\"/>\r\n       <use x=\"387.712891\" xlink:href=\"#DejaVuSans-115\"/>\r\n      </g>\r\n     </g>\r\n    </g>\r\n    <g id=\"ytick_17\">\r\n     <g id=\"line2d_22\">\r\n      <g>\r\n       <use style=\"stroke:#000000;stroke-width:0.8;\" x=\"123.259375\" xlink:href=\"#m1e75b6204d\" y=\"294.531429\"/>\r\n      </g>\r\n     </g>\r\n     <g id=\"text_23\">\r\n      <!-- death -->\r\n      <g transform=\"translate(87.371875 298.330647)scale(0.1 -0.1)\">\r\n       <use xlink:href=\"#DejaVuSans-100\"/>\r\n       <use x=\"63.476562\" xlink:href=\"#DejaVuSans-101\"/>\r\n       <use x=\"125\" xlink:href=\"#DejaVuSans-97\"/>\r\n       <use x=\"186.279297\" xlink:href=\"#DejaVuSans-116\"/>\r\n       <use x=\"225.488281\" xlink:href=\"#DejaVuSans-104\"/>\r\n      </g>\r\n     </g>\r\n    </g>\r\n    <g id=\"ytick_18\">\r\n     <g id=\"line2d_23\">\r\n      <g>\r\n       <use style=\"stroke:#000000;stroke-width:0.8;\" x=\"123.259375\" xlink:href=\"#m1e75b6204d\" y=\"279\"/>\r\n      </g>\r\n     </g>\r\n     <g id=\"text_24\">\r\n      <!-- other_aid -->\r\n      <g transform=\"translate(69.364063 282.799219)scale(0.1 -0.1)\">\r\n       <use xlink:href=\"#DejaVuSans-111\"/>\r\n       <use x=\"61.181641\" xlink:href=\"#DejaVuSans-116\"/>\r\n       <use x=\"100.390625\" xlink:href=\"#DejaVuSans-104\"/>\r\n       <use x=\"163.769531\" xlink:href=\"#DejaVuSans-101\"/>\r\n       <use x=\"225.292969\" xlink:href=\"#DejaVuSans-114\"/>\r\n       <use x=\"266.40625\" xlink:href=\"#DejaVuSans-95\"/>\r\n       <use x=\"316.40625\" xlink:href=\"#DejaVuSans-97\"/>\r\n       <use x=\"377.685547\" xlink:href=\"#DejaVuSans-105\"/>\r\n       <use x=\"405.46875\" xlink:href=\"#DejaVuSans-100\"/>\r\n      </g>\r\n     </g>\r\n    </g>\r\n    <g id=\"ytick_19\">\r\n     <g id=\"line2d_24\">\r\n      <g>\r\n       <use style=\"stroke:#000000;stroke-width:0.8;\" x=\"123.259375\" xlink:href=\"#m1e75b6204d\" y=\"263.468571\"/>\r\n      </g>\r\n     </g>\r\n     <g id=\"text_25\">\r\n      <!-- infrastructure_related -->\r\n      <g transform=\"translate(7.2 267.26779)scale(0.1 -0.1)\">\r\n       <use xlink:href=\"#DejaVuSans-105\"/>\r\n       <use x=\"27.783203\" xlink:href=\"#DejaVuSans-110\"/>\r\n       <use x=\"91.162109\" xlink:href=\"#DejaVuSans-102\"/>\r\n       <use x=\"126.367188\" xlink:href=\"#DejaVuSans-114\"/>\r\n       <use x=\"167.480469\" xlink:href=\"#DejaVuSans-97\"/>\r\n       <use x=\"228.759766\" xlink:href=\"#DejaVuSans-115\"/>\r\n       <use x=\"280.859375\" xlink:href=\"#DejaVuSans-116\"/>\r\n       <use x=\"320.068359\" xlink:href=\"#DejaVuSans-114\"/>\r\n       <use x=\"361.181641\" xlink:href=\"#DejaVuSans-117\"/>\r\n       <use x=\"424.560547\" xlink:href=\"#DejaVuSans-99\"/>\r\n       <use x=\"479.541016\" xlink:href=\"#DejaVuSans-116\"/>\r\n       <use x=\"518.75\" xlink:href=\"#DejaVuSans-117\"/>\r\n       <use x=\"582.128906\" xlink:href=\"#DejaVuSans-114\"/>\r\n       <use x=\"623.210938\" xlink:href=\"#DejaVuSans-101\"/>\r\n       <use x=\"684.734375\" xlink:href=\"#DejaVuSans-95\"/>\r\n       <use x=\"734.734375\" xlink:href=\"#DejaVuSans-114\"/>\r\n       <use x=\"775.816406\" xlink:href=\"#DejaVuSans-101\"/>\r\n       <use x=\"837.339844\" xlink:href=\"#DejaVuSans-108\"/>\r\n       <use x=\"865.123047\" xlink:href=\"#DejaVuSans-97\"/>\r\n       <use x=\"926.402344\" xlink:href=\"#DejaVuSans-116\"/>\r\n       <use x=\"965.611328\" xlink:href=\"#DejaVuSans-101\"/>\r\n       <use x=\"1027.134766\" xlink:href=\"#DejaVuSans-100\"/>\r\n      </g>\r\n     </g>\r\n    </g>\r\n    <g id=\"ytick_20\">\r\n     <g id=\"line2d_25\">\r\n      <g>\r\n       <use style=\"stroke:#000000;stroke-width:0.8;\" x=\"123.259375\" xlink:href=\"#m1e75b6204d\" y=\"247.937143\"/>\r\n      </g>\r\n     </g>\r\n     <g id=\"text_26\">\r\n      <!-- transport -->\r\n      <g transform=\"translate(70.054688 251.736362)scale(0.1 -0.1)\">\r\n       <use xlink:href=\"#DejaVuSans-116\"/>\r\n       <use x=\"39.208984\" xlink:href=\"#DejaVuSans-114\"/>\r\n       <use x=\"80.322266\" xlink:href=\"#DejaVuSans-97\"/>\r\n       <use x=\"141.601562\" xlink:href=\"#DejaVuSans-110\"/>\r\n       <use x=\"204.980469\" xlink:href=\"#DejaVuSans-115\"/>\r\n       <use x=\"257.080078\" xlink:href=\"#DejaVuSans-112\"/>\r\n       <use x=\"320.556641\" xlink:href=\"#DejaVuSans-111\"/>\r\n       <use x=\"381.738281\" xlink:href=\"#DejaVuSans-114\"/>\r\n       <use x=\"422.851562\" xlink:href=\"#DejaVuSans-116\"/>\r\n      </g>\r\n     </g>\r\n    </g>\r\n    <g id=\"ytick_21\">\r\n     <g id=\"line2d_26\">\r\n      <g>\r\n       <use style=\"stroke:#000000;stroke-width:0.8;\" x=\"123.259375\" xlink:href=\"#m1e75b6204d\" y=\"232.405714\"/>\r\n      </g>\r\n     </g>\r\n     <g id=\"text_27\">\r\n      <!-- buildings -->\r\n      <g transform=\"translate(70.995313 236.204933)scale(0.1 -0.1)\">\r\n       <use xlink:href=\"#DejaVuSans-98\"/>\r\n       <use x=\"63.476562\" xlink:href=\"#DejaVuSans-117\"/>\r\n       <use x=\"126.855469\" xlink:href=\"#DejaVuSans-105\"/>\r\n       <use x=\"154.638672\" xlink:href=\"#DejaVuSans-108\"/>\r\n       <use x=\"182.421875\" xlink:href=\"#DejaVuSans-100\"/>\r\n       <use x=\"245.898438\" xlink:href=\"#DejaVuSans-105\"/>\r\n       <use x=\"273.681641\" xlink:href=\"#DejaVuSans-110\"/>\r\n       <use x=\"337.060547\" xlink:href=\"#DejaVuSans-103\"/>\r\n       <use x=\"400.537109\" xlink:href=\"#DejaVuSans-115\"/>\r\n      </g>\r\n     </g>\r\n    </g>\r\n    <g id=\"ytick_22\">\r\n     <g id=\"line2d_27\">\r\n      <g>\r\n       <use style=\"stroke:#000000;stroke-width:0.8;\" x=\"123.259375\" xlink:href=\"#m1e75b6204d\" y=\"216.874286\"/>\r\n      </g>\r\n     </g>\r\n     <g id=\"text_28\">\r\n      <!-- electricity -->\r\n      <g transform=\"translate(66.751563 220.673504)scale(0.1 -0.1)\">\r\n       <use xlink:href=\"#DejaVuSans-101\"/>\r\n       <use x=\"61.523438\" xlink:href=\"#DejaVuSans-108\"/>\r\n       <use x=\"89.306641\" xlink:href=\"#DejaVuSans-101\"/>\r\n       <use x=\"150.830078\" xlink:href=\"#DejaVuSans-99\"/>\r\n       <use x=\"205.810547\" xlink:href=\"#DejaVuSans-116\"/>\r\n       <use x=\"245.019531\" xlink:href=\"#DejaVuSans-114\"/>\r\n       <use x=\"286.132812\" xlink:href=\"#DejaVuSans-105\"/>\r\n       <use x=\"313.916016\" xlink:href=\"#DejaVuSans-99\"/>\r\n       <use x=\"368.896484\" xlink:href=\"#DejaVuSans-105\"/>\r\n       <use x=\"396.679688\" xlink:href=\"#DejaVuSans-116\"/>\r\n       <use x=\"435.888672\" xlink:href=\"#DejaVuSans-121\"/>\r\n      </g>\r\n     </g>\r\n    </g>\r\n    <g id=\"ytick_23\">\r\n     <g id=\"line2d_28\">\r\n      <g>\r\n       <use style=\"stroke:#000000;stroke-width:0.8;\" x=\"123.259375\" xlink:href=\"#m1e75b6204d\" y=\"201.342857\"/>\r\n      </g>\r\n     </g>\r\n     <g id=\"text_29\">\r\n      <!-- tools -->\r\n      <g transform=\"translate(92.114063 205.142076)scale(0.1 -0.1)\">\r\n       <use xlink:href=\"#DejaVuSans-116\"/>\r\n       <use x=\"39.208984\" xlink:href=\"#DejaVuSans-111\"/>\r\n       <use x=\"100.390625\" xlink:href=\"#DejaVuSans-111\"/>\r\n       <use x=\"161.572266\" xlink:href=\"#DejaVuSans-108\"/>\r\n       <use x=\"189.355469\" xlink:href=\"#DejaVuSans-115\"/>\r\n      </g>\r\n     </g>\r\n    </g>\r\n    <g id=\"ytick_24\">\r\n     <g id=\"line2d_29\">\r\n      <g>\r\n       <use style=\"stroke:#000000;stroke-width:0.8;\" x=\"123.259375\" xlink:href=\"#m1e75b6204d\" y=\"185.811429\"/>\r\n      </g>\r\n     </g>\r\n     <g id=\"text_30\">\r\n      <!-- hospitals -->\r\n      <g transform=\"translate(71.43125 189.610647)scale(0.1 -0.1)\">\r\n       <use xlink:href=\"#DejaVuSans-104\"/>\r\n       <use x=\"63.378906\" xlink:href=\"#DejaVuSans-111\"/>\r\n       <use x=\"124.560547\" xlink:href=\"#DejaVuSans-115\"/>\r\n       <use x=\"176.660156\" xlink:href=\"#DejaVuSans-112\"/>\r\n       <use x=\"240.136719\" xlink:href=\"#DejaVuSans-105\"/>\r\n       <use x=\"267.919922\" xlink:href=\"#DejaVuSans-116\"/>\r\n       <use x=\"307.128906\" xlink:href=\"#DejaVuSans-97\"/>\r\n       <use x=\"368.408203\" xlink:href=\"#DejaVuSans-108\"/>\r\n       <use x=\"396.191406\" xlink:href=\"#DejaVuSans-115\"/>\r\n      </g>\r\n     </g>\r\n    </g>\r\n    <g id=\"ytick_25\">\r\n     <g id=\"line2d_30\">\r\n      <g>\r\n       <use style=\"stroke:#000000;stroke-width:0.8;\" x=\"123.259375\" xlink:href=\"#m1e75b6204d\" y=\"170.28\"/>\r\n      </g>\r\n     </g>\r\n     <g id=\"text_31\">\r\n      <!-- shops -->\r\n      <g transform=\"translate(87.035938 174.079219)scale(0.1 -0.1)\">\r\n       <use xlink:href=\"#DejaVuSans-115\"/>\r\n       <use x=\"52.099609\" xlink:href=\"#DejaVuSans-104\"/>\r\n       <use x=\"115.478516\" xlink:href=\"#DejaVuSans-111\"/>\r\n       <use x=\"176.660156\" xlink:href=\"#DejaVuSans-112\"/>\r\n       <use x=\"240.136719\" xlink:href=\"#DejaVuSans-115\"/>\r\n      </g>\r\n     </g>\r\n    </g>\r\n    <g id=\"ytick_26\">\r\n     <g id=\"line2d_31\">\r\n      <g>\r\n       <use style=\"stroke:#000000;stroke-width:0.8;\" x=\"123.259375\" xlink:href=\"#m1e75b6204d\" y=\"154.748571\"/>\r\n      </g>\r\n     </g>\r\n     <g id=\"text_32\">\r\n      <!-- aid_centers -->\r\n      <g transform=\"translate(58.621875 158.54779)scale(0.1 -0.1)\">\r\n       <use xlink:href=\"#DejaVuSans-97\"/>\r\n       <use x=\"61.279297\" xlink:href=\"#DejaVuSans-105\"/>\r\n       <use x=\"89.0625\" xlink:href=\"#DejaVuSans-100\"/>\r\n       <use x=\"152.539062\" xlink:href=\"#DejaVuSans-95\"/>\r\n       <use x=\"202.539062\" xlink:href=\"#DejaVuSans-99\"/>\r\n       <use x=\"257.519531\" xlink:href=\"#DejaVuSans-101\"/>\r\n       <use x=\"319.042969\" xlink:href=\"#DejaVuSans-110\"/>\r\n       <use x=\"382.421875\" xlink:href=\"#DejaVuSans-116\"/>\r\n       <use x=\"421.630859\" xlink:href=\"#DejaVuSans-101\"/>\r\n       <use x=\"483.154297\" xlink:href=\"#DejaVuSans-114\"/>\r\n       <use x=\"524.267578\" xlink:href=\"#DejaVuSans-115\"/>\r\n      </g>\r\n     </g>\r\n    </g>\r\n    <g id=\"ytick_27\">\r\n     <g id=\"line2d_32\">\r\n      <g>\r\n       <use style=\"stroke:#000000;stroke-width:0.8;\" x=\"123.259375\" xlink:href=\"#m1e75b6204d\" y=\"139.217143\"/>\r\n      </g>\r\n     </g>\r\n     <g id=\"text_33\">\r\n      <!-- other_infrastructure -->\r\n      <g transform=\"translate(16.148438 143.016362)scale(0.1 -0.1)\">\r\n       <use xlink:href=\"#DejaVuSans-111\"/>\r\n       <use x=\"61.181641\" xlink:href=\"#DejaVuSans-116\"/>\r\n       <use x=\"100.390625\" xlink:href=\"#DejaVuSans-104\"/>\r\n       <use x=\"163.769531\" xlink:href=\"#DejaVuSans-101\"/>\r\n       <use x=\"225.292969\" xlink:href=\"#DejaVuSans-114\"/>\r\n       <use x=\"266.40625\" xlink:href=\"#DejaVuSans-95\"/>\r\n       <use x=\"316.40625\" xlink:href=\"#DejaVuSans-105\"/>\r\n       <use x=\"344.189453\" xlink:href=\"#DejaVuSans-110\"/>\r\n       <use x=\"407.568359\" xlink:href=\"#DejaVuSans-102\"/>\r\n       <use x=\"442.773438\" xlink:href=\"#DejaVuSans-114\"/>\r\n       <use x=\"483.886719\" xlink:href=\"#DejaVuSans-97\"/>\r\n       <use x=\"545.166016\" xlink:href=\"#DejaVuSans-115\"/>\r\n       <use x=\"597.265625\" xlink:href=\"#DejaVuSans-116\"/>\r\n       <use x=\"636.474609\" xlink:href=\"#DejaVuSans-114\"/>\r\n       <use x=\"677.587891\" xlink:href=\"#DejaVuSans-117\"/>\r\n       <use x=\"740.966797\" xlink:href=\"#DejaVuSans-99\"/>\r\n       <use x=\"795.947266\" xlink:href=\"#DejaVuSans-116\"/>\r\n       <use x=\"835.15625\" xlink:href=\"#DejaVuSans-117\"/>\r\n       <use x=\"898.535156\" xlink:href=\"#DejaVuSans-114\"/>\r\n       <use x=\"939.617188\" xlink:href=\"#DejaVuSans-101\"/>\r\n      </g>\r\n     </g>\r\n    </g>\r\n    <g id=\"ytick_28\">\r\n     <g id=\"line2d_33\">\r\n      <g>\r\n       <use style=\"stroke:#000000;stroke-width:0.8;\" x=\"123.259375\" xlink:href=\"#m1e75b6204d\" y=\"123.685714\"/>\r\n      </g>\r\n     </g>\r\n     <g id=\"text_34\">\r\n      <!-- weather_related -->\r\n      <g transform=\"translate(34.689063 127.484933)scale(0.1 -0.1)\">\r\n       <use xlink:href=\"#DejaVuSans-119\"/>\r\n       <use x=\"81.787109\" xlink:href=\"#DejaVuSans-101\"/>\r\n       <use x=\"143.310547\" xlink:href=\"#DejaVuSans-97\"/>\r\n       <use x=\"204.589844\" xlink:href=\"#DejaVuSans-116\"/>\r\n       <use x=\"243.798828\" xlink:href=\"#DejaVuSans-104\"/>\r\n       <use x=\"307.177734\" xlink:href=\"#DejaVuSans-101\"/>\r\n       <use x=\"368.701172\" xlink:href=\"#DejaVuSans-114\"/>\r\n       <use x=\"409.814453\" xlink:href=\"#DejaVuSans-95\"/>\r\n       <use x=\"459.814453\" xlink:href=\"#DejaVuSans-114\"/>\r\n       <use x=\"500.896484\" xlink:href=\"#DejaVuSans-101\"/>\r\n       <use x=\"562.419922\" xlink:href=\"#DejaVuSans-108\"/>\r\n       <use x=\"590.203125\" xlink:href=\"#DejaVuSans-97\"/>\r\n       <use x=\"651.482422\" xlink:href=\"#DejaVuSans-116\"/>\r\n       <use x=\"690.691406\" xlink:href=\"#DejaVuSans-101\"/>\r\n       <use x=\"752.214844\" xlink:href=\"#DejaVuSans-100\"/>\r\n      </g>\r\n     </g>\r\n    </g>\r\n    <g id=\"ytick_29\">\r\n     <g id=\"line2d_34\">\r\n      <g>\r\n       <use style=\"stroke:#000000;stroke-width:0.8;\" x=\"123.259375\" xlink:href=\"#m1e75b6204d\" y=\"108.154286\"/>\r\n      </g>\r\n     </g>\r\n     <g id=\"text_35\">\r\n      <!-- floods -->\r\n      <g transform=\"translate(86.165625 111.953504)scale(0.1 -0.1)\">\r\n       <use xlink:href=\"#DejaVuSans-102\"/>\r\n       <use x=\"35.205078\" xlink:href=\"#DejaVuSans-108\"/>\r\n       <use x=\"62.988281\" xlink:href=\"#DejaVuSans-111\"/>\r\n       <use x=\"124.169922\" xlink:href=\"#DejaVuSans-111\"/>\r\n       <use x=\"185.351562\" xlink:href=\"#DejaVuSans-100\"/>\r\n       <use x=\"248.828125\" xlink:href=\"#DejaVuSans-115\"/>\r\n      </g>\r\n     </g>\r\n    </g>\r\n    <g id=\"ytick_30\">\r\n     <g id=\"line2d_35\">\r\n      <g>\r\n       <use style=\"stroke:#000000;stroke-width:0.8;\" x=\"123.259375\" xlink:href=\"#m1e75b6204d\" y=\"92.622857\"/>\r\n      </g>\r\n     </g>\r\n     <g id=\"text_36\">\r\n      <!-- storm -->\r\n      <g transform=\"translate(87.160938 96.422076)scale(0.1 -0.1)\">\r\n       <use xlink:href=\"#DejaVuSans-115\"/>\r\n       <use x=\"52.099609\" xlink:href=\"#DejaVuSans-116\"/>\r\n       <use x=\"91.308594\" xlink:href=\"#DejaVuSans-111\"/>\r\n       <use x=\"152.490234\" xlink:href=\"#DejaVuSans-114\"/>\r\n       <use x=\"193.587891\" xlink:href=\"#DejaVuSans-109\"/>\r\n      </g>\r\n     </g>\r\n    </g>\r\n    <g id=\"ytick_31\">\r\n     <g id=\"line2d_36\">\r\n      <g>\r\n       <use style=\"stroke:#000000;stroke-width:0.8;\" x=\"123.259375\" xlink:href=\"#m1e75b6204d\" y=\"77.091429\"/>\r\n      </g>\r\n     </g>\r\n     <g id=\"text_37\">\r\n      <!-- fire -->\r\n      <g transform=\"translate(99.7 80.890647)scale(0.1 -0.1)\">\r\n       <use xlink:href=\"#DejaVuSans-102\"/>\r\n       <use x=\"35.205078\" xlink:href=\"#DejaVuSans-105\"/>\r\n       <use x=\"62.988281\" xlink:href=\"#DejaVuSans-114\"/>\r\n       <use x=\"104.070312\" xlink:href=\"#DejaVuSans-101\"/>\r\n      </g>\r\n     </g>\r\n    </g>\r\n    <g id=\"ytick_32\">\r\n     <g id=\"line2d_37\">\r\n      <g>\r\n       <use style=\"stroke:#000000;stroke-width:0.8;\" x=\"123.259375\" xlink:href=\"#m1e75b6204d\" y=\"61.56\"/>\r\n      </g>\r\n     </g>\r\n     <g id=\"text_38\">\r\n      <!-- earthquake -->\r\n      <defs>\r\n       <path d=\"M 9.078125 75.984375 \r\nL 18.109375 75.984375 \r\nL 18.109375 31.109375 \r\nL 44.921875 54.6875 \r\nL 56.390625 54.6875 \r\nL 27.390625 29.109375 \r\nL 57.625 0 \r\nL 45.90625 0 \r\nL 18.109375 26.703125 \r\nL 18.109375 0 \r\nL 9.078125 0 \r\nz\r\n\" id=\"DejaVuSans-107\"/>\r\n      </defs>\r\n      <g transform=\"translate(58.85625 65.359219)scale(0.1 -0.1)\">\r\n       <use xlink:href=\"#DejaVuSans-101\"/>\r\n       <use x=\"61.523438\" xlink:href=\"#DejaVuSans-97\"/>\r\n       <use x=\"122.802734\" xlink:href=\"#DejaVuSans-114\"/>\r\n       <use x=\"163.916016\" xlink:href=\"#DejaVuSans-116\"/>\r\n       <use x=\"203.125\" xlink:href=\"#DejaVuSans-104\"/>\r\n       <use x=\"266.503906\" xlink:href=\"#DejaVuSans-113\"/>\r\n       <use x=\"329.980469\" xlink:href=\"#DejaVuSans-117\"/>\r\n       <use x=\"393.359375\" xlink:href=\"#DejaVuSans-97\"/>\r\n       <use x=\"454.638672\" xlink:href=\"#DejaVuSans-107\"/>\r\n       <use x=\"512.501953\" xlink:href=\"#DejaVuSans-101\"/>\r\n      </g>\r\n     </g>\r\n    </g>\r\n    <g id=\"ytick_33\">\r\n     <g id=\"line2d_38\">\r\n      <g>\r\n       <use style=\"stroke:#000000;stroke-width:0.8;\" x=\"123.259375\" xlink:href=\"#m1e75b6204d\" y=\"46.028571\"/>\r\n      </g>\r\n     </g>\r\n     <g id=\"text_39\">\r\n      <!-- cold -->\r\n      <g transform=\"translate(95.515625 49.82779)scale(0.1 -0.1)\">\r\n       <use xlink:href=\"#DejaVuSans-99\"/>\r\n       <use x=\"54.980469\" xlink:href=\"#DejaVuSans-111\"/>\r\n       <use x=\"116.162109\" xlink:href=\"#DejaVuSans-108\"/>\r\n       <use x=\"143.945312\" xlink:href=\"#DejaVuSans-100\"/>\r\n      </g>\r\n     </g>\r\n    </g>\r\n    <g id=\"ytick_34\">\r\n     <g id=\"line2d_39\">\r\n      <g>\r\n       <use style=\"stroke:#000000;stroke-width:0.8;\" x=\"123.259375\" xlink:href=\"#m1e75b6204d\" y=\"30.497143\"/>\r\n      </g>\r\n     </g>\r\n     <g id=\"text_40\">\r\n      <!-- other_weather -->\r\n      <g transform=\"translate(43.6375 34.296362)scale(0.1 -0.1)\">\r\n       <use xlink:href=\"#DejaVuSans-111\"/>\r\n       <use x=\"61.181641\" xlink:href=\"#DejaVuSans-116\"/>\r\n       <use x=\"100.390625\" xlink:href=\"#DejaVuSans-104\"/>\r\n       <use x=\"163.769531\" xlink:href=\"#DejaVuSans-101\"/>\r\n       <use x=\"225.292969\" xlink:href=\"#DejaVuSans-114\"/>\r\n       <use x=\"266.40625\" xlink:href=\"#DejaVuSans-95\"/>\r\n       <use x=\"316.40625\" xlink:href=\"#DejaVuSans-119\"/>\r\n       <use x=\"398.193359\" xlink:href=\"#DejaVuSans-101\"/>\r\n       <use x=\"459.716797\" xlink:href=\"#DejaVuSans-97\"/>\r\n       <use x=\"520.996094\" xlink:href=\"#DejaVuSans-116\"/>\r\n       <use x=\"560.205078\" xlink:href=\"#DejaVuSans-104\"/>\r\n       <use x=\"623.583984\" xlink:href=\"#DejaVuSans-101\"/>\r\n       <use x=\"685.107422\" xlink:href=\"#DejaVuSans-114\"/>\r\n      </g>\r\n     </g>\r\n    </g>\r\n    <g id=\"ytick_35\">\r\n     <g id=\"line2d_40\">\r\n      <g>\r\n       <use style=\"stroke:#000000;stroke-width:0.8;\" x=\"123.259375\" xlink:href=\"#m1e75b6204d\" y=\"14.965714\"/>\r\n      </g>\r\n     </g>\r\n     <g id=\"text_41\">\r\n      <!-- direct_report -->\r\n      <g transform=\"translate(51.69375 18.764933)scale(0.1 -0.1)\">\r\n       <use xlink:href=\"#DejaVuSans-100\"/>\r\n       <use x=\"63.476562\" xlink:href=\"#DejaVuSans-105\"/>\r\n       <use x=\"91.259766\" xlink:href=\"#DejaVuSans-114\"/>\r\n       <use x=\"132.341797\" xlink:href=\"#DejaVuSans-101\"/>\r\n       <use x=\"193.865234\" xlink:href=\"#DejaVuSans-99\"/>\r\n       <use x=\"248.845703\" xlink:href=\"#DejaVuSans-116\"/>\r\n       <use x=\"288.054688\" xlink:href=\"#DejaVuSans-95\"/>\r\n       <use x=\"338.054688\" xlink:href=\"#DejaVuSans-114\"/>\r\n       <use x=\"379.136719\" xlink:href=\"#DejaVuSans-101\"/>\r\n       <use x=\"440.660156\" xlink:href=\"#DejaVuSans-112\"/>\r\n       <use x=\"504.136719\" xlink:href=\"#DejaVuSans-111\"/>\r\n       <use x=\"565.318359\" xlink:href=\"#DejaVuSans-114\"/>\r\n       <use x=\"606.431641\" xlink:href=\"#DejaVuSans-116\"/>\r\n      </g>\r\n     </g>\r\n    </g>\r\n   </g>\r\n   <g id=\"patch_73\">\r\n    <path d=\"M 123.259375 550.8 \r\nL 123.259375 7.2 \r\n\" style=\"fill:none;stroke:#000000;stroke-linecap:square;stroke-linejoin:miter;stroke-width:0.8;\"/>\r\n   </g>\r\n   <g id=\"patch_74\">\r\n    <path d=\"M 681.259375 550.8 \r\nL 681.259375 7.2 \r\n\" style=\"fill:none;stroke:#000000;stroke-linecap:square;stroke-linejoin:miter;stroke-width:0.8;\"/>\r\n   </g>\r\n   <g id=\"patch_75\">\r\n    <path d=\"M 123.259375 550.8 \r\nL 681.259375 550.8 \r\n\" style=\"fill:none;stroke:#000000;stroke-linecap:square;stroke-linejoin:miter;stroke-width:0.8;\"/>\r\n   </g>\r\n   <g id=\"patch_76\">\r\n    <path d=\"M 123.259375 7.2 \r\nL 681.259375 7.2 \r\n\" style=\"fill:none;stroke:#000000;stroke-linecap:square;stroke-linejoin:miter;stroke-width:0.8;\"/>\r\n   </g>\r\n   <g id=\"legend_1\">\r\n    <g id=\"patch_77\">\r\n     <path d=\"M 528.414062 295.178125 \r\nL 674.259375 295.178125 \r\nQ 676.259375 295.178125 676.259375 293.178125 \r\nL 676.259375 264.821875 \r\nQ 676.259375 262.821875 674.259375 262.821875 \r\nL 528.414062 262.821875 \r\nQ 526.414062 262.821875 526.414062 264.821875 \r\nL 526.414062 293.178125 \r\nQ 526.414062 295.178125 528.414062 295.178125 \r\nz\r\n\" style=\"fill:#ffffff;opacity:0.8;stroke:#cccccc;stroke-linejoin:miter;\"/>\r\n    </g>\r\n    <g id=\"patch_78\">\r\n     <path d=\"M 530.414062 274.420313 \r\nL 550.414062 274.420313 \r\nL 550.414062 267.420313 \r\nL 530.414062 267.420313 \r\nz\r\n\" style=\"fill:#1f77b4;\"/>\r\n    </g>\r\n    <g id=\"text_42\">\r\n     <!-- dataset - normalsplit -->\r\n     <defs>\r\n      <path d=\"M 4.890625 31.390625 \r\nL 31.203125 31.390625 \r\nL 31.203125 23.390625 \r\nL 4.890625 23.390625 \r\nz\r\n\" id=\"DejaVuSans-45\"/>\r\n     </defs>\r\n     <g transform=\"translate(558.414062 274.420313)scale(0.1 -0.1)\">\r\n      <use xlink:href=\"#DejaVuSans-100\"/>\r\n      <use x=\"63.476562\" xlink:href=\"#DejaVuSans-97\"/>\r\n      <use x=\"124.755859\" xlink:href=\"#DejaVuSans-116\"/>\r\n      <use x=\"163.964844\" xlink:href=\"#DejaVuSans-97\"/>\r\n      <use x=\"225.244141\" xlink:href=\"#DejaVuSans-115\"/>\r\n      <use x=\"277.34375\" xlink:href=\"#DejaVuSans-101\"/>\r\n      <use x=\"338.867188\" xlink:href=\"#DejaVuSans-116\"/>\r\n      <use x=\"378.076172\" xlink:href=\"#DejaVuSans-32\"/>\r\n      <use x=\"409.863281\" xlink:href=\"#DejaVuSans-45\"/>\r\n      <use x=\"445.947266\" xlink:href=\"#DejaVuSans-32\"/>\r\n      <use x=\"477.734375\" xlink:href=\"#DejaVuSans-110\"/>\r\n      <use x=\"541.113281\" xlink:href=\"#DejaVuSans-111\"/>\r\n      <use x=\"602.294922\" xlink:href=\"#DejaVuSans-114\"/>\r\n      <use x=\"643.392578\" xlink:href=\"#DejaVuSans-109\"/>\r\n      <use x=\"740.804688\" xlink:href=\"#DejaVuSans-97\"/>\r\n      <use x=\"802.083984\" xlink:href=\"#DejaVuSans-108\"/>\r\n      <use x=\"829.867188\" xlink:href=\"#DejaVuSans-115\"/>\r\n      <use x=\"881.966797\" xlink:href=\"#DejaVuSans-112\"/>\r\n      <use x=\"945.443359\" xlink:href=\"#DejaVuSans-108\"/>\r\n      <use x=\"973.226562\" xlink:href=\"#DejaVuSans-105\"/>\r\n      <use x=\"1001.009766\" xlink:href=\"#DejaVuSans-116\"/>\r\n     </g>\r\n    </g>\r\n    <g id=\"patch_79\">\r\n     <path d=\"M 530.414062 289.098438 \r\nL 550.414062 289.098438 \r\nL 550.414062 282.098438 \r\nL 530.414062 282.098438 \r\nz\r\n\" style=\"fill:#ff7f0e;\"/>\r\n    </g>\r\n    <g id=\"text_43\">\r\n     <!-- dataset - iterative split -->\r\n     <defs>\r\n      <path d=\"M 2.984375 54.6875 \r\nL 12.5 54.6875 \r\nL 29.59375 8.796875 \r\nL 46.6875 54.6875 \r\nL 56.203125 54.6875 \r\nL 35.6875 0 \r\nL 23.484375 0 \r\nz\r\n\" id=\"DejaVuSans-118\"/>\r\n     </defs>\r\n     <g transform=\"translate(558.414062 289.098438)scale(0.1 -0.1)\">\r\n      <use xlink:href=\"#DejaVuSans-100\"/>\r\n      <use x=\"63.476562\" xlink:href=\"#DejaVuSans-97\"/>\r\n      <use x=\"124.755859\" xlink:href=\"#DejaVuSans-116\"/>\r\n      <use x=\"163.964844\" xlink:href=\"#DejaVuSans-97\"/>\r\n      <use x=\"225.244141\" xlink:href=\"#DejaVuSans-115\"/>\r\n      <use x=\"277.34375\" xlink:href=\"#DejaVuSans-101\"/>\r\n      <use x=\"338.867188\" xlink:href=\"#DejaVuSans-116\"/>\r\n      <use x=\"378.076172\" xlink:href=\"#DejaVuSans-32\"/>\r\n      <use x=\"409.863281\" xlink:href=\"#DejaVuSans-45\"/>\r\n      <use x=\"445.947266\" xlink:href=\"#DejaVuSans-32\"/>\r\n      <use x=\"477.734375\" xlink:href=\"#DejaVuSans-105\"/>\r\n      <use x=\"505.517578\" xlink:href=\"#DejaVuSans-116\"/>\r\n      <use x=\"544.726562\" xlink:href=\"#DejaVuSans-101\"/>\r\n      <use x=\"606.25\" xlink:href=\"#DejaVuSans-114\"/>\r\n      <use x=\"647.363281\" xlink:href=\"#DejaVuSans-97\"/>\r\n      <use x=\"708.642578\" xlink:href=\"#DejaVuSans-116\"/>\r\n      <use x=\"747.851562\" xlink:href=\"#DejaVuSans-105\"/>\r\n      <use x=\"775.634766\" xlink:href=\"#DejaVuSans-118\"/>\r\n      <use x=\"834.814453\" xlink:href=\"#DejaVuSans-101\"/>\r\n      <use x=\"896.337891\" xlink:href=\"#DejaVuSans-32\"/>\r\n      <use x=\"928.125\" xlink:href=\"#DejaVuSans-115\"/>\r\n      <use x=\"980.224609\" xlink:href=\"#DejaVuSans-112\"/>\r\n      <use x=\"1043.701172\" xlink:href=\"#DejaVuSans-108\"/>\r\n      <use x=\"1071.484375\" xlink:href=\"#DejaVuSans-105\"/>\r\n      <use x=\"1099.267578\" xlink:href=\"#DejaVuSans-116\"/>\r\n     </g>\r\n    </g>\r\n   </g>\r\n  </g>\r\n </g>\r\n <defs>\r\n  <clipPath id=\"p8539877249\">\r\n   <rect height=\"543.6\" width=\"558\" x=\"123.259375\" y=\"7.2\"/>\r\n  </clipPath>\r\n </defs>\r\n</svg>\r\n",
      "text/plain": "<Figure size 720x720 with 1 Axes>"
     },
     "metadata": {
      "needs_background": "light"
     },
     "output_type": "display_data"
    }
   ],
   "source": [
    "import matplotlib.pyplot as plt\n",
    "\n",
    "fig, ax = plt.subplots(1,1, figsize=(10,10))\n",
    "diff.plot(kind='barh', ax=ax)\n",
    "plt.xlabel('Diff in label proportion from original')\n",
    "plt.show()\n"
   ]
  },
  {
   "cell_type": "markdown",
   "metadata": {},
   "source": [
    "It seems that the normal train-test-split does a fine, if not better job, of capturing nearly the same proportion of labels as in the original dataset. <br>\n",
    "Since we will be using a OneVsRest strategy, we are interested in keeping the split proportion close to that of the original dataset."
   ]
  },
  {
   "cell_type": "code",
   "execution_count": 29,
   "metadata": {},
   "outputs": [],
   "source": [
    "# normal train test split\n",
    "X_train, X_test, y_train, y_test = train_test_split(X, Y, test_size=0.20)"
   ]
  },
  {
   "cell_type": "code",
   "execution_count": 30,
   "metadata": {},
   "outputs": [],
   "source": [
    "# split the train into train and validation set - we'll hold the test set out for the very end.\n",
    "X_train, X_val, y_train, y_val = train_test_split(X_train, y_train, test_size=0.20)"
   ]
  },
  {
   "cell_type": "code",
   "execution_count": 31,
   "metadata": {},
   "outputs": [
    {
     "name": "stderr",
     "output_type": "stream",
     "text": "C:\\Users\\jwilliams1\\AppData\\Local\\Continuum\\anaconda3\\lib\\site-packages\\sklearn\\ensemble\\forest.py:246: FutureWarning: The default value of n_estimators will change from 10 in version 0.20 to 100 in 0.22.\n  \"10 in version 0.20 to 100 in 0.22.\", FutureWarning)\n"
    },
    {
     "data": {
      "text/plain": "Pipeline(memory=None,\n     steps=[('msg_tokenizer', MessageTokenizer(lemmatize=True, remove_stops=True)), ('count_vec', CountVectorizer(analyzer='word', binary=False, decode_error='strict',\n        dtype=<class 'numpy.int64'>, encoding='utf-8', input='content',\n        lowercase=True, max_df=1.0, max_features=None, min_df=1,\n...obs=None,\n            oob_score=False, random_state=None, verbose=0,\n            warm_start=False))])"
     },
     "execution_count": 31,
     "metadata": {},
     "output_type": "execute_result"
    }
   ],
   "source": [
    "# fit the pipeline!\n",
    "pipeline.fit(X_train, y_train)"
   ]
  },
  {
   "cell_type": "markdown",
   "metadata": {},
   "source": [
    "### 5. Test the fitted model on the train data and the validation data.\n",
    "We'll save the test data for the very end."
   ]
  },
  {
   "cell_type": "code",
   "execution_count": 32,
   "metadata": {},
   "outputs": [],
   "source": [
    "y_pred_train = pipeline.predict(X_train)\n",
    "y_pred_val = pipeline.predict(X_val)"
   ]
  },
  {
   "cell_type": "code",
   "execution_count": 33,
   "metadata": {},
   "outputs": [],
   "source": [
    "y_prob_train = pipeline.predict_proba(X_train)\n",
    "y_prob_val = pipeline.predict_proba(X_val)"
   ]
  },
  {
   "cell_type": "code",
   "execution_count": 34,
   "metadata": {},
   "outputs": [
    {
     "data": {
      "text/plain": "((16657, 35), (4165, 35), (5206, 35))"
     },
     "execution_count": 34,
     "metadata": {},
     "output_type": "execute_result"
    }
   ],
   "source": [
    "y_pred_train.shape, y_pred_val.shape, y_test.shape"
   ]
  },
  {
   "cell_type": "code",
   "execution_count": 53,
   "metadata": {},
   "outputs": [
    {
     "name": "stdout",
     "output_type": "stream",
     "text": "related \n               precision    recall  f1-score   support\n\n           0       0.98      0.98      0.98      3924\n           1       0.99      0.99      0.99     12733\n\n   micro avg       0.99      0.99      0.99     16657\n   macro avg       0.99      0.99      0.99     16657\nweighted avg       0.99      0.99      0.99     16657\n\n[[ 3856    68]\n [   64 12669]]\nrequest \n               precision    recall  f1-score   support\n\n           0       0.99      1.00      0.99     13766\n           1       1.00      0.93      0.96      2891\n\n   micro avg       0.99      0.99      0.99     16657\n   macro avg       0.99      0.97      0.98     16657\nweighted avg       0.99      0.99      0.99     16657\n\n[[13755    11]\n [  197  2694]]\noffer \n               precision    recall  f1-score   support\n\n           0       1.00      1.00      1.00     16575\n           1       1.00      0.74      0.85        82\n\n   micro avg       1.00      1.00      1.00     16657\n   macro avg       1.00      0.87      0.93     16657\nweighted avg       1.00      1.00      1.00     16657\n\n[[16575     0]\n [   21    61]]\naid_related \n               precision    recall  f1-score   support\n\n           0       0.97      1.00      0.98      9682\n           1       1.00      0.96      0.98      6975\n\n   micro avg       0.98      0.98      0.98     16657\n   macro avg       0.98      0.98      0.98     16657\nweighted avg       0.98      0.98      0.98     16657\n\n[[9661   21]\n [ 282 6693]]\nmedical_help \n               precision    recall  f1-score   support\n\n           0       0.99      1.00      0.99     15316\n           1       1.00      0.85      0.92      1341\n\n   micro avg       0.99      0.99      0.99     16657\n   macro avg       0.99      0.92      0.96     16657\nweighted avg       0.99      0.99      0.99     16657\n\n[[15315     1]\n [  203  1138]]\nmedical_products \n               precision    recall  f1-score   support\n\n           0       0.99      1.00      1.00     15798\n           1       1.00      0.83      0.91       859\n\n   micro avg       0.99      0.99      0.99     16657\n   macro avg       0.99      0.92      0.95     16657\nweighted avg       0.99      0.99      0.99     16657\n\n[[15797     1]\n [  142   717]]\nsearch_and_rescue \n               precision    recall  f1-score   support\n\n           0       0.99      1.00      1.00     16189\n           1       1.00      0.76      0.86       468\n\n   micro avg       0.99      0.99      0.99     16657\n   macro avg       1.00      0.88      0.93     16657\nweighted avg       0.99      0.99      0.99     16657\n\n[[16188     1]\n [  111   357]]\nsecurity \n               precision    recall  f1-score   support\n\n           0       0.99      1.00      1.00     16342\n           1       1.00      0.73      0.84       315\n\n   micro avg       0.99      0.99      0.99     16657\n   macro avg       1.00      0.87      0.92     16657\nweighted avg       0.99      0.99      0.99     16657\n\n[[16342     0]\n [   85   230]]\nmilitary \n               precision    recall  f1-score   support\n\n           0       0.99      1.00      1.00     16099\n           1       1.00      0.82      0.90       558\n\n   micro avg       0.99      0.99      0.99     16657\n   macro avg       1.00      0.91      0.95     16657\nweighted avg       0.99      0.99      0.99     16657\n\n[[16099     0]\n [   99   459]]\nwater \n               precision    recall  f1-score   support\n\n           0       0.99      1.00      1.00     15563\n           1       1.00      0.92      0.96      1094\n\n   micro avg       0.99      0.99      0.99     16657\n   macro avg       1.00      0.96      0.98     16657\nweighted avg       0.99      0.99      0.99     16657\n\n[[15562     1]\n [   83  1011]]\nfood \n               precision    recall  f1-score   support\n\n           0       0.99      1.00      1.00     14771\n           1       1.00      0.94      0.97      1886\n\n   micro avg       0.99      0.99      0.99     16657\n   macro avg       1.00      0.97      0.98     16657\nweighted avg       0.99      0.99      0.99     16657\n\n[[14768     3]\n [  116  1770]]\nshelter \n               precision    recall  f1-score   support\n\n           0       0.99      1.00      0.99     15127\n           1       1.00      0.90      0.94      1530\n\n   micro avg       0.99      0.99      0.99     16657\n   macro avg       0.99      0.95      0.97     16657\nweighted avg       0.99      0.99      0.99     16657\n\n[[15125     2]\n [  159  1371]]\nclothing \n               precision    recall  f1-score   support\n\n           0       1.00      1.00      1.00     16400\n           1       1.00      0.84      0.91       257\n\n   micro avg       1.00      1.00      1.00     16657\n   macro avg       1.00      0.92      0.96     16657\nweighted avg       1.00      1.00      1.00     16657\n\n[[16400     0]\n [   41   216]]\nmoney \n               precision    recall  f1-score   support\n\n           0       1.00      1.00      1.00     16263\n           1       1.00      0.84      0.91       394\n\n   micro avg       1.00      1.00      1.00     16657\n   macro avg       1.00      0.92      0.96     16657\nweighted avg       1.00      1.00      1.00     16657\n\n[[16263     0]\n [   63   331]]\nmissing_people \n               precision    recall  f1-score   support\n\n           0       1.00      1.00      1.00     16484\n           1       1.00      0.76      0.86       173\n\n   micro avg       1.00      1.00      1.00     16657\n   macro avg       1.00      0.88      0.93     16657\nweighted avg       1.00      1.00      1.00     16657\n\n[[16484     0]\n [   42   131]]\nrefugees \n               precision    recall  f1-score   support\n\n           0       0.99      1.00      1.00     16105\n           1       1.00      0.78      0.88       552\n\n   micro avg       0.99      0.99      0.99     16657\n   macro avg       1.00      0.89      0.94     16657\nweighted avg       0.99      0.99      0.99     16657\n\n[[16105     0]\n [  120   432]]\ndeath \n               precision    recall  f1-score   support\n\n           0       0.99      1.00      1.00     15912\n           1       1.00      0.86      0.92       745\n\n   micro avg       0.99      0.99      0.99     16657\n   macro avg       1.00      0.93      0.96     16657\nweighted avg       0.99      0.99      0.99     16657\n\n[[15912     0]\n [  105   640]]\nother_aid \n               precision    recall  f1-score   support\n\n           0       0.98      1.00      0.99     14471\n           1       1.00      0.85      0.92      2186\n\n   micro avg       0.98      0.98      0.98     16657\n   macro avg       0.99      0.93      0.95     16657\nweighted avg       0.98      0.98      0.98     16657\n\n[[14467     4]\n [  320  1866]]\ninfrastructure_related \n               precision    recall  f1-score   support\n\n           0       0.98      1.00      0.99     15549\n           1       1.00      0.77      0.87      1108\n\n   micro avg       0.98      0.98      0.98     16657\n   macro avg       0.99      0.89      0.93     16657\nweighted avg       0.98      0.98      0.98     16657\n\n[[15547     2]\n [  252   856]]\ntransport \n               precision    recall  f1-score   support\n\n           0       0.99      1.00      1.00     15902\n           1       1.00      0.80      0.89       755\n\n   micro avg       0.99      0.99      0.99     16657\n   macro avg       1.00      0.90      0.94     16657\nweighted avg       0.99      0.99      0.99     16657\n\n[[15902     0]\n [  149   606]]\nbuildings \n               precision    recall  f1-score   support\n\n           0       0.99      1.00      0.99     15814\n           1       1.00      0.80      0.89       843\n\n   micro avg       0.99      0.99      0.99     16657\n   macro avg       0.99      0.90      0.94     16657\nweighted avg       0.99      0.99      0.99     16657\n\n[[15814     0]\n [  166   677]]\nelectricity \n               precision    recall  f1-score   support\n\n           0       1.00      1.00      1.00     16324\n           1       1.00      0.80      0.89       333\n\n   micro avg       1.00      1.00      1.00     16657\n   macro avg       1.00      0.90      0.94     16657\nweighted avg       1.00      1.00      1.00     16657\n\n[[16324     0]\n [   66   267]]\ntools \n               precision    recall  f1-score   support\n\n           0       1.00      1.00      1.00     16558\n           1       1.00      0.76      0.86        99\n\n   micro avg       1.00      1.00      1.00     16657\n   macro avg       1.00      0.88      0.93     16657\nweighted avg       1.00      1.00      1.00     16657\n\n[[16558     0]\n [   24    75]]\nhospitals \n               precision    recall  f1-score   support\n\n           0       1.00      1.00      1.00     16470\n           1       1.00      0.76      0.86       187\n\n   micro avg       1.00      1.00      1.00     16657\n   macro avg       1.00      0.88      0.93     16657\nweighted avg       1.00      1.00      1.00     16657\n\n[[16470     0]\n [   45   142]]\nshops \n               precision    recall  f1-score   support\n\n           0       1.00      1.00      1.00     16572\n           1       1.00      0.73      0.84        85\n\n   micro avg       1.00      1.00      1.00     16657\n   macro avg       1.00      0.86      0.92     16657\nweighted avg       1.00      1.00      1.00     16657\n\n[[16572     0]\n [   23    62]]\naid_centers \n               precision    recall  f1-score   support\n\n           0       1.00      1.00      1.00     16461\n           1       1.00      0.79      0.88       196\n\n   micro avg       1.00      1.00      1.00     16657\n   macro avg       1.00      0.89      0.94     16657\nweighted avg       1.00      1.00      1.00     16657\n\n[[16461     0]\n [   42   154]]\nother_infrastructure \n               precision    recall  f1-score   support\n\n           0       0.99      1.00      0.99     15916\n           1       1.00      0.74      0.85       741\n\n   micro avg       0.99      0.99      0.99     16657\n   macro avg       0.99      0.87      0.92     16657\nweighted avg       0.99      0.99      0.99     16657\n\n[[15915     1]\n [  193   548]]\nweather_related \n               precision    recall  f1-score   support\n\n           0       0.98      1.00      0.99     12017\n           1       1.00      0.96      0.98      4640\n\n   micro avg       0.99      0.99      0.99     16657\n   macro avg       0.99      0.98      0.98     16657\nweighted avg       0.99      0.99      0.99     16657\n\n[[12009     8]\n [  207  4433]]\nfloods \n               precision    recall  f1-score   support\n\n           0       0.99      1.00      0.99     15268\n           1       1.00      0.89      0.94      1389\n\n   micro avg       0.99      0.99      0.99     16657\n   macro avg       0.99      0.94      0.97     16657\nweighted avg       0.99      0.99      0.99     16657\n\n[[15268     0]\n [  157  1232]]\nstorm \n               precision    recall  f1-score   support\n\n           0       0.99      1.00      1.00     15086\n           1       1.00      0.92      0.96      1571\n\n   micro avg       0.99      0.99      0.99     16657\n   macro avg       0.99      0.96      0.98     16657\nweighted avg       0.99      0.99      0.99     16657\n\n[[15081     5]\n [  120  1451]]\nfire \n               precision    recall  f1-score   support\n\n           0       1.00      1.00      1.00     16473\n           1       1.00      0.76      0.86       184\n\n   micro avg       1.00      1.00      1.00     16657\n   macro avg       1.00      0.88      0.93     16657\nweighted avg       1.00      1.00      1.00     16657\n\n[[16473     0]\n [   45   139]]\nearthquake \n               precision    recall  f1-score   support\n\n           0       0.99      1.00      1.00     15143\n           1       1.00      0.95      0.97      1514\n\n   micro avg       0.99      0.99      0.99     16657\n   macro avg       1.00      0.97      0.98     16657\nweighted avg       0.99      0.99      0.99     16657\n\n[[15137     6]\n [   82  1432]]\ncold \n               precision    recall  f1-score   support\n\n           0       1.00      1.00      1.00     16312\n           1       1.00      0.78      0.88       345\n\n   micro avg       1.00      1.00      1.00     16657\n   macro avg       1.00      0.89      0.94     16657\nweighted avg       1.00      1.00      1.00     16657\n\n[[16312     0]\n [   76   269]]\nother_weather \n               precision    recall  f1-score   support\n\n           0       0.99      1.00      0.99     15762\n           1       1.00      0.80      0.89       895\n\n   micro avg       0.99      0.99      0.99     16657\n   macro avg       0.99      0.90      0.94     16657\nweighted avg       0.99      0.99      0.99     16657\n\n[[15762     0]\n [  175   720]]\ndirect_report \n               precision    recall  f1-score   support\n\n           0       0.98      1.00      0.99     13367\n           1       0.99      0.93      0.96      3290\n\n   micro avg       0.98      0.98      0.98     16657\n   macro avg       0.99      0.96      0.98     16657\nweighted avg       0.98      0.98      0.98     16657\n\n[[13350    17]\n [  239  3051]]\n\nExample output:\n\nrelated \n               precision    recall  f1-score   support\n\n         0.0       0.98      0.98      0.98      3920\n         1.0       0.99      0.99      0.99     12737\n\n   micro avg       0.99      0.99      0.99     16657\n   macro avg       0.99      0.99      0.99     16657\nweighted avg       0.99      0.99      0.99     16657\n\n[[ 3856    64]\n [   68 12669]]\nrequest \n               precision    recall  f1-score   support\n\n         0.0       1.00      0.99      0.99     13952\n         1.0       0.93      1.00      0.96      2705\n\n   micro avg       0.99      0.99      0.99     16657\n   macro avg       0.97      0.99      0.98     16657\nweighted avg       0.99      0.99      0.99     16657\n\n[[13755   197]\n [   11  2694]]\n\n....... lots more\n\n"
    }
   ],
   "source": [
    "# iterate thru all the labels and check the precision, recall, and f1 score on each individual label for the training data \n",
    "\n",
    "from sklearn.metrics import confusion_matrix\n",
    "\n",
    "y_pred_train = pd.DataFrame(y_pred_train, columns=Y.columns)\n",
    "y_train = pd.DataFrame(y_train, columns=Y.columns)\n",
    "\n",
    "for col in Y.columns:\n",
    "    print(col, '\\n', classification_report(y_train[col], y_pred_train[col]))\n",
    "    print(confusion_matrix(y_train[col], y_pred_train[col]))\n",
    "\n",
    "\n",
    "print(\"\"\"\n",
    "Example output:\n",
    "\n",
    "related \n",
    "               precision    recall  f1-score   support\n",
    "\n",
    "         0.0       0.98      0.98      0.98      3920\n",
    "         1.0       0.99      0.99      0.99     12737\n",
    "\n",
    "   micro avg       0.99      0.99      0.99     16657\n",
    "   macro avg       0.99      0.99      0.99     16657\n",
    "weighted avg       0.99      0.99      0.99     16657\n",
    "\n",
    "[[ 3856    64]\n",
    " [   68 12669]]\n",
    "request \n",
    "               precision    recall  f1-score   support\n",
    "\n",
    "         0.0       1.00      0.99      0.99     13952\n",
    "         1.0       0.93      1.00      0.96      2705\n",
    "\n",
    "   micro avg       0.99      0.99      0.99     16657\n",
    "   macro avg       0.97      0.99      0.98     16657\n",
    "weighted avg       0.99      0.99      0.99     16657\n",
    "\n",
    "[[13755   197]\n",
    " [   11  2694]]\n",
    "\n",
    "....... lots more\n",
    "\"\"\")"
   ]
  },
  {
   "cell_type": "code",
   "execution_count": 56,
   "metadata": {},
   "outputs": [
    {
     "name": "stdout",
     "output_type": "stream",
     "text": "\nExample output:\n\nrelated \n               precision    recall  f1-score   support\n\n         0.0       0.52      0.64      0.58       827\n         1.0       0.91      0.86      0.88      3338\n\n   micro avg       0.81      0.81      0.81      4165\n   macro avg       0.71      0.75      0.73      4165\nweighted avg       0.83      0.81      0.82      4165\n\nrelated \n [[ 528  299]\n [ 481 2857]]\n\n\nrequest \n               precision    recall  f1-score   support\n\n         0.0       0.98      0.90      0.94      3804\n         1.0       0.43      0.81      0.56       361\n\n   micro avg       0.89      0.89      0.89      4165\n   macro avg       0.71      0.85      0.75      4165\nweighted avg       0.93      0.89      0.90      4165\n\nrequest \n [[3415  389]\n [  68  293]]\n\n"
    }
   ],
   "source": [
    "# looks good on the training data - how does it do on validation data?\n",
    "\n",
    "y_pred_val = pd.DataFrame(y_pred_val, columns=Y.columns)\n",
    "y_val = pd.DataFrame(y_val, columns=Y.columns)\n",
    "\n",
    "for col in Y.columns:\n",
    "    print(col, '\\n', classification_report(y_val[col], y_pred_val[col]))\n",
    "    print(col, '\\n', confusion_matrix(y_val[col], y_pred_val[col]))\n",
    "    print('\\n')\n",
    "\n",
    "print(\"\"\"\n",
    "Example output:\n",
    "\n",
    "related \n",
    "               precision    recall  f1-score   support\n",
    "\n",
    "         0.0       0.52      0.64      0.58       827\n",
    "         1.0       0.91      0.86      0.88      3338\n",
    "\n",
    "   micro avg       0.81      0.81      0.81      4165\n",
    "   macro avg       0.71      0.75      0.73      4165\n",
    "weighted avg       0.83      0.81      0.82      4165\n",
    "\n",
    "related \n",
    " [[ 528  299]\n",
    " [ 481 2857]]\n",
    "\n",
    "\n",
    "request \n",
    "               precision    recall  f1-score   support\n",
    "\n",
    "         0.0       0.98      0.90      0.94      3804\n",
    "         1.0       0.43      0.81      0.56       361\n",
    "\n",
    "   micro avg       0.89      0.89      0.89      4165\n",
    "   macro avg       0.71      0.85      0.75      4165\n",
    "weighted avg       0.93      0.89      0.90      4165\n",
    "\n",
    "request \n",
    " [[3415  389]\n",
    " [  68  293]]\n",
    "\"\"\")"
   ]
  },
  {
   "cell_type": "markdown",
   "metadata": {},
   "source": [
    "The performance of the classifier on the training data seems fairly good overall. <br>\n",
    "However, it's performance on the validation data, which is poor, seems to indicate that it's overfitting the training data. <br>\n",
    "Another way to gauge the results of a multi-label output is by computing the hamming loss. <br>\n",
    "Hamming loss is the fraction of labels that are incorrectly predicted, i.e., the fraction of the wrong labels to the total number of labels."
   ]
  },
  {
   "cell_type": "code",
   "execution_count": 57,
   "metadata": {},
   "outputs": [
    {
     "name": "stdout",
     "output_type": "stream",
     "text": "Hamming loss on train:  0.007660443056973045\nHamming loss on val:  0.05938604013033785\n"
    }
   ],
   "source": [
    "# compute hamming loss as well\n",
    "from sklearn.metrics import hamming_loss, make_scorer\n",
    "\n",
    "# drop related column while measuring this because there are some rows with related=2\n",
    "print('Hamming loss on train: ', hamming_loss(y_train, y_pred_train))\n",
    "\n",
    "print('Hamming loss on val: ', hamming_loss(y_val, y_pred_val))"
   ]
  },
  {
   "cell_type": "markdown",
   "execution_count": null,
   "metadata": {},
   "outputs": [],
   "source": [
    "Still not too bad overall. The hamming loss tells us that on the validation data, 6% of all labels applied were incorrect. <br>\n",
    "However, when you consider that many labels are very sparsely represented, we should acknowledge that it is perhaps trivial to achieve this score. "
   ]
  },
  {
   "cell_type": "markdown",
   "metadata": {},
   "source": [
    "### Test three different classifiers before tuning hyper params\n",
    "\n",
    "We will test out\n",
    "1. Multilayer Perceptron - Directly supports multi-label - <a href=\"https://scikit-learn.org/stable/modules/generated/sklearn.neural_network.MLPClassifier.html#sklearn.neural_network.MLPClassifier\"> link </a>\n",
    "2. RandomForestClassifier in a OneVsRest framework.\n",
    "3. A LinearSVC wrapped in OneVsRestClassifier. <br> In essence, train a separate model to predict for each individual label. <a href=\"https://scikit-learn.org/stable/modules/generated/sklearn.svm.LinearSVC.html\"> LinearSVC link </a> and <a href=\"https://scikit-learn.org/stable/modules/generated/sklearn.multiclass.OneVsRestClassifier.html\"> OneVsRest link </a>"
   ]
  },
  {
   "cell_type": "code",
   "execution_count": 44,
   "metadata": {},
   "outputs": [],
   "source": [
    "# import them\n",
    "\n",
    "from sklearn.svm import LinearSVC\n",
    "from sklearn.neural_network import MLPClassifier\n",
    "from sklearn.multiclass import OneVsRestClassifier"
   ]
  },
  {
   "cell_type": "code",
   "execution_count": 68,
   "metadata": {},
   "outputs": [],
   "source": [
    "# a quick and dirty function to look at model results\n",
    "from sklearn.metrics import confusion_matrix\n",
    "\n",
    "def model_compare(y_true, y_pred):\n",
    "    y_pred2 = pd.DataFrame(y_pred, columns=Y.columns)\n",
    "    y_train2 = pd.DataFrame(y_train, columns=Y.columns)\n",
    "\n",
    "    for col in Y.columns:\n",
    "        print(col, '\\n', classification_report(y_train2[col], y_pred2[col]))\n",
    "        \n",
    "        print('\\n', confusion_matrix(y_train2[col], y_pred2[col]))\n",
    "        \n",
    "    print(f\"Hamming Loss: {hamming_loss(y_true, y_pred)}\")\n",
    "    "
   ]
  },
  {
   "cell_type": "code",
   "execution_count": 46,
   "metadata": {},
   "outputs": [],
   "source": [
    "pipeline_svc = Pipeline([\n",
    "    ('msg_tokenizer', MessageTokenizer()),\n",
    "    # Count Vectorizer with Tokenizer\n",
    "    ('count_vec', CountVectorizer()),\n",
    "    # TF-IDF Transformer\n",
    "    ('tfidf', TfidfTransformer()),\n",
    "    # classifier - one classifier per label\n",
    "    ('clf', OneVsRestClassifier(LinearSVC()))\n",
    "])\n",
    "\n",
    "pipeline_svc.fit(X_train, y_train)\n",
    "y_pred_svc = pipeline_svc.predict(X_train)\n",
    "\n"
   ]
  },
  {
   "cell_type": "code",
   "execution_count": 60,
   "metadata": {},
   "outputs": [
    {
     "name": "stdout",
     "output_type": "stream",
     "text": "\nExample output:\n\nrelated \n               precision    recall  f1-score   support\n\n           0       0.89      0.93      0.91      3758\n           1       0.98      0.97      0.97     12899\n\n   micro avg       0.96      0.96      0.96     16657\n   macro avg       0.94      0.95      0.94     16657\nweighted avg       0.96      0.96      0.96     16657\n\n\n [[ 3499   259]\n [  425 12474]]\nrequest \n               precision    recall  f1-score   support\n\n           0       0.99      0.97      0.98     14085\n           1       0.83      0.93      0.88      2572\n\n   micro avg       0.96      0.96      0.96     16657\n   macro avg       0.91      0.95      0.93     16657\nweighted avg       0.96      0.96      0.96     16657\n\n\n [[13595   490]\n [  171  2401]]\n\n"
    }
   ],
   "source": [
    "model_compare(y_train, y_pred_svc)\n",
    "\n",
    "print(\"\"\"\n",
    "Example output:\n",
    "\n",
    "related \n",
    "               precision    recall  f1-score   support\n",
    "\n",
    "           0       0.89      0.93      0.91      3758\n",
    "           1       0.98      0.97      0.97     12899\n",
    "\n",
    "   micro avg       0.96      0.96      0.96     16657\n",
    "   macro avg       0.94      0.95      0.94     16657\n",
    "weighted avg       0.96      0.96      0.96     16657\n",
    "\n",
    "\n",
    " [[ 3499   259]\n",
    " [  425 12474]]\n",
    "request \n",
    "               precision    recall  f1-score   support\n",
    "\n",
    "           0       0.99      0.97      0.98     14085\n",
    "           1       0.83      0.93      0.88      2572\n",
    "\n",
    "   micro avg       0.96      0.96      0.96     16657\n",
    "   macro avg       0.91      0.95      0.93     16657\n",
    "weighted avg       0.96      0.96      0.96     16657\n",
    "\n",
    "\n",
    " [[13595   490]\n",
    " [  171  2401]]\n",
    "\"\"\")"
   ]
  },
  {
   "cell_type": "code",
   "execution_count": 62,
   "metadata": {},
   "outputs": [],
   "source": [
    "# try it on the validation set\n",
    "y_pred_val_svc = pipeline_svc.predict(X_val)"
   ]
  },
  {
   "cell_type": "code",
   "execution_count": 64,
   "metadata": {},
   "outputs": [
    {
     "data": {
      "text/plain": "((4165,), (4165, 35), (4165, 35))"
     },
     "execution_count": 64,
     "metadata": {},
     "output_type": "execute_result"
    }
   ],
   "source": [
    "X_val.shape, y_val.shape, y_pred_val_svc.shape"
   ]
  },
  {
   "cell_type": "code",
   "execution_count": 82,
   "metadata": {},
   "outputs": [
    {
     "name": "stdout",
     "output_type": "stream",
     "text": "\n\nExample output: \n\nrelated \n               precision    recall  f1-score   support\n\n           0       0.65      0.52      0.58      1009\n           1       0.86      0.91      0.88      3156\n\n   micro avg       0.82      0.82      0.82      4165\n   macro avg       0.75      0.71      0.73      4165\nweighted avg       0.81      0.82      0.81      4165\n\n[[ 521  488]\n [ 277 2879]]\n1\nrequest \n               precision    recall  f1-score   support\n\n           0       0.92      0.96      0.94      3483\n           1       0.74      0.55      0.63       682\n\n   micro avg       0.89      0.89      0.89      4165\n   macro avg       0.83      0.76      0.79      4165\nweighted avg       0.89      0.89      0.89      4165\n\n[[3349  134]\n [ 304  378]]\n \n"
    }
   ],
   "source": [
    "\n",
    "for idx, col in enumerate(Y.columns):\n",
    "    print(idx)\n",
    "    print(col, '\\n', classification_report(y_val.values[:, idx], y_pred_val_svc[:, idx]))\n",
    "    print(confusion_matrix(y_val.values[:, idx], y_pred_val_svc[:, idx]))\n",
    "\n",
    "print(f\"Hamming Loss {hamming_loss(y_val, y_pred_val_svc)}\")\n",
    "\n",
    "\n",
    "print(\"\"\"\n",
    "\n",
    "Example output: \n",
    "\n",
    "related \n",
    "               precision    recall  f1-score   support\n",
    "\n",
    "           0       0.65      0.52      0.58      1009\n",
    "           1       0.86      0.91      0.88      3156\n",
    "\n",
    "   micro avg       0.82      0.82      0.82      4165\n",
    "   macro avg       0.75      0.71      0.73      4165\n",
    "weighted avg       0.81      0.82      0.81      4165\n",
    "\n",
    "[[ 521  488]\n",
    " [ 277 2879]]\n",
    "1\n",
    "request \n",
    "               precision    recall  f1-score   support\n",
    "\n",
    "           0       0.92      0.96      0.94      3483\n",
    "           1       0.74      0.55      0.63       682\n",
    "\n",
    "   micro avg       0.89      0.89      0.89      4165\n",
    "   macro avg       0.83      0.76      0.79      4165\n",
    "weighted avg       0.89      0.89      0.89      4165\n",
    "\n",
    "[[3349  134]\n",
    " [ 304  378]]\n",
    " \"\"\")"
   ]
  },
  {
   "cell_type": "code",
   "execution_count": 83,
   "metadata": {},
   "outputs": [
    {
     "name": "stdout",
     "output_type": "stream",
     "text": "Hamming Loss 0.05308866403704339\n"
    }
   ],
   "source": [
    "# hamming loss on the validation set\n",
    "print(f\"Hamming Loss {hamming_loss(y_val, y_pred_val_svc)}\")"
   ]
  },
  {
   "cell_type": "code",
   "execution_count": 84,
   "metadata": {},
   "outputs": [],
   "source": [
    "pipeline_mlp = Pipeline([\n",
    "    ('msg_tokenizer', MessageTokenizer()),\n",
    "    # Count Vectorizer with Tokenizer\n",
    "    ('count_vec', CountVectorizer()),\n",
    "    # TF-IDF Transformer\n",
    "    ('tfidf', TfidfTransformer()),\n",
    "    # classifier - one classifier per label\n",
    "    ('clf', MLPClassifier())\n",
    "])\n",
    "\n",
    "pipeline_mlp.fit(X_train, y_train)\n",
    "y_pred_mlp = pipeline_mlp.predict(X_train)\n",
    "y_pred_val_mlp = pipeline_mlp.predict(X_val)"
   ]
  },
  {
   "cell_type": "code",
   "execution_count": 0,
   "metadata": {},
   "outputs": [],
   "source": [
    "print(f\"Hamming loss: {hamming_loss(y_train, y_pred_mlp)}\")\n",
    "print(f\"Hamming loss: {hamming_loss(y_val, y_pred_val_mlp)}\")"
   ]
  },
  {
   "cell_type": "code",
   "metadata": {},
   "source": [
    "Hmmmmmmmmmmm. Looks like that neural net is way overfitting"
   ]
  },
  {
   "cell_type": "code",
   "execution_count": 0,
   "metadata": {},
   "outputs": [],
   "source": [
    "pipeline_rf = Pipeline([\n",
    "    ('msg_tokenizer', MessageTokenizer()),\n",
    "    # Count Vectorizer with Tokenizer\n",
    "    ('count_vec', CountVectorizer()),\n",
    "    # TF-IDF Transformer\n",
    "    ('tfidf', TfidfTransformer()),\n",
    "    # classifier - one classifier per label\n",
    "    ('clf', OneVsRestClassifier(RandomForestClassifier()))\n",
    "])\n",
    "\n",
    "pipeline_rf.fit(X_train, y_train)\n",
    "y_pred_rf = pipeline_rf.predict(X_train)\n",
    "y_pred_val_rf = pipeline_rf.predict(X_val)"
   ]
  },
  {
   "cell_type": "code",
   "execution_count": 0,
   "metadata": {},
   "outputs": [],
   "source": [
    "print(f\"Hamming loss: {hamming_loss(y_train, y_pred_rf)}\")\n",
    "print(f\"Hamming loss: {hamming_loss(y_val, y_pred_val_rf)}\")"
   ]
  },
  {
   "cell_type": "markdown",
   "metadata": {},
   "source": [
    "The SVC Classifier is not as good at distinguishing between the majority and the minority classes. Accuracy on the individual labels is worse, and Hamming score is worse."
   ]
  },
  {
   "cell_type": "code",
   "execution_count": 98,
   "metadata": {},
   "outputs": [],
   "source": [
    "# tune the grid with hamming loss  - https://scikit-learn.org/stable/modules/generated/sklearn.metrics.hamming_loss.html\n",
    "# make a custom scorer https://scikit-learn.org/stable/modules/model_evaluation.html#scoring\n",
    "from sklearn.metrics import hamming_loss, make_scorer\n",
    "hamming_scorer = make_scorer(hamming_loss, greater_is_better=False)\n"
   ]
  },
  {
   "cell_type": "code",
   "execution_count": null,
   "metadata": {},
   "outputs": [],
   "source": [
    "# create a DenseTranformer class to make sure the output is correct for the GaussianNB\n",
    "\n",
    "class DenseTransformer(TransformerMixin):\n",
    "\n",
    "    def fit(self, X, y=None, **fit_params):\n",
    "        return self\n",
    "\n",
    "    def transform(self, X, y=None, **fit_params):\n",
    "        return X.todense()"
   ]
  },
  {
   "cell_type": "code",
   "execution_count": null,
   "metadata": {},
   "outputs": [],
   "source": [
    "pipeline_nb = Pipeline([\n",
    "    ('msg_tokenizer', MessageTokenizer()),\n",
    "    # Count Vectorizer with Tokenizer\n",
    "    ('count_vec', CountVectorizer(tokenizer=tokenize)),\n",
    "    # TF-IDF Transformer\n",
    "    ('tfidf', TfidfTransformer()),\n",
    "    # make sure the output is dense, not sparse - needed for GaussianNB\n",
    "    ('dense', DenseTransformer()),\n",
    "    # classifier - one classifier per label\n",
    "    ('clf', MultiOutputClassifier(estimator=GaussianNB()))\n",
    "])\n",
    "\n",
    "pipeline_nb.fit(X_train.values, y_train)\n",
    "y_pred_nb = pipeline_nb.predict(X_train.values)\n",
    "\n",
    "model_compare(y_pred_nb, y_train)"
   ]
  },
  {
   "cell_type": "markdown",
   "metadata": {},
   "source": [
    "Choosing to go with the RandomForest model because it seems to yield the best results on training set."
   ]
  },
  {
   "cell_type": "markdown",
   "metadata": {},
   "source": [
    "### 6. Improve your model\n",
    "Use grid search to find better parameters. "
   ]
  },
  {
   "cell_type": "code",
   "execution_count": 1,
   "metadata": {},
   "outputs": [
    {
     "ename": "NameError",
     "evalue": "name 'RandomizedSearchCV' is not defined",
     "output_type": "error",
     "traceback": [
      "\u001b[0;31m---------------------------------------------------------------------------\u001b[0m",
      "\u001b[0;31mNameError\u001b[0m                                 Traceback (most recent call last)",
      "\u001b[0;32m<ipython-input-1-ae2fec35b5c5>\u001b[0m in \u001b[0;36m<module>\u001b[0;34m()\u001b[0m\n\u001b[1;32m     13\u001b[0m }\n\u001b[1;32m     14\u001b[0m \u001b[0;34m\u001b[0m\u001b[0m\n\u001b[0;32m---> 15\u001b[0;31m \u001b[0mcv\u001b[0m \u001b[0;34m=\u001b[0m \u001b[0mRandomizedSearchCV\u001b[0m\u001b[0;34m(\u001b[0m\u001b[0mpipeline\u001b[0m\u001b[0;34m,\u001b[0m \u001b[0msearch_params\u001b[0m\u001b[0;34m,\u001b[0m \u001b[0mn_iter\u001b[0m\u001b[0;34m=\u001b[0m\u001b[0;36m5\u001b[0m\u001b[0;34m,\u001b[0m \u001b[0mn_jobs\u001b[0m\u001b[0;34m=\u001b[0m\u001b[0;34m-\u001b[0m\u001b[0;36m1\u001b[0m\u001b[0;34m,\u001b[0m \u001b[0mscoring\u001b[0m\u001b[0;34m=\u001b[0m\u001b[0mhamming_scorer\u001b[0m\u001b[0;34m)\u001b[0m\u001b[0;34m\u001b[0m\u001b[0m\n\u001b[0m\u001b[1;32m     16\u001b[0m \u001b[0msearch\u001b[0m \u001b[0;34m=\u001b[0m \u001b[0mcv\u001b[0m\u001b[0;34m.\u001b[0m\u001b[0mfit\u001b[0m\u001b[0;34m(\u001b[0m\u001b[0mX_train\u001b[0m\u001b[0;34m,\u001b[0m \u001b[0my_train\u001b[0m\u001b[0;34m)\u001b[0m\u001b[0;34m\u001b[0m\u001b[0m\n",
      "\u001b[0;31mNameError\u001b[0m: name 'RandomizedSearchCV' is not defined"
     ]
    }
   ],
   "source": [
    "search_params = {\n",
    "    'msg_tokenizer__remove_stops': [False, True],\n",
    "    'msg_tokenizer__lemmatize': [False, True],\n",
    "    'count_vec__ngram_range': [(1,1), (1,2), (1,3)],\n",
    "    'count_vec__max_features': [None, 100, 500, 1000],\n",
    "    'tfidf__norm': [None, 'l1', 'l2'],\n",
    "    'tfidf__use_idf': [False, True],\n",
    "    'tfidf__smooth_idf': [False, True],\n",
    "    'clf__estimator__n_estimators': [10, 100, 500],\n",
    "    'clf__estimator__max_depth': [None, 50, 100, 500],\n",
    "    'clf__estimator__bootstrap': [True, False],\n",
    "    'clf__estimator__class_weight': [None, 'balanced']\n",
    "}\n",
    "\n",
    "cv = RandomizedSearchCV(pipeline, search_params, n_iter=5, n_jobs=-1, scoring=hamming_scorer)\n",
    "search = cv.fit(X_train, y_train)"
   ]
  },
  {
   "cell_type": "code",
   "execution_count": null,
   "metadata": {},
   "outputs": [],
   "source": [
    "cv2 = RandomizedSearchCV(pipeline, search_params, n_iter=10, n_jobs=-1, scoring=hamming_score)\n",
    "search2 = cv.fit(X_train, y_train)"
   ]
  },
  {
   "cell_type": "markdown",
   "metadata": {},
   "source": [
    "### 7. Test your model\n",
    "Show the accuracy, precision, and recall of the tuned model.  \n",
    "\n",
    "Since this project focuses on code quality, process, and  pipelines, there is no minimum performance metric needed to pass. However, make sure to fine tune your models for accuracy, precision and recall to make your project stand out - especially for your portfolio!"
   ]
  },
  {
   "cell_type": "code",
   "execution_count": null,
   "metadata": {},
   "outputs": [],
   "source": []
  },
  {
   "cell_type": "markdown",
   "metadata": {},
   "source": [
    "### 8. Try improving your model further. Here are a few ideas:\n",
    "* try other machine learning algorithms\n",
    "* add other features besides the TF-IDF"
   ]
  },
  {
   "cell_type": "code",
   "execution_count": null,
   "metadata": {},
   "outputs": [],
   "source": []
  },
  {
   "cell_type": "markdown",
   "metadata": {},
   "source": [
    "### 9. Export your model as a pickle file"
   ]
  },
  {
   "cell_type": "code",
   "execution_count": null,
   "metadata": {},
   "outputs": [],
   "source": []
  },
  {
   "cell_type": "markdown",
   "metadata": {},
   "source": [
    "### 10. Use this notebook to complete `train.py`\n",
    "Use the template file attached in the Resources folder to write a script that runs the steps above to create a database and export a model based on a new dataset specified by the user."
   ]
  },
  {
   "cell_type": "code",
   "execution_count": null,
   "metadata": {},
   "outputs": [],
   "source": []
  }
 ],
 "metadata": {
  "kernelspec": {
   "display_name": "Python 3",
   "language": "python",
   "name": "python3"
  },
  "language_info": {
   "codemirror_mode": {
    "name": "ipython",
    "version": 3
   },
   "file_extension": ".py",
   "mimetype": "text/x-python",
   "name": "python",
   "nbconvert_exporter": "python",
   "pygments_lexer": "ipython3",
   "version": "3.7.1-final"
  }
 },
 "nbformat": 4,
 "nbformat_minor": 2
}